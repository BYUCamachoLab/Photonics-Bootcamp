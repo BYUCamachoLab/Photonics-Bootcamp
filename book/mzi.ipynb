{
 "cells": [
  {
   "attachments": {},
   "cell_type": "markdown",
   "metadata": {},
   "source": [
    "# Mach-Zehnder Interferometer\n",
    "\n",
    "An interferometer is just an instrument that utilizes the difference interfecence of two beams of light to make precise measurements.\n",
    "\n",
    "![Image of an electromagnetic wave currently a placeholder image](https://raw.githubusercontent.com/BYUCamachoLab/Photonics-Bootcamp/main/book/images/Notebook_Images/electromagnetic_wave_diagram.png)\n",
    "\n",
    "The Mach-Zehnder Interferometer splits a light beam, sends the light down two different paths and recombines the light."
   ]
  },
  {
   "cell_type": "markdown",
   "metadata": {},
   "source": [
    "![Image of an electromagnetic wave currently a placeholder image](https://raw.githubusercontent.com/BYUCamachoLab/Photonics-Bootcamp/main/book/images/Notebook_Images/electromagnetic_wave_diagram.png)"
   ]
  },
  {
   "attachments": {},
   "cell_type": "markdown",
   "metadata": {},
   "source": [
    "# Balanced vs. Imbalanced"
   ]
  },
  {
   "cell_type": "markdown",
   "metadata": {},
   "source": []
  },
  {
   "attachments": {},
   "cell_type": "markdown",
   "metadata": {},
   "source": [
    "$$\n",
    "\\beta_{1} = \\frac{2\\pi n_{1}}{\\lambda}\n",
    "$$"
   ]
  },
  {
   "attachments": {},
   "cell_type": "markdown",
   "metadata": {},
   "source": [
    "$$\n",
    "\\beta_{2} = \\frac{2\\pi n_{2}}{\\lambda}\n",
    "$$"
   ]
  },
  {
   "attachments": {},
   "cell_type": "markdown",
   "metadata": {},
   "source": [
    "$$\n",
    "E_{o1} = E_{1}e^{-i\\beta_{1}L_{1}-\\frac{\\alpha_{1}}{2}L_{1}} = \\frac{E_{i}}{\\sqrt{2}}e^{-i\\beta_{1}L_{1}-\\frac{\\alpha_{1}}{2}L_{1}}\n",
    "$$"
   ]
  },
  {
   "attachments": {},
   "cell_type": "markdown",
   "metadata": {},
   "source": [
    "$$\n",
    "E_{o2} = E_{1}e^{-i\\beta_{2}L_{2}-\\frac{\\alpha_{2}}{2}L_{2}} = \\frac{E_{i}}{\\sqrt{2}}e^{-i\\beta_{2}L_{2}-\\frac{\\alpha_{2}}{2}L_{2}}\n",
    "$$"
   ]
  }
 ],
 "metadata": {
  "kernelspec": {
   "display_name": "Python 3",
   "language": "python",
   "name": "python3"
  },
  "language_info": {
   "codemirror_mode": {
    "name": "ipython",
    "version": 3
   },
   "file_extension": ".py",
   "mimetype": "text/x-python",
   "name": "python",
   "nbconvert_exporter": "python",
   "pygments_lexer": "ipython3",
   "version": "3.10.11"
  },
  "orig_nbformat": 4
 },
 "nbformat": 4,
 "nbformat_minor": 2
}
