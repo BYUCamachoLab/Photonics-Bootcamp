{
 "cells": [
  {
   "attachments": {},
   "cell_type": "markdown",
   "metadata": {},
   "source": [
    "# Multimode Interferometers (MMIs)\n",
    "\n",
    "MMIs are devices that are used to combine and split light in a predictable way. They are designed not only to output a certain fraction of the input power, but are also designed so that the outputs have a certain phase difference. The basic design of an MMI includes the multimode region (a.k.a the body of the MMI) and tapers that gradually widen the input and output waveguides as they go into this region. The multimode region can be thought of as a wide waveguide that supports many guided moded. MMIs are denoted by the number of input and output ports they have (# of input ports) x (# output ports). So, a 2x2 MMI will have two input and two output ports.\n",
    "\n",
    "**Insert gdsfactory image of mmi -- 1x2,2x2**"
   ]
  },
  {
   "attachments": {},
   "cell_type": "markdown",
   "metadata": {},
   "source": [
    "### Self-Imaging\n",
    "\n",
    "MMIs work on the principle of self-imaging. An \"image\" occurs when the electric fields at some distance in the MMI match the fields at the input. A wave is excited in one of the input ports and as light enters the multimode region, it scatters and interferes with itself as it reflects off of the walls of the MMI. As it either interferes constructively and destructively, a field pattern is created. At a certain length, these images are replicas of the input.\n",
    "\n",
    "* Need pictures\n",
    "* How to determine the length of the MMI body"
   ]
  },
  {
   "cell_type": "code",
   "execution_count": null,
   "metadata": {},
   "outputs": [],
   "source": [
    "# Some sort of MMI simulation so can see self-imaging?"
   ]
  },
  {
   "attachments": {},
   "cell_type": "markdown",
   "metadata": {},
   "source": [
    "### MMI Applications"
   ]
  },
  {
   "attachments": {},
   "cell_type": "markdown",
   "metadata": {},
   "source": [
    "### Sources"
   ]
  }
 ],
 "metadata": {
  "kernelspec": {
   "display_name": "pmp",
   "language": "python",
   "name": "python3"
  },
  "language_info": {
   "codemirror_mode": {
    "name": "ipython",
    "version": 3
   },
   "file_extension": ".py",
   "mimetype": "text/x-python",
   "name": "python",
   "nbconvert_exporter": "python",
   "pygments_lexer": "ipython3",
   "version": "3.11.0"
  },
  "orig_nbformat": 4
 },
 "nbformat": 4,
 "nbformat_minor": 2
}
