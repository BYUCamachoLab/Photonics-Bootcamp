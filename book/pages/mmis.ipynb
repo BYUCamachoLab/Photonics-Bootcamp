{
 "cells": [
  {
   "attachments": {},
   "cell_type": "markdown",
   "metadata": {},
   "source": [
    "# Multimode Interferometers (MMIs)\n",
    "\n",
    "MMIs are devices that are used to combine and split light in a predictable way. They are designed not only to output a certain fraction of the input power, but are also designed so that the outputs have a certain phase difference.\n",
    "\n",
    "The basic design of an MMI includes the multimode region (a.k.a the body of the MMI) which is a multimode waveguide. To support more than three modes and be considered \"multimode\", the waveguide is wider than a single mode waveguide. Tapers to gradually widen the input and output waveguides as they go in and out of this multimode region are also common. MMIs are denoted by the number of input and output ports they have, with an NxM MMI having N input ports and M output ports.\n",
    "\n",
    "<div style=\"text-align: center;\">\n",
    "\n",
    "![1x2mmi](https://github.com/BYUCamachoLab/Photonics-Bootcamp/blob/main/book/images/Notebook_Images/mmi1x2.png?raw=true)\n",
    "![2x2mmi](https://github.com/BYUCamachoLab/Photonics-Bootcamp/blob/main/book/images/Notebook_Images/mmi2x2.png?raw=true)\n",
    "\n",
    "</div>\n",
    "\n",
    "\n",
    "<div style=\"text-align: center;\">\n",
    "\n",
    "A 1x2 and 2x2 MMI from GDSFactory\n",
    "\n",
    "</div>"
   ]
  },
  {
   "attachments": {},
   "cell_type": "markdown",
   "metadata": {},
   "source": [
    "### Self-Imaging\n",
    "\n",
    "The function of an MMI is based of of self-imaging. An \"image\" is a place where the electric fields are replicas of the electric field of the input. They occur periodically in MMIs at a distance called the beat length, determined by the equation:\n",
    "\n",
    "$$L_{\\pi} = \\pi / (\\beta _0 - \\beta _1)$$\n",
    "\n",
    "The images are created from light reflecting off of the walls of the multimode region and interfering constructively or destructively with other reflections. This self-imaging is how MMIs are able to combine and split light. For example, if you wanted a 2x2 MMI that splits light from one input port into another, you would find the length at which there are two images present in the MMI, and put the output ports there.\n",
    "\n",
    "Self-imaging can work in this \"forwards\" way to split light and it can also work \"backwards\" to combine light. In other words, if you wanted to combine light with an MMI instead of split it, you could excite waves going into the output ports, and get a combined image of them at an input port based on the same physical mechanism."
   ]
  },
  {
   "attachments": {},
   "cell_type": "markdown",
   "metadata": {},
   "source": [
    "### Imaging Simulation\n",
    "\n",
    "In the Meep script below, change the length of the MMI to see how changing the length of the MMI affects the power that goes into each output port"
   ]
  },
  {
   "cell_type": "code",
   "execution_count": 20,
   "metadata": {},
   "outputs": [
    {
     "data": {
      "text/plain": [
       "<Axes: xlabel='X', ylabel='Y'>"
      ]
     },
     "execution_count": 20,
     "metadata": {},
     "output_type": "execute_result"
    },
    {
     "data": {
      "image/png": "[encoded data removed]",
      "text/plain": [
       "<Figure size 640x480 with 1 Axes>"
      ]
     },
     "metadata": {},
     "output_type": "display_data"
    }
   ],
   "source": [
    "import meep as mp\n",
    "import gdsfactory as gf\n",
    "import tidy3d\n",
    "from gdsfactory.simulation.gmeep import get_simulation\n",
    "from gdsfactory.simulation.gmeep.get_simulation import get_meep_geometry_from_component\n",
    "\n",
    "# Define materials\n",
    "Si = mp.Medium(index=3.45)\n",
    "SiO2 = mp.Medium(index=1.45)\n",
    "\n",
    "# Define wavelength in um\n",
    "wvl = 1.55\n",
    "\n",
    "# # Define cell and geometric parameters\n",
    "resolution = 20\n",
    "dpml = 1\n",
    "pad = 1\n",
    "\n",
    "## CHANGE THE MMI LENGTH SLIGHTLY TO SEE HOW THE POWER SPLITTING RATIO CHANGES ##\n",
    "length_mmi = 5.5\n",
    "mmi = gf.components.mmi2x2(length_mmi=length_mmi)\n",
    "\n",
    "Sx = dpml + -(mmi.ports[\"o1\"].x) + (mmi.ports[\"o4\"].x) + dpml\n",
    "Sy = dpml + pad + -(mmi.ports[\"o1\"].y) + -(mmi.ports[\"o4\"].y) + pad + dpml\n",
    "cell_size = mp.Vector3(Sx,Sy)\n",
    "\n",
    "# Extend the ports to match the length of the cell\n",
    "mmi = gf.components.extend_ports(mmi, port_names=[\"o1\",\"o2\",\"o3\",\"o4\"], length=1)\n",
    "\n",
    "# Add PML (perfectly matched layers)\n",
    "pml = [mp.PML(dpml)]\n",
    "\n",
    "# Using the gdsfactory function, get the mmi geometry\n",
    "geometry = get_meep_geometry_from_component(mmi)\n",
    "\n",
    "# Put a pulse Eigenmode source at beginning of one waveguide\n",
    "fcen = 1 / wvl\n",
    "width = 0.1\n",
    "fwidth = width * fcen\n",
    "src=mp.GaussianSource(frequency=fcen, fwidth=fwidth)\n",
    "source = [mp.EigenModeSource(src=src, eig_band=1,\n",
    "        eig_kpoint = (1,0),\n",
    "        size=mp.Vector3(0,1),\n",
    "        center=mp.Vector3(-mmi.ports[\"o1\"].x+dpml+1, -mmi.ports[\"o1\"].y/2))\n",
    "        ]\n",
    "\n",
    "# Create simulation dictionary\n",
    "sim = get_simulation(mmi,\n",
    "    resolution= 20,\n",
    "    tpml= 1,\n",
    "    port_source_offset= 0.2,\n",
    "    port_monitor_offset= -0.1,\n",
    "    distance_source_to_monitors= 0.3,)\n",
    "sim['sim'].sources = sim['sources']\n",
    "sim['sim'].cell_size.y = Sy + 3\n",
    "sim['sim'].cell_size.x = Sx + 4\n",
    "# Show simulation set-up\n",
    "sim['sim'].plot2D()"
   ]
  },
  {
   "cell_type": "code",
   "execution_count": 19,
   "metadata": {},
   "outputs": [
    {
     "data": {
      "application/vnd.jupyter.widget-view+json": {
       "model_id": "c32e5b326e6942c39ac12c5fcdbadc27",
       "version_major": 2,
       "version_minor": 0
      },
      "text/plain": [
       "FloatProgress(value=0.0, description='0% done ', max=300.0)"
      ]
     },
     "metadata": {},
     "output_type": "display_data"
    }
   ],
   "source": [
    "from PIL import Image\n",
    "import glob\n",
    "import os\n",
    "\n",
    "# Capture electric field intensity over time and output into a gif\n",
    "sim['sim'].run(mp.at_beginning(mp.output_epsilon),\n",
    "        mp.to_appended(\"ez\", mp.at_every(2, mp.output_efield_z)),\n",
    "        until=200)\n",
    "\n",
    "# Generate pngs from the simulation output\n",
    "# The line that worked in my workspace\n",
    "os.system(\"h5topng -t 0:99 -R -Zc /home/ebang4/miniconda3/envs/h5utils/share/h5utils/colormaps/RdBu -A /home/ebang4/Github/Photonics-Bootcamp/book/pages/eps-000000.00.h5 -a /home/ebang4/miniconda3/envs/h5utils/share/h5utils/colormaps/gray /home/ebang4/Github/Photonics-Bootcamp/book/pages/ez.h5\")\n",
    "\n",
    "# This line assumes that their colormaps are working and that they are in the same directory as the output files\n",
    "# also that h5py is installed\n",
    "# If you have a problem with h5utils, see note below\n",
    "\n",
    "# os.system(\"h5topng -t 0:299 -R -Zc RdBu -A eps-000000.00.h5 -a gray ez.h5\")\n",
    "\n",
    "# Create a gif from the pngs\n",
    "frames = []\n",
    "imgs = glob.glob(\"ez.t*\")\n",
    "imgs.sort()\n",
    "for i in imgs:\n",
    "    new_frame = Image.open(i)\n",
    "    frames.append(new_frame)\n",
    "\n",
    " \n",
    "# Save into a GIF file that loops forever\n",
    "frames[0].save('ez.gif', format='GIF',\n",
    "               append_images=frames[1:],\n",
    "               save_all=True,\n",
    "               loop=0)\n",
    "\n",
    "# Clean up workspace by deleting all generated images\n",
    "for i in imgs: \n",
    "    os.remove(i)\n",
    "\n",
    "## HAVE GRAPH TO ACTUALLY PLOT THE POWER"
   ]
  },
  {
   "cell_type": "code",
   "execution_count": 27,
   "metadata": {},
   "outputs": [
    {
     "name": "stdout",
     "output_type": "stream",
     "text": [
      "<meep.simulation.DftFlux object at 0x7f70efb39710>\n"
     ]
    },
    {
     "ename": "TypeError",
     "evalue": "unsupported operand type(s) for ** or pow(): 'DftFlux' and 'int'",
     "output_type": "error",
     "traceback": [
      "\u001b[0;31m---------------------------------------------------------------------------\u001b[0m",
      "\u001b[0;31mTypeError\u001b[0m                                 Traceback (most recent call last)",
      "Cell \u001b[0;32mIn[27], line 2\u001b[0m\n\u001b[1;32m      1\u001b[0m \u001b[39mprint\u001b[39m(sim[\u001b[39m'\u001b[39m\u001b[39mmonitors\u001b[39m\u001b[39m'\u001b[39m][\u001b[39m'\u001b[39m\u001b[39mo1\u001b[39m\u001b[39m'\u001b[39m])\n\u001b[0;32m----> 2\u001b[0m power1\u001b[39m=\u001b[39m sim[\u001b[39m'\u001b[39;49m\u001b[39mmonitors\u001b[39;49m\u001b[39m'\u001b[39;49m][\u001b[39m'\u001b[39;49m\u001b[39mo1\u001b[39;49m\u001b[39m'\u001b[39;49m]\u001b[39m*\u001b[39;49m\u001b[39m*\u001b[39;49m\u001b[39m2\u001b[39;49m\n",
      "\u001b[0;31mTypeError\u001b[0m: unsupported operand type(s) for ** or pow(): 'DftFlux' and 'int'"
     ]
    }
   ],
   "source": [
    "print(sim['monitors']['o1'])\n",
    "power1= sim['monitors']['o1']**2\n",
    "mp.get_eigenmode_coefficients()"
   ]
  },
  {
   "attachments": {},
   "cell_type": "markdown",
   "metadata": {},
   "source": [
    "The resulting GIF shows how power is split evenly between the two output ports based on the imaging within the MMI.\n",
    "\n",
    "<div style=\"text-align: center;\">\n",
    "\n",
    "![2x2mmigif](https://github.com/BYUCamachoLab/Photonics-Bootcamp/blob/main/book/images/Notebook_Images/2x2mmi_ez.gif?raw=true)\n",
    "\n",
    "</div>"
   ]
  },
  {
   "attachments": {},
   "cell_type": "markdown",
   "metadata": {},
   "source": [
    "### MMI Applications\n",
    "\n",
    "MMIs have the advantage of being robust, or not very susceptible to manufacturing errors. In fact, at the optimum length for the MMI, the sensitivity is at a minimum. For example, when compared with directional couplers \n",
    "\n",
    "Mach-Zehnder optical switches, WDM, optical hybrids, polarization-diversity photodetectors."
   ]
  },
  {
   "attachments": {},
   "cell_type": "markdown",
   "metadata": {},
   "source": [
    "### Sources\n",
    "\n",
    "https://ieeexplore.ieee.org/stamp/stamp.jsp?tp=&arnumber=372474\n",
    "\n",
    "https://opg.optica.org/ao/fulltext.cfm?uri=ao-33-18-3905&id=41580 (where got MMI length equation from)\n",
    "\n",
    "https://opg.optica.org/view_article.cfm?pdfKey=21e37623-43e8-4d94-b871476935a89af0_41580\n",
    "\n",
    "https://arxiv.org/pdf/1405.6025.pdf"
   ]
  }
 ],
 "metadata": {
  "kernelspec": {
   "display_name": "pmp",
   "language": "python",
   "name": "python3"
  },
  "language_info": {
   "codemirror_mode": {
    "name": "ipython",
    "version": 3
   },
   "file_extension": ".py",
   "mimetype": "text/x-python",
   "name": "python",
   "nbconvert_exporter": "python",
   "pygments_lexer": "ipython3",
   "version": "3.11.0"
  },
  "orig_nbformat": 4
 },
 "nbformat": 4,
 "nbformat_minor": 2
}
