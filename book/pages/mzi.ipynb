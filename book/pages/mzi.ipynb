{
 "cells": [
  {
   "cell_type": "markdown",
   "metadata": {},
   "source": [
    "# Mach-Zehnder interferometers\n",
    "\n",
    "*This tutorial is an extract from the Simphony docs. For further background reading, see the [Introduction to simphony](https://simphonyphotonics.readthedocs.io/en/latest/tutorials/intro.html)*\n",
    "\n",
    "In this tutorial, we'll define and simulate a simple circuit known as a\n",
    "Mach-Zender Interferometer (MZI).\n",
    "\n",
    "The basic concept behind a Mach-Zehnder interferometer is that it splits a beam of light into two paths and then later recombines them. The resulting interference pattern depends on the relative path length, and therefore the accumulated phase, between the two paths. This is a very common device in quantum optics, and is used in many experiments.\n",
    "\n",
    "Phase shifts may be caused by differing path lengths, or by the application of a phase shifter, such as a piezo-electric transducer.\n",
    "\n",
    "Simphony uses [SAX](https://flaport.github.io/sax/index.html) to define \n",
    "models and simulate circuits, which uses \n",
    "[JAX](https://jax.readthedocs.io/en/latest/index.html) as a computational \n",
    "engine. JAX can provide a nice speedup for larger circuits if their models are \n",
    "appropriately defined and you have a GPU. Otherwise, it will run perfectly fine \n",
    "on a CPU."
   ]
  },
  {
   "cell_type": "markdown",
   "metadata": {},
   "source": [
    ":::{note}\n",
    "We run the following command **first** to ensure that JAX, the library that allows Simphony and SAX to run calculations on GPU's, uses [double precision](https://jax.readthedocs.io/en/latest/notebooks/Common_Gotchas_in_JAX.html#double-64bit-precision). Be aware that this setting must be set before JAX initializes, or the setting won't take.\n",
    ":::"
   ]
  },
  {
   "cell_type": "code",
   "execution_count": 1,
   "metadata": {},
   "outputs": [],
   "source": [
    "from jax import config\n",
    "config.update(\"jax_enable_x64\", True)"
   ]
  },
  {
   "cell_type": "markdown",
   "metadata": {},
   "source": [
    "In this tutorial, we'll use JAX as a drop in replacement for NumPy, matplotlib for visualizing our results, and SAX for constructing our circuit and running our simulations."
   ]
  },
  {
   "cell_type": "code",
   "execution_count": 2,
   "metadata": {},
   "outputs": [],
   "source": [
    "import jax.numpy as jnp\n",
    "import matplotlib.pyplot as plt\n",
    "import sax"
   ]
  },
  {
   "cell_type": "markdown",
   "metadata": {},
   "source": [
    "## The MZI from it's components"
   ]
  },
  {
   "cell_type": "markdown",
   "metadata": {},
   "source": [
    "In an MZI, light entering the circuit is split and travels down two paths of differing lengths. When the light is recombined, it interferes, and the output is frequency-dependent."
   ]
  },
  {
   "cell_type": "markdown",
   "metadata": {},
   "source": [
    "```{eval-rst}\n",
    ".. figure:: ../images/mzi.png\n",
    "    :alt: Mach-Zehnder Interferometer (MZI) layout.\n",
    "    :align: center\n",
    "\n",
    "    Chip layout of a Mach-Zehnder Interferometer (MZI).\n",
    "```"
   ]
  },
  {
   "cell_type": "markdown",
   "metadata": {},
   "source": [
    "The MZI we’ll create can be broken down into constituent parts. Simphony includes models for these building blocks below:"
   ]
  },
  {
   "cell_type": "markdown",
   "metadata": {},
   "source": [
    "```{eval-rst}\n",
    ".. figure:: ../images/mzi_outline_ports_marked.png\n",
    "    :alt: Mach-Zehnder Interferometer (MZI) block diagram\n",
    "    :align: center\n",
    "\n",
    "    Block diagram of a Mach-Zehnder Interferometer (MZI) with the components labeled.\n",
    "```"
   ]
  },
  {
   "cell_type": "markdown",
   "metadata": {},
   "source": [
    "The grating couplers are the input and output for light in the circuit. The Y-branch can split and recombine light, and because the waveguides which carry light across the circuit have a different length relative to each other, this produces interference when the light is recombined at the second Y-branch. We can now begin defining our circuit in Simphony using the components we have identified."
   ]
  },
  {
   "cell_type": "markdown",
   "metadata": {},
   "source": [
    "## Models"
   ]
  },
  {
   "cell_type": "markdown",
   "metadata": {},
   "source": [
    "We'll use models from the [SiEPIC Ebeam PDK](https://github.com/SiEPIC/SiEPIC_EBeam_PDK) library (already included in simphony)."
   ]
  },
  {
   "cell_type": "code",
   "execution_count": 3,
   "metadata": {},
   "outputs": [],
   "source": [
    "from simphony.libraries import siepic"
   ]
  },
  {
   "cell_type": "markdown",
   "metadata": {},
   "source": [
    "As explained in the Introduction, models in SAX (and therefore in Simphony) are simply \"callables\" (functions) that return a dictionary of scattering parameters. The keys of that resulting dictionary are the port-to-port relationships. In Simphony, we follow the convention ``(output, input)`` for the keys of the dictionary, which is the same as the S-parameter matrix formulation (where $S_{ij}$ is the scattering parameter representing the response at port $j$ given a stimuli at port $i$).\n",
    "\n",
    "Models in SAX must have default parameters in their function signatures; that is, no positional arguments are allowed."
   ]
  },
  {
   "cell_type": "code",
   "execution_count": 15,
   "metadata": {},
   "outputs": [
    {
     "name": "stdout",
     "output_type": "stream",
     "text": [
      "\u001b[0;31mSignature:\u001b[0m\n",
      "\u001b[0msiepic\u001b[0m\u001b[0;34m.\u001b[0m\u001b[0mgrating_coupler\u001b[0m\u001b[0;34m(\u001b[0m\u001b[0;34m\u001b[0m\n",
      "\u001b[0;34m\u001b[0m    \u001b[0mwl\u001b[0m\u001b[0;34m:\u001b[0m \u001b[0mUnion\u001b[0m\u001b[0;34m[\u001b[0m\u001b[0mfloat\u001b[0m\u001b[0;34m,\u001b[0m \u001b[0mjax\u001b[0m\u001b[0;34m.\u001b[0m\u001b[0mArray\u001b[0m\u001b[0;34m]\u001b[0m \u001b[0;34m=\u001b[0m \u001b[0;36m1.55\u001b[0m\u001b[0;34m,\u001b[0m\u001b[0;34m\u001b[0m\n",
      "\u001b[0;34m\u001b[0m    \u001b[0mpol\u001b[0m\u001b[0;34m:\u001b[0m \u001b[0mLiteral\u001b[0m\u001b[0;34m[\u001b[0m\u001b[0;34m'te'\u001b[0m\u001b[0;34m,\u001b[0m \u001b[0;34m'tm'\u001b[0m\u001b[0;34m]\u001b[0m \u001b[0;34m=\u001b[0m \u001b[0;34m'te'\u001b[0m\u001b[0;34m,\u001b[0m\u001b[0;34m\u001b[0m\n",
      "\u001b[0;34m\u001b[0m    \u001b[0mthickness\u001b[0m\u001b[0;34m:\u001b[0m \u001b[0mfloat\u001b[0m \u001b[0;34m=\u001b[0m \u001b[0;36m220.0\u001b[0m\u001b[0;34m,\u001b[0m\u001b[0;34m\u001b[0m\n",
      "\u001b[0;34m\u001b[0m    \u001b[0mdwidth\u001b[0m\u001b[0;34m:\u001b[0m \u001b[0mfloat\u001b[0m \u001b[0;34m=\u001b[0m \u001b[0;36m0\u001b[0m\u001b[0;34m,\u001b[0m\u001b[0;34m\u001b[0m\n",
      "\u001b[0;34m\u001b[0m\u001b[0;34m)\u001b[0m \u001b[0;34m->\u001b[0m \u001b[0mDict\u001b[0m\u001b[0;34m[\u001b[0m\u001b[0mTuple\u001b[0m\u001b[0;34m[\u001b[0m\u001b[0mstr\u001b[0m\u001b[0;34m,\u001b[0m \u001b[0mstr\u001b[0m\u001b[0;34m]\u001b[0m\u001b[0;34m,\u001b[0m \u001b[0mjaxtyping\u001b[0m\u001b[0;34m.\u001b[0m\u001b[0mComplex\u001b[0m\u001b[0;34m[\u001b[0m\u001b[0mArray\u001b[0m\u001b[0;34m,\u001b[0m \u001b[0;34m'...'\u001b[0m\u001b[0;34m]\u001b[0m\u001b[0;34m]\u001b[0m\u001b[0;34m\u001b[0m\u001b[0;34m\u001b[0m\u001b[0m\n",
      "\u001b[0;31mDocstring:\u001b[0m\n",
      "SiEPIC EBeam PDK grating coupler optimized for TE polarizations at\n",
      "1550nm.\n",
      "\n",
      "The grating coupler efficiently couples light from a fiber array positioned\n",
      "above the chip into the circuit. For the TE mode, the angle is -25 degrees\n",
      "[needs citation].\n",
      "\n",
      ".. image:: /_static/images/ebeam_gc_te1550.png\n",
      "    :alt: ebeam_bdc_te1550.png\n",
      "\n",
      "Parameters\n",
      "----------\n",
      "wl : float or Array\n",
      "    The wavelengths to evaluate at in microns.\n",
      "pol : {\"te\", \"tm\"}\n",
      "    Polarization of the input/output modes.\n",
      "thickness : {210.0, 220.0, 230.0}\n",
      "    Thickness of the grating coupler silicon in nm. Useful for simulating\n",
      "    manufacturing variability.\n",
      "dwidth : {-20.0, 0.0, 20.0}\n",
      "    Change in width from nominal of the gratings. Representative of\n",
      "    manufacturing variability. Must be one of -20, 0, or 20.\n",
      "\n",
      "Raises\n",
      "------\n",
      "ValueError\n",
      "    If `pol` is not 'te' or 'tm'.\n",
      "ValueError\n",
      "    If `thickness` is not one of 210, 220, or 230.\n",
      "ValueError\n",
      "    If `dwidth` is not one of -20, 0, or 20.\n",
      "\n",
      "Notes\n",
      "-----\n",
      "See also the PDK documentation:\n",
      "https://github.com/SiEPIC/SiEPIC_EBeam_PDK/blob/master/Documentation/SiEPIC_EBeam_PDK%20-%20Components%20with%20Models.docx\n",
      "\u001b[0;31mFile:\u001b[0m      ~/miniconda3/envs/photonics/lib/python3.11/site-packages/simphony/libraries/siepic/models.py\n",
      "\u001b[0;31mType:\u001b[0m      function"
     ]
    }
   ],
   "source": [
    "siepic.grating_coupler?"
   ]
  },
  {
   "cell_type": "markdown",
   "metadata": {},
   "source": [
    "This means that they can always be called without arguments to inspect what their default return values are and to see what port names are provided."
   ]
  },
  {
   "cell_type": "code",
   "execution_count": 5,
   "metadata": {},
   "outputs": [
    {
     "data": {
      "text/plain": [
       "{('o0', 'o0'): Array([-0.0307378-0.00345908j], dtype=complex128),\n",
       " ('o0', 'o1'): Array([0.75686856+0.02082852j], dtype=complex128),\n",
       " ('o1', 'o0'): Array([0.74360676+0.09760613j], dtype=complex128),\n",
       " ('o1', 'o1'): Array([0.0750638-0.02585451j], dtype=complex128)}"
      ]
     },
     "execution_count": 5,
     "metadata": {},
     "output_type": "execute_result"
    }
   ],
   "source": [
    "siepic.grating_coupler()"
   ]
  },
  {
   "cell_type": "markdown",
   "metadata": {},
   "source": [
    "SAX also provides an explicit function to get the port names."
   ]
  },
  {
   "cell_type": "code",
   "execution_count": 6,
   "metadata": {},
   "outputs": [
    {
     "name": "stdout",
     "output_type": "stream",
     "text": [
      "('port 1', 'port 2', 'port 3')\n",
      "('o0', 'o1')\n",
      "('o0', 'o1')\n"
     ]
    }
   ],
   "source": [
    "print(sax.get_ports(siepic.y_branch))\n",
    "print(sax.get_ports(siepic.waveguide))\n",
    "print(sax.get_ports(siepic.grating_coupler))"
   ]
  },
  {
   "cell_type": "markdown",
   "metadata": {},
   "source": [
    "```{note}\n",
    "Throughout all of Simphony and SAX, the ``\"wl\"`` argument is in microns, by convention. This is not strictly enforced, and\n",
    "various model libraries may follow different convention, so it's always good to double check the documentation of the model you're using (or, if you're writing the model, create documentation for it)!\n",
    "```"
   ]
  },
  {
   "cell_type": "markdown",
   "metadata": {},
   "source": [
    "## Writing the netlist"
   ]
  },
  {
   "cell_type": "markdown",
   "metadata": {},
   "source": [
    "A SAX circuit contains a \n",
    "netlist, which is a collection of component instances, their connections, and \n",
    "exposed ports; and a list of models, which makes it easy to swap out different\n",
    "models without rewriting your netlist to see how the circuit behavior\n",
    "changes.\n",
    "\n",
    "The netlist is a dictionary with three fields:\n",
    "\n",
    "* ``\"instances\"``: A dictionary of instance names to human-readable component \n",
    "    model strings (like \"coupler\" or \"waveguide\"). You will define the \n",
    "    string-to-model mapping later.\n",
    "* ``\"connections\"``: A dictionary of ports to ports in the form \n",
    "    ``\"instance_name,port_name\": \"instance_name,port_name\"`` (note there is no\n",
    "    whitespace delimiting the instance from its port, just a comma).\n",
    "* ``\"ports\"``: Since a SAX circuit is basically a model itself, and could be\n",
    "    used in other circuits, it has exposed ports. This field is a dictionary \n",
    "    mapping port names of the composite object to the ports of its constituent\n",
    "    instances.\n",
    "\n",
    "We'll create "
   ]
  },
  {
   "cell_type": "code",
   "execution_count": 7,
   "metadata": {},
   "outputs": [],
   "source": [
    "mzi, info = sax.circuit(\n",
    "    netlist={\n",
    "        \"instances\": {\n",
    "            \"gc_in\": \"gc\",\n",
    "            \"splitter\": \"ybranch\",\n",
    "            \"long_wg\": \"waveguide\",\n",
    "            \"short_wg\": \"waveguide\",\n",
    "            \"combiner\": \"ybranch\",\n",
    "            \"gc_out\": \"gc\",\n",
    "        },\n",
    "        \"connections\": {\n",
    "            \"gc_in,o0\": \"splitter,port 1\",\n",
    "            \"splitter,port 2\": \"long_wg,o0\",\n",
    "            \"splitter,port 3\": \"short_wg,o0\",\n",
    "            \"long_wg,o1\": \"combiner,port 2\",\n",
    "            \"short_wg,o1\": \"combiner,port 3\",\n",
    "            \"combiner,port 1\": \"gc_out,o0\",\n",
    "        },\n",
    "        \"ports\": {\n",
    "            \"in\": \"gc_in,o1\",\n",
    "            \"out\": \"gc_out,o1\",\n",
    "        },\n",
    "    },\n",
    "    models={\n",
    "        \"ybranch\": siepic.y_branch,\n",
    "        \"waveguide\": siepic.waveguide,\n",
    "        \"gc\": siepic.grating_coupler,\n",
    "    }\n",
    ")"
   ]
  },
  {
   "cell_type": "markdown",
   "metadata": {},
   "source": [
    "## Simulation (using callables)"
   ]
  },
  {
   "cell_type": "markdown",
   "metadata": {},
   "source": [
    "```{eval-rst}\n",
    ":py:func:`sax.circuit` returns a tuple. The first element is another callable function. All\n",
    "parameters you call it with will be passed on to the models contained within the\n",
    "circuit, so long as they are named the same. In this way, a circuit itself can \n",
    "act as a model within another circuit.\n",
    "```\n",
    "\n",
    "```{warning}\n",
    "It is important that your all models have **common names** for arguments. For example,\n",
    "all models that take a ``length`` parameter should all use the name ``length`` for that argument. Models\n",
    "that are wavelength dependent should all take the same ``wl`` keyword parameter (by \n",
    "convention). If you have your own model library, you can follow whatever \n",
    "convention you want, as long as it's consistent.\n",
    "```\n",
    "\n",
    "The second element of the returned tuple is a information object that contains details\n",
    "about the circuit.\n",
    "\n",
    "We can simulate the circuit by simply calling it with the appropriate arguments--in this case, the wavelengths we want to\n",
    "simulate at.\n",
    "\n",
    "The circuit itself contains parameterized models. We can pass arguments targeting\n",
    "those models by passing a dictionary of keyword arguments and corresponding values\n",
    "when invoking the circuit function. The names you gave the instances\n",
    "in the netlist become the keyword arguments of the function. You can pass a \n",
    "dictionary which will be used to instantiate those components at simulation time.\n",
    "\n",
    "If you're unsure of the format of the settings dictionary you need to pass to the circuit, you can use SAX's get_settings function."
   ]
  },
  {
   "cell_type": "code",
   "execution_count": 8,
   "metadata": {},
   "outputs": [
    {
     "data": {
      "text/plain": [
       "{'gc_in': {'wl': 1.55, 'pol': 'te', 'thickness': 220.0, 'dwidth': 0},\n",
       " 'splitter': {'wl': 1.55, 'pol': 'te', 'thickness': 220.0, 'width': 500.0},\n",
       " 'long_wg': {'wl': 1.55,\n",
       "  'pol': 'te',\n",
       "  'length': 0.0,\n",
       "  'width': 500.0,\n",
       "  'height': 220.0,\n",
       "  'loss': 0.0},\n",
       " 'short_wg': {'wl': 1.55,\n",
       "  'pol': 'te',\n",
       "  'length': 0.0,\n",
       "  'width': 500.0,\n",
       "  'height': 220.0,\n",
       "  'loss': 0.0},\n",
       " 'combiner': {'wl': 1.55, 'pol': 'te', 'thickness': 220.0, 'width': 500.0},\n",
       " 'gc_out': {'wl': 1.55, 'pol': 'te', 'thickness': 220.0, 'dwidth': 0}}"
      ]
     },
     "execution_count": 8,
     "metadata": {},
     "output_type": "execute_result"
    }
   ],
   "source": [
    "sax.get_settings(mzi)"
   ]
  },
  {
   "cell_type": "markdown",
   "metadata": {},
   "source": [
    "This is slightly overkill in our case. We don't want to update ``wl`` for every single object. We only want to change the length parameters for the long and short waveguides, and let everything else stay with the default or assume a global value.\n",
    "\n",
    "We can set the ``\"long_wg\"`` and ``\"short_wg\"`` waveguides to different lengths alone. The waveguide model within the circuit takes a \"length\" argument, so that's what we'll use in our dictionary of parameters that we pass using keyword arguments. These keyword arguments correspond to the *instance name* in the netlist. By setting ``wl`` at the toplevel, it will trickle down to all models that require a ``wl`` parameter."
   ]
  },
  {
   "cell_type": "code",
   "execution_count": 9,
   "metadata": {},
   "outputs": [],
   "source": [
    "wl = jnp.linspace(1.5, 1.6, 1000)\n",
    "S = mzi(wl=wl, long_wg={\"length\": 150.0}, short_wg={\"length\": 50.0})"
   ]
  },
  {
   "cell_type": "markdown",
   "metadata": {},
   "source": [
    "``S`` is now our evaluated s-parameter dictionary"
   ]
  },
  {
   "cell_type": "markdown",
   "metadata": {},
   "source": [
    "We're interested in the power transmitted from the input to the output, which is the magnitude squared of the s-parameter. We'll square the magnitude of the ``\"out,in\"`` element of the resulting dictionary. Recall, too, that we renamed these \"external\" (unconnected) ports in the netlist when we created the circuit. It's really easy to give the ports on your composite circuits meaningful names, and it makes your code much more readable.\n",
    "\n",
    "Below, we plot both in linear and in log scale using [``matplotlib``](https://matplotlib.org/)."
   ]
  },
  {
   "cell_type": "code",
   "execution_count": 10,
   "metadata": {},
   "outputs": [
    {
     "data": {
      "image/png": "[encoded data removed]",
      "text/plain": [
       "<Figure size 640x480 with 2 Axes>"
      ]
     },
     "metadata": {},
     "output_type": "display_data"
    }
   ],
   "source": [
    "mag = jnp.abs(S[\"out\", \"in\"])**2\n",
    "\n",
    "fig, axs = plt.subplots(2, 1, sharex=True)\n",
    "axs[0].plot(wl, mag)\n",
    "axs[0].set_ylabel(\"Transmission\")\n",
    "axs[1].plot(wl, 10*jnp.log10(mag))\n",
    "axs[1].set_ylabel(\"Transmission (dB)\")\n",
    "axs[1].set_xlabel(\"Wavelength (um)\")\n",
    "plt.suptitle(\"MZI Response\")\n",
    "plt.show()"
   ]
  },
  {
   "cell_type": "markdown",
   "metadata": {},
   "source": [
    "As you can see, and as you might have predicted, by varying the wavelength we can see different levels of power being output from the device. Notice how the power periodically dips to 0 (on the linear plot). This occurs when the phases of the two paths are exactly opposite, and the light destructively interferes. The power, however does not peak at a consistent maximum--an effect of using grating couplers, which are optimized for better coupling at some center wavelength (in this case, 1.55 microns)."
   ]
  },
  {
   "cell_type": "markdown",
   "metadata": {},
   "source": [
    "## Analysis of a balanced MZI\n",
    "\n",
    "You can think of a balanced interferometer as having equal path lengths when the light separates. In ideal conditions, this means that amount of power at the output is the same as the input. "
   ]
  },
  {
   "cell_type": "code",
   "execution_count": 13,
   "metadata": {},
   "outputs": [
    {
     "data": {
      "image/png": "[encoded data removed]",
      "text/plain": [
       "<Figure size 800x600 with 1 Axes>"
      ]
     },
     "metadata": {},
     "output_type": "display_data"
    }
   ],
   "source": [
    "import gdsfactory as gf\n",
    "\n",
    "# The << is shorthand for c.add_ref()\n",
    "c = gf.Component(\"my_component\")\n",
    "mzi = c << gf.components.mzi(delta_length=0)\n",
    "\n",
    "c.plot()"
   ]
  },
  {
   "cell_type": "markdown",
   "metadata": {},
   "source": [
    "There are there three different relevant amplitudes:\n",
    "1. The amplitude of the input light:\n",
    "$\n",
    "    I_{input} = E_{input}^2\n",
    "$\n",
    "\n",
    "2. The amplitudes of the beams after the split\n",
    "$\n",
    "    E_{1} = \\frac{E_{input}}{\\sqrt{2}}, \\hspace{2mm} E_{2} = \\frac{E_{input}}{\\sqrt{2}}\n",
    "$\n",
    "\n",
    "3. The amplitude of the recombined light\n",
    "$\n",
    "    I_{output} = [\\frac{E_{1}+E_{2}}{\\sqrt{2}}]^2 = I_{input}\n",
    "$\n",
    "\n",
    "```{warning} \n",
    "Note that these are not generalized equations. Instead, these describe a balanced interferometer whose branches have not undergone a phase shift.\n",
    "```"
   ]
  },
  {
   "cell_type": "markdown",
   "metadata": {},
   "source": [
    "### Quick check\n",
    "If intensity of the input wave to a balanced interferometer is 0.5 mW, what is the intensity at the output? Assume lossless waveguides.\n",
    "\n",
    "<details>\n",
    "    <summary>Answer</summary>\n",
    "    0.5 mW \n",
    "</details>"
   ]
  },
  {
   "cell_type": "markdown",
   "metadata": {},
   "source": [
    "## Definitions\n",
    "\n",
    "It would be helpful to mathematically model the light in our waveguides. We can start to build a model by considering the equation for a plane wave.\n",
    "\n",
    "$$    \n",
    "E = E_0 e^{i(\\omega t - \\beta z)}\n",
    "$$\n",
    "\n",
    "Propagation Constant of Light:\n",
    "$\n",
    "    \\beta = \\frac{2 \\pi n}{\\lambda} \n",
    "$\n",
    "\n",
    "If the equations above describe the propogation of the wave before the light gets split by the MZI, we can represent the two resulting beams as follows.\n",
    "\n",
    "$$\n",
    "E_{o1} = \\frac{E_{i}}{\\sqrt{2}}e^{-i\\beta_{1}L_{1}-\\frac{\\alpha_{1}}{2}L_{1}}\n",
    "$$\n",
    "\n",
    "$$\n",
    "E_{o2} = \\frac{E_{i}}{\\sqrt{2}}e^{-i\\beta_{2}L_{2}-\\frac{\\alpha_{2}}{2}L_{2}}\n",
    "$$\n",
    "\n",
    "*** As the light travels through the waveguide we can imagine that it will experience some degree of loss. The 'α' term that appeared in the exponents is the loss coefficient. For convenience, the following examples will assume that α = 0, or that there is zero loss in our waveguides.\n",
    "\n",
    "And finally the intensity of the the recombined light at the end of the MZI can be described like so:\n",
    "\n",
    "$$\n",
    "I_{output} = \\frac{I_{input}}{4} \\lvert E_{o1} + E_{o2} \\lvert ^2 \n",
    "$$"
   ]
  },
  {
   "cell_type": "markdown",
   "metadata": {},
   "source": [
    "## Analysis of imblanced MZI's\n",
    "\n",
    "The equation below is the simplified version of the above expressions assuming no difference in the propogation constants of the two different waveguides and no loss.\n",
    "\n",
    "$$\n",
    "I_{output} = \\frac{I_{input}}{2}(1 + cos(\\beta \\Delta L))\n",
    "$$"
   ]
  },
  {
   "cell_type": "code",
   "execution_count": 14,
   "metadata": {},
   "outputs": [
    {
     "data": {
      "image/png": "[encoded data removed]",
      "text/plain": [
       "<Figure size 800x600 with 1 Axes>"
      ]
     },
     "metadata": {},
     "output_type": "display_data"
    }
   ],
   "source": [
    "import gdsfactory as gf\n",
    "\n",
    "c = gf.Component(\"my_component\")\n",
    "mzi = c << gf.components.mzi(delta_length=15)\n",
    "\n",
    "c.plot()"
   ]
  },
  {
   "cell_type": "markdown",
   "metadata": {},
   "source": [
    "### Quick check\n",
    "\n",
    "What is the intensity of the output light if the input light had an intensity of 0.75 mW and a refractive index through silicon of $n = 3.48$ when operating at a wavelength of 1450 nm? The shorter path has a length of 90 $\\mu \\text{m}$ and the longer path a length of 102 $\\mu \\text{m}$.\n",
    "\n",
    "<details>\n",
    "    <summary>Answer</summary>\n",
    "    0.491 mW\n",
    "</details>"
   ]
  },
  {
   "cell_type": "markdown",
   "metadata": {},
   "source": [
    "## Thermo-optic effect\n",
    "\n",
    "While a balanced MZI will not experience a phase shift due to a difference in path length, we can introduce a phasae shift by utilizing other methods. The thermo-optic effect describes the effect of heat on the phase of light. By heating up one of the waveguide in the MZI, we can control the phase shift of that waveguide and therefor the intensity of the output. This is a practical way to turn our otherwise static MZI in to a switch that we can control. "
   ]
  },
  {
   "cell_type": "markdown",
   "metadata": {},
   "source": [
    "![Image of a thermo-optic switch](https://raw.githubusercontent.com/BYUCamachoLab/Photonics-Bootcamp/main/book/images/Notebook_Images/thermo_optic_switch.png)"
   ]
  },
  {
   "cell_type": "markdown",
   "metadata": {},
   "source": [
    "Introducing a phase shift in this way will affect the propogation constant 'β' and since we are assuming that the path lengths are equal, we can modify our previous equation like this:\n",
    "\n",
    "$$\n",
    "I_{output} = \\frac{I_{input}}{2}(1 + cos(\\Delta\\beta L))\n",
    "$$\n",
    "\n",
    "### Quick check\n",
    "Assume that the lengths of the two paths are 100µm, the light has a wavelength of 1500nm and the ouptput was measured to be 0.9mW. What is the input intensity of the MZI if the heater introduced a 90° phase shift in the top waveguide?\n",
    "<details>\n",
    "    <summary>Answer</summary>\n",
    "    0.0 mW\n",
    "</details>"
   ]
  },
  {
   "cell_type": "markdown",
   "metadata": {},
   "source": []
  }
 ],
 "metadata": {
  "kernelspec": {
   "display_name": "env",
   "language": "python",
   "name": "python3"
  },
  "language_info": {
   "codemirror_mode": {
    "name": "ipython",
    "version": 3
   },
   "file_extension": ".py",
   "mimetype": "text/x-python",
   "name": "python",
   "nbconvert_exporter": "python",
   "pygments_lexer": "ipython3",
   "version": "3.11.7"
  },
  "orig_nbformat": 4
 },
 "nbformat": 4,
 "nbformat_minor": 2
}
