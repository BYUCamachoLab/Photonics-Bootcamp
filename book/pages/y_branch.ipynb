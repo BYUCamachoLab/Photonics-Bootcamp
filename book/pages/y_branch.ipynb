{
 "cells": [
  {
   "attachments": {},
   "cell_type": "markdown",
   "metadata": {},
   "source": [
    "# Y-Branches\n",
    "\n",
    "Y-branches are some of the most common types of photonic devices and are used in almost every photonic circuit. They are used to either split light into two waveguides or to combine light from two waveguides into one. While y-branches can be created that split light into any arbitrary fraction, in this page we will focus on a 50/50 y-branch. \n",
    "\n",
    "<div style=\"text-align: center;\">\n",
    "\n",
    "<image src=\"https://raw.githubusercontent.com/BYUCamachoLab/Photonics-Bootcamp/main/book/images/Notebook_Images/mmi1x2.png\" alt=\"y_branch\" width=60% height=60% title=\"Default GDSFactory Y Branch\">\n",
    "</div>\n",
    "\n",
    "<p style=\"text-align: center;\"> A y-branch from gdsfactory's default component library </p>"
   ]
  },
  {
   "attachments": {},
   "cell_type": "markdown",
   "metadata": {},
   "source": [
    "### Splitting Light\n",
    "\n",
    "When splitting light, the y-branch works as expected. Any light input into the side with one waveguide will be split into the 2 output waveguides. In most cases, the splitter is designed to split light evenly and so about 50% of the light will exit each side. In other words, for an input intensity $I_i$ and output intensities $I_1$ and $I_2$\n",
    "$$ I_1=I_2=I_i/2$$\n",
    "It should be kept in mind however, that no y-branch is perfect and so there will always be excess loss. So in a 50/50 splitter, the actual outputs will be slightly less than 50, but should still be equal. \n"
   ]
  },
  {
   "attachments": {},
   "cell_type": "markdown",
   "metadata": {},
   "source": [
    "### Combining Light\n",
    "\n",
    "When combining light, the y-branch is more complex. For example, if you were to input light with and intensity $I_i$ into say, the upper right right branch or the y-branch, you might expect almost all of the light to exit the left branch. However, the output intensity $I_o$ in the left branch will only be half of the input intensity, or \n",
    "$$I_o=I_i/2$$\n",
    "This is because the y-branch splits the light in half going both direction. Going forward, the light is split into the 2 output branches, but going backward the light stays in one branch but is split between the 1st and 2nd order modes\n",
    "\n",
    "When light is put in both right ports, if it is in phase, the light coupled into the 2nd order mode will destructively interfere, and the light in the fundamental mode will constructively interfere, resulting in almost all the power exiting the left port in the fundamental mode. On the other hand, if the inputs are out of phase, then the opposite will happen. The power in the fundamental mode will destructively interfere, and constructively interfere in the 2nd order mode, resulting in almost no power in the fundamental mode. "
   ]
  },
  {
   "attachments": {},
   "cell_type": "markdown",
   "metadata": {},
   "source": [
    "#### Design Considerations"
   ]
  },
  {
   "attachments": {},
   "cell_type": "markdown",
   "metadata": {},
   "source": [
    "#### Practice"
   ]
  },
  {
   "attachments": {},
   "cell_type": "markdown",
   "metadata": {},
   "source": [
    "#### Sources\n",
    "\n",
    "Silicon Photonics Design - Chrostoski"
   ]
  }
 ],
 "metadata": {
  "language_info": {
   "name": "python"
  },
  "orig_nbformat": 4
 },
 "nbformat": 4,
 "nbformat_minor": 2
}
