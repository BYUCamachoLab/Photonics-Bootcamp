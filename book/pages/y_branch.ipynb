{
  "cells": [
    {
      "attachments": {},
      "cell_type": "markdown",
      "metadata": {},
      "source": [
        "# Y-Branches\n",
        "\n",
        "Y-branches are some of the most common types of photonic devices and are used in almost every photonic circuit. They are used to either split light into two waveguides or to combine light from two waveguides into one. While y-branches can be created that split light into any arbitrary fraction, in this page we will focus on a 50/50 y-branch. \n",
        "\n",
        "<div style=\"text-align: center;\">\n",
        "\n",
        "<image src=\"https://raw.githubusercontent.com/BYUCamachoLab/Photonics-Bootcamp/main/book/images/Notebook_Images/y_branch_with_s_bend.png\" alt=\"y_branch\" width=100% height=100% title=\"Default gdsfactory Y Branch\">\n",
        "</div>\n",
        "\n",
        "<p style=\"text-align: center;\"> A y-branch from gdsfactory's default component library </p>"
      ]
    },
    {
      "attachments": {},
      "cell_type": "markdown",
      "metadata": {},
      "source": [
        "## Splitting Light\n",
        "\n",
        "A 50-50 y-branch (the most common ratio) splits light evenly from the input waveguide into the two output waveguides. In other words, for an input intensity $I_i$ and output intensities $I_1$ and $I_2$\n",
        "$$ I_1=I_2=I_i/2$$\n",
        "However, no y-branch is perfect and so there will always be loss. Thus, in a 50/50 splitter, the actual outputs will be slightly less than 50, but should still be equal if we ignore manufacturing variability. There are y-branches that are designed to split light in different ratios, e.g. 70/30, 90/10, and those have different shapes.\n",
        "\n",
        "<div style=\"text-align: center;\">\n",
        "\n",
        "<image src=\"https://raw.githubusercontent.com/BYUCamachoLab/Photonics-Bootcamp/main/book/images/Notebook_Images/split_light.png\" alt=\"y_branch\" width=75% height=75% title=\"Splitting Light between two branches\">\n",
        "</div>\n",
        "\n",
        "The above image shows light from the left side being split evenly between the two output waveguides on the right. We can also see that there is light leaking out of the y-branch into the cladding. The light in the outputs also looks different from the light in the input because the light is now split between the fundamental mode (like the input) and higher order modes. The part of the light in higher order modes is often just considered \"lost\" since many photonic circuits assume that all the light is in the fundamental mode.\n"
      ]
    },
    {
      "attachments": {},
      "cell_type": "markdown",
      "metadata": {},
      "source": [
        "### Combining Light\n",
        "\n",
        "Recombining light with y-branches is more complicated than one might expect based on intuition. The behavior of electromagnetic fields in linear optical media is symmetric in time, which means that if we change the outputs to be inputs and vice-versa, then we get the exact same response. Therefore, in order to get perfect combination of light into the fundamental mode, we need to have both branches on the right side to have input light with the same phase. Then the light from the two branches constructively interferes and all the light ends up in the fundamental mode.\n",
        "\n",
        "When the light is completely out of phase, none of the light couples into the fundamental mode because of destructive interference.\n",
        "\n",
        "When you input light from only one branch, some of the light couples into the fundamental mode (0th order) and some into the 1st order mode, and some back-reflections into the second input branch. If you look at this from the time reversal perspective, if the y-branch is a 50-50 splitter, you can't just have light in the fundamental mode coming from the input if you want the light to all go into a single output branch because the y-branch will split the light 50-50. However, if you introduce a higher order mode, you can now create interference that ensures most of the light goes into a single output. Which output that is is determined by the relative phase of the two modes.\n",
        "\n",
        "<div style=\"text-align: center;\">\n",
        "\n",
        "<image src=\"https://raw.githubusercontent.com/BYUCamachoLab/Photonics-Bootcamp/main/book/images/Notebook_Images/single_source_combine.png\" alt=\"y_branch\" width=75% height=75% title=\"Light split between two fundamental modes\">\n",
        "</div>\n",
        "\n",
        "The above image shows light coming from the upper right arm being split between the fundamental and 1st order modes in the left waveguide. There is also significant reflections going into the lower right waveguide.\n"
      ]
    },
    {
      "cell_type": "code",
      "execution_count": 55,
      "metadata": {},
      "outputs": [
        {
          "data": {
            "image/png": "[encoded data removed]",
            "text/plain": [
              "<Figure size 800x600 with 1 Axes>"
            ]
          },
          "metadata": {},
          "output_type": "display_data"
        }
      ],
      "source": [
        "import gdsfactory as gf\n",
        "\n",
        "ybranch = gf.Component(\"Y-branch\")\n",
        "\n",
        "inwg = gf.components.straight(length=5)\n",
        "splitter = gf.components.mmi1x2_with_sbend()\n",
        "\n",
        "inwg_ref = ybranch.add_ref(inwg)\n",
        "splitter_ref = ybranch.add_ref(splitter)\n",
        "\n",
        "splitter_ref.connect(port=\"o1\", destination=inwg_ref.ports[\"o2\"])\n",
        "\n",
        "ybranch.plot()\n",
        "grid = ybranch.to_np()"
      ]
    },
    {
      "cell_type": "code",
      "execution_count": null,
      "metadata": {},
      "outputs": [],
      "source": [
        "import meep as mp"
      ]
    },
    {
      "attachments": {},
      "cell_type": "markdown",
      "metadata": {},
      "source": [
        "#### Design Considerations\n",
        "\n",
        "Directional couplers and y-branches both can be used to split and recombine light. Here are some things to consider when making design choices for splitters/combiners.\n",
        "\n",
        "- Size: Y-branches are significantly more compact than standard directional couplers. This is very significant in large circuits.\n",
        "- Loss: Directional couplers have less loss since they don't have reflections and multimode regions.\n",
        "- Splitting Ratio: Directional couplers lengths/gaps can be adjusted for arbitrary splitting ratios easily while y-branches' shape must be optimized for each case, making directional couplers easier to design.\n",
        "- Manufacturing Variability: Due to the larger scale of directional couplers, they are more likely to be affected by fab variance."
      ]
    },
    {
      "attachments": {},
      "cell_type": "markdown",
      "metadata": {},
      "source": [
        "#### Practice\n",
        "\n",
        "<details>\n",
        "    <summary>Answer</summary>\n",
        "    Here is the answer  \n",
        "</details>"
      ]
    },
    {
      "attachments": {},
      "cell_type": "markdown",
      "metadata": {},
      "source": [
        "#### Sources\n",
        "\n",
        "\"Silicon Photonics Design\" by Lukas Chrostowski"
      ]
    },
    {
      "cell_type": "markdown",
      "metadata": {},
      "source": []
    }
  ],
  "metadata": {
    "kernelspec": {
      "display_name": "gdsf",
      "language": "python",
      "name": "python3"
    },
    "language_info": {
      "codemirror_mode": {
        "name": "ipython",
        "version": 3
      },
      "file_extension": ".py",
      "mimetype": "text/x-python",
      "name": "python",
      "nbconvert_exporter": "python",
      "pygments_lexer": "ipython3",
      "version": "3.11.7"
    },
    "orig_nbformat": 4
  },
  "nbformat": 4,
  "nbformat_minor": 2
}
