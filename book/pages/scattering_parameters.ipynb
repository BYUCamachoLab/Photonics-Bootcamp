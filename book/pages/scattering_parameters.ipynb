{
 "cells": [
  {
   "attachments": {},
   "cell_type": "markdown",
   "metadata": {},
   "source": [
    "# Scattering Parameters (S-Parameters) \n"
   ]
  },
  {
   "attachments": {},
   "cell_type": "markdown",
   "metadata": {},
   "source": [
    "## How to find S-Parameters for an arbitrary device using a meep simulation\n",
    "\n",
    "In this section we'll demonstrate how to find the s-params for any device using a meep simulation. We'll show both 2D and 3D simulations, but keep in mind that 2D s-params are not very accurate. We'll run through the steps using gdsfactory's default 2x2 mmi, and explain on the way how the principles can be applied to any component. "
   ]
  },
  {
   "attachments": {},
   "cell_type": "markdown",
   "metadata": {},
   "source": [
    "### Step 1 - Import Geometry\n",
    "\n",
    "For our simulation, it makes life easy if we add all of our sources and detectors into our gds before we import it into meep. For this tutorial I have already done this. For your simulations, you can modify your gds file directly in Klayout if you like a GUI, or you can use gdsfactory itself. If you like, you can also use meep to do the same thing, but I won't be showing how to do that here. \n",
    "\n",
    "Here is a picture of the gds we will be using. \n",
    "![Image of splitter file](https://raw.githubusercontent.com/BYUCamachoLab/Photonics-Bootcamp/main/book/images/Notebook_Images/mmi2x2_gds_with_ports.png)\n",
    "\n",
    "I've added a box around the entire component (in purple) which will become the simulation region, and 8 lines, 2 on each end that will become the sources and detectors. I also added straight waveguides on the ports of the gdsfactory mmi so that my ports could be exactly where the light would enter and exit the component is an actual circuit. My sources are then slightly outside the mmi, in the waveguides.\n",
    "\n",
    "So, now that we have a gds, lets import it into meep!"
   ]
  },
  {
   "cell_type": "code",
   "execution_count": 1,
   "metadata": {},
   "outputs": [
    {
     "ename": "",
     "evalue": "",
     "output_type": "error",
     "traceback": [
      "\u001b[1;31mCanceled future for execute_request message before replies were done"
     ]
    },
    {
     "ename": "",
     "evalue": "",
     "output_type": "error",
     "traceback": [
      "\u001b[1;31mThe Kernel crashed while executing code in the the current cell or a previous cell. Please review the code in the cell(s) to identify a possible cause of the failure. Click <a href='https://aka.ms/vscodeJupyterKernelCrash'>here</a> for more info. View Jupyter <a href='command:jupyter.viewOutput'>log</a> for further details."
     ]
    }
   ],
   "source": [
    "# Imports\n",
    "import meep as mp \n",
    "import numpy\n",
    "import matplotlib as plt \n",
    "\n",
    "res = 50 # the resolution of the simulation in pixels/um\n",
    "three_d = True # Turn this to false for a 2D simulation\n",
    "\n",
    "gds_file = \"mmi2x2.gds\" # The name of our gds file\n",
    "\n",
    "# Here we define the layer numbers for each part of our gds\n",
    "geometry_L = 1\n",
    "cell_L = 2\n",
    "port1_L = 4\n",
    "port2_L = 3\n",
    "port3_L = 5\n",
    "port4_L = 6\n",
    "source1_L = 8\n",
    "source2_L = 7\n",
    "source3_L = 9\n",
    "source4_L = 10\n",
    "\n",
    "# The thickness of each material in our simulation (only used in 3D simulations)\n",
    "t_oxide = 1.0\n",
    "t_Si = 0.22\n",
    "t_air = 0.78\n",
    "\n",
    "dpml = 1 # Diameter of perfectly matched layers\n",
    "cell_thickness = dpml + t_oxide + t_Si + t_air + dpml # Cell thickness\n",
    "\n",
    "# The materials we will have in our simulation, silicon and SiO2\n",
    "oxide = mp.Medium(epsilon=2.25)\n",
    "silicon = mp.Medium(epsilon=12)\n",
    "\n",
    "# Sets the min and max values for the cell and the silicon. Our simulation will be centered at y=0\n",
    "cell_zmax = 0.5*cell_thickness if three_d else 0\n",
    "cell_zmin = -0.5 * cell_thickness if three_d else 0\n",
    "si_zmax = 0.5 * t_Si if three_d else 10 # In a 2D simulation, the geometry still has to have a thickness or it won't show up\n",
    "si_zmin = -0.5 * t_Si if three_d else -10\n",
    "\n",
    "###################################################\n",
    "# Now we actually import the geometry\n",
    "geometry = mp.GDSII_prisms(silicon, gds_file, geometry_L, zmax=si_zmax, zmin=si_zmin) # Gets the geometry of the mmi\n",
    "cell = mp.GDSII_vol(gds_file, cell_L, zmax=cell_zmax, zmin=cell_zmin) # cell geometry. We use mp.GDSII_vol() instead of mp.GDSII_prims() because they return different types\n",
    "port1 = mp.GDSII_vol(gds_file, port1_L, zmax=cell_zmax, zmin=cell_zmin) # Port geometry\n",
    "port2 = mp.GDSII_vol(gds_file, port2_L, zmax=cell_zmax, zmin=cell_zmin)\n",
    "port3 = mp.GDSII_vol(gds_file, port3_L, zmax=cell_zmax, zmin=cell_zmin)\n",
    "port4 = mp.GDSII_vol(gds_file, port4_L, zmax=cell_zmax, zmin=cell_zmin)\n",
    "source1 = mp.GDSII_vol(gds_file, source1_L, zmax=cell_zmax, zmin=cell_zmin) # Source Geometry\n",
    "source2 = mp.GDSII_vol(gds_file, source2_L, zmax=cell_zmax, zmin=cell_zmin)\n",
    "source3 = mp.GDSII_vol(gds_file, source3_L, zmax=cell_zmax, zmin=cell_zmin)\n",
    "source4 = mp.GDSII_vol(gds_file, source4_L, zmax=cell_zmax, zmin=cell_zmin)\n",
    "\n",
    "if three_d: # Sets up the oxide cladding for a three d simulation (Not used in a 2D simulation)\n",
    "    oxide_center = mp.Vector3(z=-0.5 * t_oxide)\n",
    "    oxide_size = mp.Vector3(cell.size.x, cell.size.y, t_oxide)\n",
    "    oxide_layer = [mp.Block(material=oxide, center=oxide_center, size=oxide_size)]\n",
    "    geometry = geometry + oxide_layer"
   ]
  }
 ],
 "metadata": {
  "kernelspec": {
   "display_name": "mp",
   "language": "python",
   "name": "python3"
  },
  "language_info": {
   "codemirror_mode": {
    "name": "ipython",
    "version": 3
   },
   "file_extension": ".py",
   "mimetype": "text/x-python",
   "name": "python",
   "nbconvert_exporter": "python",
   "pygments_lexer": "ipython3",
   "version": "3.11.0"
  },
  "orig_nbformat": 4
 },
 "nbformat": 4,
 "nbformat_minor": 2
}
