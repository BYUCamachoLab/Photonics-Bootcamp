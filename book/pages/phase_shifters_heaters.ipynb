{
 "cells": [
  {
   "attachments": {},
   "cell_type": "markdown",
   "metadata": {},
   "source": [
    "# Phase Shifters: Heaters\n"
   ]
  },
  {
   "attachments": {},
   "cell_type": "markdown",
   "metadata": {},
   "source": [
    "### What is a Phase Shifter?\n",
    "\n",
    "Light signals travelling through photonic circuits propagate at the speed of light and oscillate with a certain amplitude at a certain frequency. In some photonic circuit applications, it may be desirable to adjust the relative phase of a light signal. This kind of optical tuning can be achieved using a *phase shifter*.\n",
    "\n",
    "Phase shifters may be used to compensate for the natural phase dispersion of light as it travels through waveguides over long distances, however, phase shifters are also essential active elements of photonic circuits that are used to manipulate signals. \n",
    "\n",
    "For example, let's say we have two equally polarized light signals travelling through a photonic circuit that are going to be combined using a y-bridge. Depending on the phase difference between the two signals, they may interfere with one another constructively or destructively. The phase of one light signal may be manipulated using a phase shifter, so that the two light signals combine in a desired way.\n",
    "\n",
    "TODO: Insert illustration of example.\n",
    "\n",
    "\n",
    "\n"
   ]
  },
  {
   "attachments": {},
   "cell_type": "markdown",
   "metadata": {},
   "source": [
    "### How does a Phase Shifter Work?\n",
    "\n",
    "Phase shifters are regions with indices of refraction that can be changed. When a light signals passes through a materials with a different index of refraction than the material it's propagating through, the frequency of the light signal \"expands\" or \"compresses\" according to the difference between the two refractive indices. The frequency of a light signal travelling from a first material to a second material with a higher index of refraction will compress (i.e. the signal will oscillate more times per unit length within the new material). The frequency of a light signal travelling from a first material to a second material with a lower index of refraction will expand (i.e. the signal will oscillate fewer times per unit length within the new material). For illustrative purposes, see the figure below.\n",
    "\n",
    "TODO: Insert figure\n",
    "\n",
    "Notice how the relative phase of the signal changes as it passes through the material. \n",
    "\n",
    "*Thermal phase shifters* are phase shifters that operate based on the thermo-optic effect. For most materials, as a material increases in temperature, its index of refraction increases. At low temperatures, the relationship between temperature and refractive index is generally linear, but at higher temperatures, the relationship must be approximated using second order differential equations. \n",
    "\n",
    "The phase shift of light through a thermal phase shifter is proportional to the index of refraction of the thermal phase shifter, which in turn is proportional to its temperature. Therefore, the phase shift of a thermal phase shifter can be adjusted by changing its temperature. \n",
    "\n",
    "There are several ways of implementing a thermal phase shifter. Some thermal phase shifters comprise waveguides in proximity to metal resistors. As an electrical current runs through the resistor, the resistor dissipates power in the form of heat, changing the temperature of the waveguide. The resistor may be placed above the waveguide, within the waveguide itself, or beside the waveguide. \n"
   ]
  },
  {
   "attachments": {},
   "cell_type": "markdown",
   "metadata": {},
   "source": [
    "### Advantages of Thermal Phase Shifters\n",
    "\n",
    "There are several advantages to thermal phase shifters, including:\n",
    "1. Precision. The thermo-optic effect that governs the phase shift of a thermal phase shifter is mostly linear at low temperatures, so small changes in temperature correspond to small changes in phase shift. \n",
    "2. Low loss. Unlike other phase shifters, like the PIN phase shifter, thermal phase shifters don't introduce optical insertion loss. Because of this, thermal phase shifters can be used to shift the phase of a signal without affecting its amplitude. \n",
    "3. Ease of manufacture. Thermal phase shifters, especially simple shifters where the heating element is a resistor, are relatively easy to implement using the most common fabrication processes.\n",
    "\n",
    "### Disadvantages of Thermal Phase Shifters\n",
    "\n",
    "Thermal phase shifters offer many advantages, but the tradeoff is speed. Because phase shifts are dependent on heat transferred between a heating element and a waveguide, the time it takes for the heat to transfer is dependent on the heat capacities of the element, the waveguide, and the material between the two. In tuning applciations, the time it takes for a thermal phase shifter to heat up may not be a problem, but in modulation applications where an index of refraction must constantly change, thermal phase shifters are not as useful as other types of phase shifters. "
   ]
  },
  {
   "attachments": {},
   "cell_type": "markdown",
   "metadata": {},
   "source": [
    "### Tuning Efficiency of Thermal Phase Shifters\n",
    "\n",
    "The efficiency of a phase shifter is a measurement of the power supplied to the phase shifter in order to obtain a phase shift of 360 degrees (one complete period of the signal). This measurement is called the *tuning efficiency* of a phase shifter, and is typically in expressed in units of mW/FSR (Free Spectral Range - the spacing between two maxima in an optical frequency).\n",
    "\n",
    "The tuning efficiency of a thermal phase shifter is independent of its length. Shorter thermal phase shifters will require a higher temperature of operation to achieve the phase shift of a longer thermal phase shifter, but both phase shifters will consume the same amount of power.\n",
    "\n",
    "To increase the tuning efficiency of a thermal phase shifter, the heating element of a thermal phase shifter may be placed closer to the waveguide, or material between the waveguide and the heating element may be removed. A higher rate of heat transfer will increase a thermal phase shifter's tuning efficiency. "
   ]
  }
 ],
 "metadata": {
  "kernelspec": {
   "display_name": "Python 3",
   "language": "python",
   "name": "python3"
  },
  "language_info": {
   "name": "python",
   "version": "3.9.6 (default, Mar 10 2023, 20:16:38) \n[Clang 14.0.3 (clang-1403.0.22.14.1)]"
  },
  "orig_nbformat": 4,
  "vscode": {
   "interpreter": {
    "hash": "31f2aee4e71d21fbe5cf8b01ff0e069b9275f58929596ceb00d14d90e3e16cd6"
   }
  }
 },
 "nbformat": 4,
 "nbformat_minor": 2
}
