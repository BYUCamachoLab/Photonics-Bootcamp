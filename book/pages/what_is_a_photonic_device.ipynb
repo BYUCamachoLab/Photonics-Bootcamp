{
 "cells": [
  {
   "attachments": {},
   "cell_type": "markdown",
   "metadata": {},
   "source": [
    "# What is a Photonic Device?\n",
    "\n",
    "Photonic devices are analogous to electronic devices but instead of manipulating electricity, a photonic device manipulates light in a specified, useful way. Photonic devices are the building blocks of a photonic circuit. Devices can be created on the macro or micro scale, although it is increasingly common for photonic devices to be built on the microscale or nanoscale. \n",
    "\n",
    "<div style=\"text-align: center;\">\n",
    "\n",
    "**Comparing Electronics to Photonics**\n",
    "\n",
    "|Electronics|Photonics|\n",
    "|:----:|:----:|\n",
    "|Manipulates electricity (electrons)|Manipulates light (photons)|\n",
    "|Discrete components include resistors, inductors, capacitors, etc.| Discrete components include fiber optic cables, lenses, etc.|\n",
    "|Electronic integrated circuit (CMOS)|Photonic integrated circuit (SOI)|\n",
    "\n",
    "</div>\n",
    "\n",
    "## Active vs Passive Devices\n",
    "\n",
    "Photonic devices can be either active or passive. Active devices require an input of energy and are often used to output power to a circuit. Passive devices consume power and are used to change properties of the light without a power source. These properties can include the direction, phase, and polarization of the light. Examples of active photonic devices include lasers, photodetectors, phase shifters, and variable optical attenuators (VOAs). Passive devices include splitters, grating couplers, interferometers, and other waveguide based components.\n",
    "\n",
    "## Manufacturing of Devices\n",
    "\n",
    "Just like in electronics, integrated photonic devices can be manufactured using photolithography. This is one of the most popular methods since it utilizes existing electronic foundry processes."
   ]
  }
 ],
 "metadata": {
  "kernelspec": {
   "display_name": "Python 3",
   "language": "python",
   "name": "python3"
  },
  "language_info": {
   "name": "python",
   "version": "3.9.6 (default, Mar 10 2023, 20:16:38) \n[Clang 14.0.3 (clang-1403.0.22.14.1)]"
  },
  "orig_nbformat": 4,
  "vscode": {
   "interpreter": {
    "hash": "31f2aee4e71d21fbe5cf8b01ff0e069b9275f58929596ceb00d14d90e3e16cd6"
   }
  }
 },
 "nbformat": 4,
 "nbformat_minor": 2
}
