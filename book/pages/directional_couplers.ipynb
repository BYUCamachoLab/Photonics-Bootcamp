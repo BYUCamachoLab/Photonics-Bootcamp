{
 "cells": [
  {
   "attachments": {},
   "cell_type": "markdown",
   "metadata": {},
   "source": [
    "# Directional Couplers\n",
    "\n",
    "**TODO: INSERT PICTURE OF MODES**\n",
    "\n",
    "Directional couplers move light from one waveguide to another. This is done simply by bringing two waveguides parallel to each other for a certain distance, with a small gap between them. The evanescent fields (fields existing outside of the waveguide) of one waveguide interact with another and thus power is transferred. This principle can be used to split or combine light, depending on the coupling length (the length at which the waveguides are sufficiently close to each other) and the phase of the light in the waveguides.\n",
    "\n",
    "<div style=\"text-align: center;\">\n",
    "\n",
    "![dir_cplr](https://github.com/BYUCamachoLab/Photonics-Bootcamp/blob/main/book/images/Notebook_Images/dir_cplr.png?raw=true)\n",
    "\n",
    "</div>\n",
    "\n",
    "<p style=\"text-align: center;\"> Layout of a directional coupler in gdsfactory </p>"
   ]
  },
  {
   "attachments": {},
   "cell_type": "markdown",
   "metadata": {},
   "source": [
    "Directional couplers can be designed to produce any combination of power at the outputs. This could be a simple 50/50 split, a 60/40 split, or even a 100/0 split where all the input power in one waveguide is coupled to the other. The fraction of power that is coupled from one waveguide to another is dependent on geometric parameters and can be described as:\n",
    "\n",
    "$$ \\kappa ^2 = \\frac {P_{cross}}{P_0} = sin^2(CL)$$\n",
    "\n",
    "Where $\\kappa$ is the field coupling, $P_{cross}$ is the coupled power, $P_0$ is the input power, $C$ is the coupling coefficient, and $L$ is the length of the coupler.\n",
    "\n",
    "The coupling coefficient is found with supermode analysis.\n",
    "\n",
    " "
   ]
  },
  {
   "attachments": {},
   "cell_type": "markdown",
   "metadata": {},
   "source": [
    "### Supermodes\n",
    "\n",
    "Just like there are modes that exist in one waveguide, supermodes are modes that exist in multiple waveguides based on the interactions between them. These modes interact with each other and the combination of these interactions results in what light is propagating in the waveguide.\n",
    "\n",
    "An \"odd\", or antisymmetric, supermode occurs when light in the two waveguides are $180^\\circ$ out of phase i.e. perfectly out of phase. Similarly, an \"even\", or symmetric, supermode occurs when the two waveguides are in phase.\n",
    "\n",
    "### Coupling Coefficient\n",
    "The two supermodes that are used to find the coupling coefficient are the first two modes, which happen to be an even and odd mode, respectively.\n",
    "\n",
    "The coupling coefficient is $C = \\frac{\\pi\\Delta n}{\\lambda}$\n",
    "\n",
    "Where $\\Delta n = |n_{1} - n_{2}| = |n_{eff,even} - n_{eff,odd}|$"
   ]
  },
  {
   "attachments": {},
   "cell_type": "markdown",
   "metadata": {},
   "source": [
    "### Beating\n",
    "As seen in the equation above, each supermode has its own effective index ($n_{eff,even}$, $n_{eff,odd}$) that differs from that of the normal mode in the waveguide and is dependent of the gap between the waveguides. $n_{eff,even}$ increases as the gap decreases, and $n_{eff,odd}$ decreases as the gap decreases. The different effective indices also mean that the two modes have different propagation constants.\n",
    "\n",
    "The propagation constant is:\n",
    "$\\beta = \\frac{2 \\pi n_eff}{\\lambda}$\n",
    "\n",
    "Because of this difference in propagation constants, the field intensity oscillates between the two waveguides. This is called beating. As the gap between the waveguides gets smaller, the beating gets faster since $\\Delta n$ gets larger as the difference increases, thus making the cross-over length shorter.\n",
    "\n",
    "The cross-over length is the length it takes for all of the power to go from one waveguide to the other (essentially one beat) and is discussed below."
   ]
  },
  {
   "attachments": {},
   "cell_type": "markdown",
   "metadata": {},
   "source": [
    "### Cross-over Length\n",
    "The power that one waveguide receives from the other is given by:\n",
    "\n",
    "$$\n",
    "P_{cross}(L) = P_{initial}sin^2(\\frac{\\pi\\Delta n}{\\lambda}L)\n",
    "$$\n",
    "\n",
    "and the coupling length, $L$, that gives 100% power transfer is $$L_{cross-over} = \\frac {\\lambda}{2\\Delta n}$$\n",
    "\n",
    "This is found from determining what length when multiplied by the propagation constants makes the phase difference $\\pi$:\n",
    "\n",
    "$$ \\beta _1 L_x - \\beta _2 L_x = \\pi $$\n",
    "$$ L_x[\\frac{2 \\pi n_1}{\\lambda} - \\frac{2 \\pi n_2}{\\lambda}] = \\pi $$\n"
   ]
  },
  {
   "attachments": {},
   "cell_type": "markdown",
   "metadata": {},
   "source": [
    "### Simulation \n",
    "\n",
    "To explore how electric field intensity oscillates between two close waveguides, a meep simulation is provided below that creates two long waveguides with a gap of 0.2um, excites a source at the end of one, and shows the electric field intensity over time in the waveguides. Change the gap distance to observe its affect on the cross-over length. You can also change the lengths of the waveguides to better see the beating. The simulation may take a couple of minutes depending on the length of your waveguide. The plot of the simulation setup and the outputted GIF showing the field intensities for a simulation with a gap of $0.2 \\mu m$ is shown below."
   ]
  },
  {
   "cell_type": "code",
   "execution_count": 7,
   "metadata": {},
   "outputs": [
    {
     "name": "stderr",
     "output_type": "stream",
     "text": [
      "Warning: grid volume is not an integer number of pixels; cell size will be rounded to nearest pixel.\n"
     ]
    },
    {
     "name": "stdout",
     "output_type": "stream",
     "text": [
      "     block, center = (0,0,0)\n",
      "          size (32,4.07,0)\n",
      "          axes (1,0,0), (0,1,0), (0,0,1)\n",
      "          dielectric constant epsilon diagonal = (2.1025,2.1025,2.1025)\n",
      "     block, center = (0,0.285,0)\n",
      "          size (32,0.5,0)\n",
      "          axes (1,0,0), (0,1,0), (0,0,1)\n",
      "          dielectric constant epsilon diagonal = (11.9025,11.9025,11.9025)\n",
      "     block, center = (0,-0.285,0)\n",
      "          size (32,0.5,0)\n",
      "          axes (1,0,0), (0,1,0), (0,0,1)\n",
      "          dielectric constant epsilon diagonal = (11.9025,11.9025,11.9025)\n"
     ]
    },
    {
     "data": {
      "text/plain": [
       "<Axes: xlabel='X', ylabel='Y'>"
      ]
     },
     "execution_count": 7,
     "metadata": {},
     "output_type": "execute_result"
    },
    {
     "data": {
      "image/png": "[encoded data removed]",
      "text/plain": [
       "<Figure size 640x480 with 1 Axes>"
      ]
     },
     "metadata": {},
     "output_type": "display_data"
    }
   ],
   "source": [
    "import meep as mp\n",
    "\n",
    "# Define materials\n",
    "Si = mp.Medium(index=3.45)\n",
    "SiO2 = mp.Medium(index=1.45)\n",
    "\n",
    "# Define wavelength in um\n",
    "wvl = 1.55\n",
    "\n",
    "\n",
    "# # Define cell and geometric parameters\n",
    "resolution = 20\n",
    "wg_width = 0.5\n",
    "dpml = 1\n",
    "pad = 0.5\n",
    "## CHANGE GAP DISTANCE ##\n",
    "gap = 0.07\n",
    "## CHANGE WAVEGUIDE LENGTH ##\n",
    "Lx = 30\n",
    "\n",
    "Sx = dpml + Lx + dpml\n",
    "Sy = dpml + pad + wg_width + gap + wg_width + pad + dpml\n",
    "wg_center_y = gap/2 + wg_width/2\n",
    "\n",
    "# Add PML (perfectly matched layers)\n",
    "pml = [mp.PML(dpml)]\n",
    "\n",
    "# Create 2 infinitely long parallel waveguides\n",
    "geometry = [mp.Block(size=mp.Vector3(Sx,Sy, 0), center=mp.Vector3(), material=SiO2),\n",
    "            mp.Block(size=mp.Vector3(Sx,wg_width, 0), center=mp.Vector3(0, wg_center_y, 0), material=Si),\n",
    "            mp.Block(size=mp.Vector3(Sx,wg_width, 0), center=mp.Vector3(0, -wg_center_y, 0), material=Si),\n",
    "            ]\n",
    "\n",
    "# Put a pulse Eigenmode source at beginning of one waveguide\n",
    "fcen = 1 / wvl\n",
    "width = 0.1\n",
    "fwidth = width * fcen\n",
    "src=mp.GaussianSource(frequency=fcen, fwidth=fwidth)\n",
    "source = [mp.EigenModeSource(src=src, eig_band=1,\n",
    "        eig_kpoint = (1,0,0),\n",
    "        size=mp.Vector3(0,gap+wg_width),\n",
    "        center=mp.Vector3(-Sx/2+dpml+1, -wg_center_y))\n",
    "        ]\n",
    "\n",
    "# Simulation object\n",
    "sim = mp.Simulation(\n",
    "    cell_size=mp.Vector3(Sx, Sy),\n",
    "    boundary_layers=pml,\n",
    "    geometry=geometry,\n",
    "    sources=source,\n",
    "    default_material=SiO2,\n",
    "    resolution=resolution,\n",
    ")\n",
    "\n",
    "# Show simulation set-up\n",
    "sim.plot2D()"
   ]
  },
  {
   "cell_type": "code",
   "execution_count": 8,
   "metadata": {},
   "outputs": [
    {
     "name": "stderr",
     "output_type": "stream",
     "text": [
      "Warning: grid volume is not an integer number of pixels; cell size will be rounded to nearest pixel.\n"
     ]
    },
    {
     "name": "stdout",
     "output_type": "stream",
     "text": [
      "-----------\n",
      "Initializing structure...\n",
      "time for choose_chunkdivision = 0.00039506 s\n",
      "Working in 2D dimensions.\n",
      "Computational cell is 32 x 4.05 x 0 with resolution 20\n",
      "     block, center = (0,0,0)\n",
      "          size (32,4.07,0)\n",
      "          axes (1,0,0), (0,1,0), (0,0,1)\n",
      "          dielectric constant epsilon diagonal = (2.1025,2.1025,2.1025)\n",
      "     block, center = (0,0.285,0)\n",
      "          size (32,0.5,0)\n",
      "          axes (1,0,0), (0,1,0), (0,0,1)\n",
      "          dielectric constant epsilon diagonal = (11.9025,11.9025,11.9025)\n",
      "     block, center = (0,-0.285,0)\n",
      "          size (32,0.5,0)\n",
      "          axes (1,0,0), (0,1,0), (0,0,1)\n",
      "          dielectric constant epsilon diagonal = (11.9025,11.9025,11.9025)\n",
      "time for set_epsilon = 0.149517 s\n",
      "-----------\n"
     ]
    },
    {
     "name": "stderr",
     "output_type": "stream",
     "text": [
      "Warning: grid volume is not an integer number of pixels; cell size will be rounded to nearest pixel.\n"
     ]
    },
    {
     "name": "stdout",
     "output_type": "stream",
     "text": [
      "MPB solved for frequency_1(1,0,0) = 0.313423 after 16 iters\n",
      "MPB solved for frequency_1(2.07931,0,0) = 0.636587 after 10 iters\n",
      "MPB solved for frequency_1(2.1086,0,0) = 0.645157 after 7 iters\n",
      "MPB solved for frequency_1(2.10862,0,0) = 0.645161 after 2 iters\n",
      "creating output file \"./eps-000000.00.h5\"...\n",
      "creating output file \"./ez.h5\"...\n",
      "Meep progress: 76.72500000000001/200.0 = 38.4% done in 4.0s, 6.4s to go\n",
      "on time step 3077 (time=76.925), 0.00130015 s/step\n",
      "Meep progress: 155.425/200.0 = 77.7% done in 8.0s, 2.3s to go\n",
      "on time step 6227 (time=155.675), 0.00126987 s/step\n",
      "run 0 finished at t = 200.0 (8000 timesteps)\n"
     ]
    },
    {
     "name": "stderr",
     "output_type": "stream",
     "text": [
      "h5topng error: invalid slice of HDF5 data\n"
     ]
    }
   ],
   "source": [
    "from PIL import Image\n",
    "import glob\n",
    "import os\n",
    "\n",
    "# Capture electric field intensity over time and output into a gif\n",
    "sim.run(mp.at_beginning(mp.output_epsilon),\n",
    "        mp.to_appended(\"ez\", mp.at_every(2, mp.output_efield_z)),\n",
    "        until=200)\n",
    "\n",
    "# Generate pngs from the simulation output\n",
    "# The line that worked in my workspace\n",
    "os.system(\"h5topng -t 0:99 -R -Zc /home/ebang4/miniconda3/envs/h5utils/share/h5utils/colormaps/RdBu -A /home/ebang4/Github/Photonics-Bootcamp/book/pages/eps-000000.00.h5 -a /home/ebang4/miniconda3/envs/h5utils/share/h5utils/colormaps/gray /home/ebang4/Github/Photonics-Bootcamp/book/pages/ez.h5\")\n",
    "\n",
    "# This line assumes that their colormaps are working and that they are in the same directory as the output files\n",
    "# also that h5py is installed\n",
    "os.system(\"h5topng -t 0:299 -R -Zc RdBu -A eps-000000.00.h5 -a gray ez.h5\")\n",
    "\n",
    "# Create a gif from the pngs\n",
    "frames = []\n",
    "imgs = glob.glob(\"ez.t*\")\n",
    "imgs.sort()\n",
    "for i in imgs:\n",
    "    new_frame = Image.open(i)\n",
    "    frames.append(new_frame)\n",
    "\n",
    " \n",
    "# Save into a GIF file that loops forever\n",
    "frames[0].save('ez.gif', format='GIF',\n",
    "               append_images=frames[1:],\n",
    "               save_all=True,\n",
    "               loop=0)\n",
    "\n",
    "# Clean up workspace by deleting all generated images\n",
    "for i in imgs: \n",
    "    os.remove(i)"
   ]
  },
  {
   "attachments": {},
   "cell_type": "markdown",
   "metadata": {},
   "source": [
    "Image of the simulation set-up:\n",
    "\n",
    "<div style=\"text-align: center;\">\n",
    "\n",
    "![set-up](https://github.com/BYUCamachoLab/Photonics-Bootcamp/blob/main/book/images/Notebook_Images/dircplr_sim_setup.png?raw=true)\n",
    "\n",
    "</div>\n",
    "\n",
    "Gif from the meep simulation with a gap of $0.2 \\mu m$:\n",
    "\n",
    "<div style=\"text-align: center;\">\n",
    "\n",
    "![gif](https://github.com/BYUCamachoLab/Photonics-Bootcamp/blob/main/book/images/Notebook_Images/dircplr_ez.gif?raw=true)\n",
    "\n",
    "</div>\n",
    "\n",
    "**CREATE graphs to show the relationship that hopefully they have just observed in code**"
   ]
  },
  {
   "attachments": {},
   "cell_type": "markdown",
   "metadata": {},
   "source": [
    "### Coupler-gap Dependence\n",
    "\n",
    "There is an exponential relationship between the gap and the coupling.\n",
    "\n",
    "$$C = B\\cdot e^{-A \\cdot g}$$\n",
    "\n",
    "$A$ and $B$ are dependent on various parameters of the directional coupler, such as the geometry and the wavelength at which it is being operated."
   ]
  },
  {
   "attachments": {},
   "cell_type": "markdown",
   "metadata": {},
   "source": [
    "### Design Considerations\n",
    "\n",
    "So, when designing a directional coupler, you must select a length and gap distance that will give you your desired fraction of the input power at each output port. Also, given the important role that geometry has in determining the characteristics of a directional coupler (such as the coupling coefficient), they are very susceptible to manufacturing variations. This is something to keep in mind as you build circuits that may have strict specifications.\n",
    "\n",
    "Another element to consider is that the principles that make a directional coupler work can also mess with the layout of your chip. Parasitic coupling occurs when two waveguides (that are not part of a directional coupler) are placed too close to each other, leading to power \"leaking\" from one to the other. Waveguides and components should be placed far enough away so that this does not happen."
   ]
  },
  {
   "attachments": {},
   "cell_type": "markdown",
   "metadata": {},
   "source": [
    "### Sources\n",
    "\n",
    "\"Silicon Photonics Design\" by Lukas Chrostowski\n",
    "\n",
    "\"Photonic Components: Directional Coupler\" by Stefan Preble"
   ]
  }
 ],
 "metadata": {
  "kernelspec": {
   "display_name": "Python 3",
   "language": "python",
   "name": "python3"
  },
  "language_info": {
   "codemirror_mode": {
    "name": "ipython",
    "version": 3
   },
   "file_extension": ".py",
   "mimetype": "text/x-python",
   "name": "python",
   "nbconvert_exporter": "python",
   "pygments_lexer": "ipython3",
   "version": "3.11.0"
  },
  "orig_nbformat": 4
 },
 "nbformat": 4,
 "nbformat_minor": 2
}
