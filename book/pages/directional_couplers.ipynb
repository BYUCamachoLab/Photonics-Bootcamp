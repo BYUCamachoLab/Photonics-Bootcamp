{
 "cells": [
  {
   "attachments": {},
   "cell_type": "markdown",
   "metadata": {},
   "source": [
    "## Directional Couplers\n",
    "\n",
    "Directional couplers move light from one waveguide to another. This is done simply by bringing two waveguides parallel to each other for a certain distance at certain distance apart. The evanescent fields (fields existing outside of the waveguide) of one waveguide interact with another and thus power is transferred. This principle can be used to split or combine light, depending on the coupling length (the length at which the waveguides are sufficiently close to each other) and the phase of the light in the waveguides."
   ]
  },
  {
   "attachments": {},
   "cell_type": "markdown",
   "metadata": {},
   "source": [
    "### Supermodes\n",
    "\n",
    "Just like there are modes that exist in one waveguide, supermodes are modes that exist in multiple waveguides based on the interaction between them. These modes interact with each other and the combination of these interactions results in what light is propagating in the waveguide.\n",
    "\n",
    "An \"odd\", or antisymmetric, supermode occurs when light in the two waveguides are $180\\degree$ out of phase i.e. perfectly out of phase. Similarly, an \"even\", or symmetric, supermode occurs when the two waveguides are in phase.\n",
    "\n",
    "The effective indices ($n_{eff,even}$, $n_{eff,odd}$) of the supermodes differs from that of the normal mode in the waveguide. $n_{eff,even}$ increases as the coupling gap decreases, and $n_{eff,odd}$ decreases as the coupling gap decreases.\n",
    "\n",
    "### Coupling Coefficient\n",
    "\n",
    "The coupling coefficient is $C = \\frac{\\pi\\Delta n}{\\lambda}$\n",
    "\n",
    "Where $\\Delta n = |n_{eff,even} - n_{eff,odd}|$\n",
    "\n",
    "**NEED PICTURES FOR CLARITY. Also, more intuitive understanding of why the indices do what they do**"
   ]
  },
  {
   "attachments": {},
   "cell_type": "markdown",
   "metadata": {},
   "source": [
    "### Beating\n",
    "\n",
    "As the supermodes propagate with different propagation constants, the field intensity oscillates between the two waveguides. This is called beating.\n",
    "\n",
    "The propagation constants are:\n",
    "$\\beta _1 = \\frac{2 \\pi n_1}{\\lambda}$ and\n",
    "$\\beta _2 = \\frac{2 \\pi n_2}{\\lambda}$\n",
    "\n",
    "The length it takes for one beat (for all of the power to go from one waveguide to the other) is called the cross-over length"
   ]
  },
  {
   "attachments": {},
   "cell_type": "markdown",
   "metadata": {},
   "source": [
    "### Cross-over Length\n",
    "The power that one waveguide receives from the other is given by:\n",
    "\n",
    "$$\n",
    "P_{cross}(L) = P_{initial}sin^2(\\frac{\\pi\\Delta n}{\\lambda}L)\n",
    "$$\n",
    "\n",
    "and the coupling length, $L$, that gives 100% power transfer is $$L_{cross-over} = \\frac {\\lambda}{2\\Delta n}$$\n",
    "\n",
    "This is found from determining what length when multiplied by the propagation constants makes the phase difference $\\pi$:\n",
    "\n",
    "$$ \\beta _1 L_x - \\beta _2 L_x = \\pi $$\n",
    "$$ L_x[\\frac{2 \\pi n_1}{\\lambda} - \\frac{2 \\pi n_2}{\\lambda}] = \\pi $$\n",
    "\n",
    "**Have code that they can run that shows beating? in meep?**\n"
   ]
  },
  {
   "cell_type": "code",
   "execution_count": 19,
   "metadata": {},
   "outputs": [
    {
     "name": "stdout",
     "output_type": "stream",
     "text": [
      "     block, center = (0,0,0)\n",
      "          size (12,4.2,0)\n",
      "          axes (1,0,0), (0,1,0), (0,0,1)\n",
      "          dielectric constant epsilon diagonal = (2.1025,2.1025,2.1025)\n",
      "     block, center = (0,0.35,0)\n",
      "          size (12,0.5,0)\n",
      "          axes (1,0,0), (0,1,0), (0,0,1)\n",
      "          dielectric constant epsilon diagonal = (11.9025,11.9025,11.9025)\n",
      "     block, center = (0,-0.35,0)\n",
      "          size (12,0.5,0)\n",
      "          axes (1,0,0), (0,1,0), (0,0,1)\n",
      "          dielectric constant epsilon diagonal = (11.9025,11.9025,11.9025)\n",
      "-----------\n",
      "Initializing structure...\n",
      "time for choose_chunkdivision = 0.000153065 s\n",
      "Working in 2D dimensions.\n",
      "Computational cell is 12 x 4.2 x 0 with resolution 20\n",
      "     block, center = (0,0,0)\n",
      "          size (12,4.2,0)\n",
      "          axes (1,0,0), (0,1,0), (0,0,1)\n",
      "          dielectric constant epsilon diagonal = (2.1025,2.1025,2.1025)\n",
      "     block, center = (0,0.35,0)\n",
      "          size (12,0.5,0)\n",
      "          axes (1,0,0), (0,1,0), (0,0,1)\n",
      "          dielectric constant epsilon diagonal = (11.9025,11.9025,11.9025)\n",
      "     block, center = (0,-0.35,0)\n",
      "          size (12,0.5,0)\n",
      "          axes (1,0,0), (0,1,0), (0,0,1)\n",
      "          dielectric constant epsilon diagonal = (11.9025,11.9025,11.9025)\n",
      "time for set_epsilon = 0.0665562 s\n",
      "-----------\n",
      "MPB solved for frequency_1(1,0,0) = 0.329833 after 16 iters\n",
      "MPB solved for frequency_1(2.02363,0,0) = 0.630122 after 9 iters\n",
      "MPB solved for frequency_1(2.07637,0,0) = 0.645153 after 6 iters\n",
      "MPB solved for frequency_1(2.0764,0,0) = 0.645161 after 3 iters\n",
      "creating output file \"./eps-000000.00.h5\"...\n",
      "creating output file \"./ez.h5\"...\n",
      "Meep progress: 142.8/200.0 = 71.4% done in 4.0s, 1.6s to go\n",
      "on time step 5759 (time=143.975), 0.000694725 s/step\n",
      "run 0 finished at t = 200.0 (8000 timesteps)\n"
     ]
    },
    {
     "name": "stderr",
     "output_type": "stream",
     "text": [
      "h5topng error: invalid colormap file\n",
      "sh: 1: convert: not found\n"
     ]
    },
    {
     "data": {
      "text/plain": [
       "32512"
      ]
     },
     "execution_count": 19,
     "metadata": {},
     "output_type": "execute_result"
    },
    {
     "data": {
      "image/png": "[encoded data removed]",
      "text/plain": [
       "<Figure size 640x480 with 1 Axes>"
      ]
     },
     "metadata": {},
     "output_type": "display_data"
    }
   ],
   "source": [
    "# Code to show beating/cross over length\n",
    "import meep as mp\n",
    "\n",
    "\n",
    "# Define materials\n",
    "Si = mp.Medium(index=3.45)\n",
    "SiO2 = mp.Medium(index=1.45)\n",
    "\n",
    "# Define wavelength in um\n",
    "wvl = 1.55\n",
    "wg_width = 0.5\n",
    "\n",
    "# # Define cell and geometric parameters\n",
    "# Was going to calculate crossover length beforehand, but I think after might be easier\n",
    "resolution = 20\n",
    "\n",
    "gap = 0.2\n",
    "\n",
    "dpml = 1\n",
    "pad = 0.5\n",
    "Lx = 10\n",
    "Sx = dpml + Lx + dpml\n",
    "Sy = dpml + pad + wg_width + gap + wg_width + pad + dpml\n",
    "wg_center_y = gap/2 + wg_width/2\n",
    "\n",
    "pml = [mp.PML(dpml)]\n",
    "\n",
    "# Create 2 infinitely long parallel waveguides\n",
    "geometry = [mp.Block(size=mp.Vector3(Sx,Sy, 0), center=mp.Vector3(), material=SiO2),\n",
    "            mp.Block(size=mp.Vector3(Sx,wg_width, 0), center=mp.Vector3(0, wg_center_y, 0), material=Si),\n",
    "            mp.Block(size=mp.Vector3(Sx,wg_width, 0), center=mp.Vector3(0, -wg_center_y, 0), material=Si),\n",
    "            ]\n",
    "\n",
    "# Put source at beginning of one waveguide\n",
    "fcen = 1 / wvl\n",
    "width = 0.2\n",
    "fwidth = width * fcen\n",
    "src=mp.GaussianSource(frequency=fcen, fwidth=fwidth)\n",
    "source = [mp.EigenModeSource(src=src, eig_band=1,\n",
    "        eig_kpoint = (1,0,0),\n",
    "        size=mp.Vector3(0,gap+wg_width),\n",
    "        center=mp.Vector3(-Sx/2+dpml+1, -wg_center_y))\n",
    "        ]\n",
    "\n",
    "# Simulate so source sends out a little pulse\n",
    "sim = mp.Simulation(\n",
    "    cell_size=mp.Vector3(Sx, Sy),\n",
    "    boundary_layers=pml,\n",
    "    geometry=geometry,\n",
    "    sources=source,\n",
    "    default_material=SiO2,\n",
    "    resolution=resolution,\n",
    ")\n",
    "\n",
    "# Show simulation set-up\n",
    "sim.plot2D()\n",
    "\n",
    "# Capture electric field intensity over time and output into a gif\n",
    "sim.run(mp.at_beginning(mp.output_epsilon),\n",
    "        mp.to_appended(\"ez\", mp.at_every(0.6, mp.output_efield_z)),\n",
    "        until=200)\n",
    "\n",
    "\n"
   ]
  },
  {
   "cell_type": "code",
   "execution_count": 6,
   "metadata": {},
   "outputs": [
    {
     "name": "stderr",
     "output_type": "stream",
     "text": [
      "sh: 1: convert: not found\n"
     ]
    },
    {
     "data": {
      "text/plain": [
       "32512"
      ]
     },
     "execution_count": 6,
     "metadata": {},
     "output_type": "execute_result"
    }
   ],
   "source": [
    "import os\n",
    "os.system(\"h5topng -t 0:332 -R -Zc /home/ebang4/miniconda3/envs/h5utils/share/h5utils/colormaps/RdBu /home/ebang4/Github/Photonics-Bootcamp/book/pages/ez.h5\")\n",
    "os.system(\"convert ez.t*.png ez.gif\")"
   ]
  },
  {
   "attachments": {},
   "cell_type": "markdown",
   "metadata": {},
   "source": [
    "### Graphs to show the relationship that hopefully they have just observed in code"
   ]
  },
  {
   "attachments": {},
   "cell_type": "markdown",
   "metadata": {},
   "source": [
    "### Coupler-gap Dependence\n",
    "\n",
    "How does the gap between the waveguides affect the coupling coefficient?\n",
    "\n",
    "$$C = B\\cdot e^{-A \\cdot g}$$\n",
    "\n",
    "$A$ and $B$ are dependent on "
   ]
  },
  {
   "attachments": {},
   "cell_type": "markdown",
   "metadata": {},
   "source": [
    "##### Sources\n",
    "\n",
    "\"Silicon Photonics Design\" by Lukas Chrostowski\n",
    "\n",
    "\"Photonic Components: Directional Coupler\" by Stefan Preble (slides)\n",
    "\n",
    "h5utils                   1.13.1          nompi_h51f32c1_1114    conda-forge\n",
    "hdf5                      1.12.2          nompi_h4df4325_100    conda-forge"
   ]
  }
 ],
 "metadata": {
  "kernelspec": {
   "display_name": "Python 3",
   "language": "python",
   "name": "python3"
  },
  "language_info": {
   "codemirror_mode": {
    "name": "ipython",
    "version": 3
   },
   "file_extension": ".py",
   "mimetype": "text/x-python",
   "name": "python",
   "nbconvert_exporter": "python",
   "pygments_lexer": "ipython3",
   "version": "3.11.0"
  },
  "orig_nbformat": 4
 },
 "nbformat": 4,
 "nbformat_minor": 2
}
