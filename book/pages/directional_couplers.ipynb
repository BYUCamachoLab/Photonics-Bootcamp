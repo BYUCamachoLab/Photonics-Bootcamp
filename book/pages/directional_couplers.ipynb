{
 "cells": [
  {
   "attachments": {},
   "cell_type": "markdown",
   "metadata": {},
   "source": [
    "# Directional Couplers\n",
    "\n",
    "**TODO: INSERT PICTURE OF MODES**\n",
    "\n",
    "Directional couplers move light from one waveguide to another. This is done simply by bringing two waveguides parallel to each other for a certain distance, with a small gap between them. The evanescent fields (fields existing outside of the waveguide) of one waveguide interact with another and thus power is transferred. This principle can be used to split or combine light, depending on the coupling length (the length at which the waveguides are sufficiently close to each other) and the phase of the light in the waveguides.\n",
    "\n",
    "<div style=\"text-align: center;\">\n",
    "\n",
    "![dir_cplr](https://github.com/BYUCamachoLab/Photonics-Bootcamp/blob/main/book/images/Notebook_Images/dir_cplr.png?raw=true)\n",
    "\n",
    "</div>\n",
    "<p style=\"text-align: center;\"> Layout of a directional coupler in gdsfactory </p>"
   ]
  },
  {
   "attachments": {},
   "cell_type": "markdown",
   "metadata": {},
   "source": [
    "Directional couplers can be designed to produce any combination of power at the outputs. This could be a simple 50/50 split, a 60/40 split, or even a 100/0 split where all the input power in one waveguide is coupled to the other. The fraction of power that is coupled from one waveguide to another is dependent on geometric parameters and can be described as:\n",
    "\n",
    "$$ \\kappa ^2 = \\frac {P_{cross}}{P_0} = sin^2(CL)$$\n",
    "\n",
    "Where $\\kappa$ is the field coupling, $P_{cross}$ is the coupled power, $P_0$ is the input power, $C$ is the coupling coefficient, and $L$ is the length of the coupler.\n",
    "\n",
    "The coupling coefficient is found with supermode analysis.\n",
    "\n",
    " "
   ]
  },
  {
   "attachments": {},
   "cell_type": "markdown",
   "metadata": {},
   "source": [
    "### Supermodes\n",
    "\n",
    "Just like there are modes that exist in one waveguide, supermodes are modes that exist in multiple waveguides based on the interactions between them. These modes interact with each other and the combination of these interactions results in what light is propagating in the waveguide.\n",
    "\n",
    "An \"odd\", or antisymmetric, supermode occurs when light in the two waveguides are $180^\\circ$ out of phase i.e. perfectly out of phase. Similarly, an \"even\", or symmetric, supermode occurs when the two waveguides are in phase.\n",
    "\n",
    "### Coupling Coefficient\n",
    "The two supermodes that are used to find the coupling coefficient are the first two modes, which happen to be an even and odd mode, respectively.\n",
    "\n",
    "The coupling coefficient is $C = \\frac{\\pi\\Delta n}{\\lambda}$\n",
    "\n",
    "Where $\\Delta n = |n_{1} - n_{2}| = |n_{eff,even} - n_{eff,odd}|$"
   ]
  },
  {
   "attachments": {},
   "cell_type": "markdown",
   "metadata": {},
   "source": [
    "### Beating\n",
    "As seen in the equation above, each supermode has its own effective index ($n_{eff,even}$, $n_{eff,odd}$) that differs from that of the normal mode in the waveguide and is dependent of the gap between the waveguides. $n_{eff,even}$ increases as the gap decreases, and $n_{eff,odd}$ decreases as the gap decreases. The different effective indices also mean that the two modes have different propagation constants.\n",
    "\n",
    "The propagation constant is:\n",
    "$\\beta = \\frac{2 \\pi n_eff}{\\lambda}$\n",
    "\n",
    "Because of this difference in propagation constants, the field intensity oscillates between the two waveguides. This is called beating. As the gap between the waveguides gets smaller, the beating gets faster since $\\Delta n$ gets larger as the difference increases, thus making the cross-over length shorter.\n",
    "\n",
    "The cross-over length is the length it takes for all of the power to go from one waveguide to the other (essentially one beat) and is discussed below."
   ]
  },
  {
   "attachments": {},
   "cell_type": "markdown",
   "metadata": {},
   "source": [
    "### Cross-over Length\n",
    "The power that one waveguide receives from the other is given by:\n",
    "\n",
    "$$\n",
    "P_{cross}(L) = P_{initial}sin^2(\\frac{\\pi\\Delta n}{\\lambda}L)\n",
    "$$\n",
    "\n",
    "and the coupling length, $L$, that gives 100% power transfer is $$L_{cross-over} = \\frac {\\lambda}{2\\Delta n}$$\n",
    "\n",
    "This is found from determining what length when multiplied by the propagation constants makes the phase difference $\\pi$:\n",
    "\n",
    "$$ \\beta _1 L_x - \\beta _2 L_x = \\pi $$\n",
    "$$ L_x[\\frac{2 \\pi n_1}{\\lambda} - \\frac{2 \\pi n_2}{\\lambda}] = \\pi $$\n"
   ]
  },
  {
   "attachments": {},
   "cell_type": "markdown",
   "metadata": {},
   "source": [
    "### Simulation \n",
    "\n",
    "To explore how electric field intensity oscillates between two close waveguides, a meep simulation is provided below that creates two long waveguides with a gap of 0.2um, excites a source at the end of one, and shows the electric field intensity over time in the waveguides. Change the gap distance to observe its affect on the cross-over length. You can also change the lengths of the waveguides to better see the beating. The simulation may take a couple of minutes depending on the length of your waveguide. The plot of the simulation setup and the outputted GIF showing the field intensities for a simulation with a gap of $0.2 \\mu m$ is shown below."
   ]
  },
  {
   "cell_type": "code",
   "execution_count": 2,
   "metadata": {},
   "outputs": [
    {
     "name": "stdout",
     "output_type": "stream",
     "text": [
      "Using MPI version 4.0, 1 processes\n",
      "     block, center = (0,0,0)\n",
      "          size (102,4.2,0)\n",
      "          axes (1,0,0), (0,1,0), (0,0,1)\n",
      "          dielectric constant epsilon diagonal = (2.1025,2.1025,2.1025)\n",
      "     block, center = (0,0.35,0)\n",
      "          size (102,0.5,0)\n",
      "          axes (1,0,0), (0,1,0), (0,0,1)\n",
      "          dielectric constant epsilon diagonal = (11.9025,11.9025,11.9025)\n",
      "     block, center = (0,-0.35,0)\n",
      "          size (102,0.5,0)\n",
      "          axes (1,0,0), (0,1,0), (0,0,1)\n",
      "          dielectric constant epsilon diagonal = (11.9025,11.9025,11.9025)\n"
     ]
    },
    {
     "name": "stderr",
     "output_type": "stream",
     "text": [
      "/home/ebang4/miniconda3/envs/pmp/lib/python3.11/site-packages/numpy/core/getlimits.py:518: UserWarning: The value of the smallest subnormal for <class 'numpy.float64'> type is zero.\n",
      "  setattr(self, word, getattr(machar, word).flat[0])\n",
      "/home/ebang4/miniconda3/envs/pmp/lib/python3.11/site-packages/numpy/core/getlimits.py:89: UserWarning: The value of the smallest subnormal for <class 'numpy.float64'> type is zero.\n",
      "  return self._float_to_str(self.smallest_subnormal)\n"
     ]
    },
    {
     "data": {
      "text/plain": [
       "<Axes: xlabel='X', ylabel='Y'>"
      ]
     },
     "execution_count": 2,
     "metadata": {},
     "output_type": "execute_result"
    },
    {
     "data": {
      "image/png": "[encoded data removed]",
      "text/plain": [
       "<Figure size 640x480 with 1 Axes>"
      ]
     },
     "metadata": {},
     "output_type": "display_data"
    }
   ],
   "source": [
    "import meep as mp\n",
    "\n",
    "# Define materials\n",
    "Si = mp.Medium(index=3.45)\n",
    "SiO2 = mp.Medium(index=1.45)\n",
    "\n",
    "# Define wavelength in um\n",
    "wvl = 1.55\n",
    "\n",
    "\n",
    "# # Define cell and geometric parameters\n",
    "resolution = 20\n",
    "wg_width = 0.5\n",
    "dpml = 1\n",
    "pad = 0.5\n",
    "## CHANGE GAP DISTANCE ##\n",
    "gap = 0.2\n",
    "## CHANGE WAVEGUIDE LENGTH ##\n",
    "Lx = 100\n",
    "\n",
    "Sx = dpml + Lx + dpml\n",
    "Sy = dpml + pad + wg_width + gap + wg_width + pad + dpml\n",
    "wg_center_y = gap/2 + wg_width/2\n",
    "\n",
    "# Add PML (perfectly matched layers)\n",
    "pml = [mp.PML(dpml)]\n",
    "\n",
    "# Create 2 infinitely long parallel waveguides\n",
    "geometry = [mp.Block(size=mp.Vector3(Sx,Sy, 0), center=mp.Vector3(), material=SiO2),\n",
    "            mp.Block(size=mp.Vector3(Sx,wg_width, 0), center=mp.Vector3(0, wg_center_y, 0), material=Si),\n",
    "            mp.Block(size=mp.Vector3(Sx,wg_width, 0), center=mp.Vector3(0, -wg_center_y, 0), material=Si),\n",
    "            ]\n",
    "\n",
    "# Put a pulse Eigenmode source at beginning of one waveguide\n",
    "fcen = 1 / wvl\n",
    "width = 0.1\n",
    "fwidth = width * fcen\n",
    "src=mp.GaussianSource(frequency=fcen, fwidth=fwidth)\n",
    "source = [mp.EigenModeSource(src=src, eig_band=1,\n",
    "        eig_kpoint = (1,0,0),\n",
    "        size=mp.Vector3(0,gap+wg_width),\n",
    "        center=mp.Vector3(-Sx/2+dpml+1, -wg_center_y))\n",
    "        ]\n",
    "\n",
    "# Simulation object\n",
    "sim = mp.Simulation(\n",
    "    cell_size=mp.Vector3(Sx, Sy),\n",
    "    boundary_layers=pml,\n",
    "    geometry=geometry,\n",
    "    sources=source,\n",
    "    default_material=SiO2,\n",
    "    resolution=resolution,\n",
    ")\n",
    "\n",
    "# Show simulation set-up\n",
    "sim.plot2D()"
   ]
  },
  {
   "cell_type": "code",
   "execution_count": 3,
   "metadata": {},
   "outputs": [
    {
     "name": "stdout",
     "output_type": "stream",
     "text": [
      "-----------\n",
      "Initializing structure...\n",
      "time for choose_chunkdivision = 0.00101805 s\n",
      "Working in 2D dimensions.\n",
      "Computational cell is 102 x 4.2 x 0 with resolution 20\n",
      "     block, center = (0,0,0)\n",
      "          size (102,4.2,0)\n",
      "          axes (1,0,0), (0,1,0), (0,0,1)\n",
      "          dielectric constant epsilon diagonal = (2.1025,2.1025,2.1025)\n",
      "     block, center = (0,0.35,0)\n",
      "          size (102,0.5,0)\n",
      "          axes (1,0,0), (0,1,0), (0,0,1)\n",
      "          dielectric constant epsilon diagonal = (11.9025,11.9025,11.9025)\n",
      "     block, center = (0,-0.35,0)\n",
      "          size (102,0.5,0)\n",
      "          axes (1,0,0), (0,1,0), (0,0,1)\n",
      "          dielectric constant epsilon diagonal = (11.9025,11.9025,11.9025)\n",
      "time for set_epsilon = 0.419877 s\n",
      "-----------\n",
      "MPB solved for frequency_1(1,0,0) = 0.329833 after 15 iters\n",
      "MPB solved for frequency_1(2.02363,0,0) = 0.630122 after 9 iters\n",
      "MPB solved for frequency_1(2.07637,0,0) = 0.645153 after 6 iters\n",
      "MPB solved for frequency_1(2.0764,0,0) = 0.645161 after 3 iters\n",
      "creating output file \"./eps-000000.00.h5\"...\n",
      "creating output file \"./ez.h5\"...\n",
      "Meep progress: 18.925/600.0 = 3.2% done in 4.0s, 122.9s to go\n",
      "on time step 765 (time=19.125), 0.00523014 s/step\n",
      "Meep progress: 40.0/600.0 = 6.7% done in 8.0s, 112.4s to go\n",
      "on time step 1604 (time=40.1), 0.00476778 s/step\n",
      "Meep progress: 60.975/600.0 = 10.2% done in 12.0s, 106.4s to go\n",
      "on time step 2443 (time=61.075), 0.0047716 s/step\n",
      "Meep progress: 82.10000000000001/600.0 = 13.7% done in 16.0s, 101.2s to go\n",
      "on time step 3288 (time=82.2), 0.00473685 s/step\n",
      "Meep progress: 103.4/600.0 = 17.2% done in 20.0s, 96.2s to go\n",
      "on time step 4140 (time=103.5), 0.00469803 s/step\n",
      "Meep progress: 124.35000000000001/600.0 = 20.7% done in 24.0s, 92.0s to go\n",
      "on time step 4978 (time=124.45), 0.00477524 s/step\n",
      "Meep progress: 145.8/600.0 = 24.3% done in 28.0s, 87.4s to go\n",
      "on time step 5836 (time=145.9), 0.00466566 s/step\n",
      "Meep progress: 166.35000000000002/600.0 = 27.7% done in 32.0s, 83.5s to go\n",
      "on time step 6659 (time=166.475), 0.00486455 s/step\n",
      "Meep progress: 187.57500000000002/600.0 = 31.3% done in 36.0s, 79.3s to go\n",
      "on time step 7508 (time=187.7), 0.00471489 s/step\n",
      "Meep progress: 208.82500000000002/600.0 = 34.8% done in 40.1s, 75.0s to go\n",
      "on time step 8358 (time=208.95), 0.00470809 s/step\n",
      "Meep progress: 229.20000000000002/600.0 = 38.2% done in 44.1s, 71.3s to go\n",
      "on time step 9173 (time=229.325), 0.00491149 s/step\n",
      "Meep progress: 249.875/600.0 = 41.6% done in 48.1s, 67.3s to go\n",
      "on time step 10000 (time=250), 0.00488339 s/step\n",
      "Meep progress: 270.75/600.0 = 45.1% done in 52.1s, 63.3s to go\n",
      "on time step 10844 (time=271.1), 0.00474121 s/step\n",
      "Meep progress: 291.975/600.0 = 48.7% done in 56.1s, 59.1s to go\n",
      "on time step 11684 (time=292.1), 0.00476382 s/step\n",
      "Meep progress: 312.90000000000003/600.0 = 52.2% done in 60.1s, 55.1s to go\n",
      "on time step 12530 (time=313.25), 0.00472955 s/step\n",
      "Meep progress: 334.0/600.0 = 55.7% done in 64.1s, 51.0s to go\n",
      "on time step 13371 (time=334.275), 0.0047605 s/step\n",
      "Meep progress: 355.175/600.0 = 59.2% done in 68.1s, 46.9s to go\n",
      "on time step 14219 (time=355.475), 0.00472 s/step\n",
      "Meep progress: 375.27500000000003/600.0 = 62.5% done in 72.1s, 43.2s to go\n",
      "on time step 15021 (time=375.525), 0.00498808 s/step\n",
      "Meep progress: 396.0/600.0 = 66.0% done in 76.1s, 39.2s to go\n",
      "on time step 15854 (time=396.35), 0.0048073 s/step\n",
      "Meep progress: 417.45000000000005/600.0 = 69.6% done in 80.1s, 35.0s to go\n",
      "on time step 16711 (time=417.775), 0.00467429 s/step\n",
      "Meep progress: 438.45000000000005/600.0 = 73.1% done in 84.1s, 31.0s to go\n",
      "on time step 17552 (time=438.8), 0.00475785 s/step\n",
      "Meep progress: 459.675/600.0 = 76.6% done in 88.1s, 26.9s to go\n",
      "on time step 18400 (time=460), 0.0047615 s/step\n",
      "Meep progress: 480.57500000000005/600.0 = 80.1% done in 92.1s, 22.9s to go\n",
      "on time step 19245 (time=481.125), 0.00473674 s/step\n",
      "Meep progress: 501.875/600.0 = 83.6% done in 96.1s, 18.8s to go\n",
      "on time step 20090 (time=502.25), 0.00473598 s/step\n",
      "Meep progress: 522.9/600.0 = 87.1% done in 100.1s, 14.8s to go\n",
      "on time step 20940 (time=523.5), 0.0047101 s/step\n",
      "Meep progress: 543.525/600.0 = 90.6% done in 104.1s, 10.8s to go\n",
      "on time step 21760 (time=544), 0.00490459 s/step\n",
      "Meep progress: 564.475/600.0 = 94.1% done in 108.1s, 6.8s to go\n",
      "on time step 22605 (time=565.125), 0.00473713 s/step\n",
      "Meep progress: 585.6750000000001/600.0 = 97.6% done in 112.1s, 2.7s to go\n",
      "on time step 23447 (time=586.175), 0.00475359 s/step\n",
      "run 0 finished at t = 600.0 (24000 timesteps)\n"
     ]
    }
   ],
   "source": [
    "from PIL import Image\n",
    "import glob\n",
    "import os\n",
    "\n",
    "# Capture electric field intensity over time and output into a gif\n",
    "sim.run(mp.at_beginning(mp.output_epsilon),\n",
    "        mp.to_appended(\"ez\", mp.at_every(2, mp.output_efield_z)),\n",
    "        until=600)\n",
    "\n",
    "# Generate pngs from the simulation output\n",
    "# The line that worked in my workspace\n",
    "os.system(\"h5topng -t 0:299 -R -Zc /home/ebang4/miniconda3/envs/h5utils/share/h5utils/colormaps/RdBu -A /home/ebang4/Github/Photonics-Bootcamp/book/pages/eps-000000.00.h5 -a /home/ebang4/miniconda3/envs/h5utils/share/h5utils/colormaps/gray /home/ebang4/Github/Photonics-Bootcamp/book/pages/ez.h5\")\n",
    "\n",
    "# This line assumes that their colormaps are working and that they are in the same directory as the output files\n",
    "# also that h5py is installed\n",
    "os.system(\"h5topng -t 0:299 -R -Zc RdBu -A eps-000000.00.h5 -a gray ez.h5\")\n",
    "\n",
    "# Create a gif from the pngs\n",
    "frames = []\n",
    "imgs = glob.glob(\"ez.t*\")\n",
    "imgs.sort()\n",
    "for i in imgs:\n",
    "    new_frame = Image.open(i)\n",
    "    frames.append(new_frame)\n",
    "\n",
    " \n",
    "# Save into a GIF file that loops forever\n",
    "frames[0].save('ez.gif', format='GIF',\n",
    "               append_images=frames[1:],\n",
    "               save_all=True,\n",
    "               loop=0)\n",
    "\n",
    "# Clean up workspace by deleting all generated images\n",
    "for i in imgs: \n",
    "    os.remove(i)"
   ]
  },
  {
   "attachments": {},
   "cell_type": "markdown",
   "metadata": {},
   "source": [
    "Image of the simulation set-up:\n",
    "\n",
    "<div style=\"text-align: center;\">\n",
    "\n",
    "![set-up](https://github.com/BYUCamachoLab/Photonics-Bootcamp/blob/main/book/images/Notebook_Images/dircplr_sim_setup.png?raw=true)\n",
    "\n",
    "</div>\n",
    "\n",
    "Gif from the meep simulation with a gap of $0.2 \\mu m$:\n",
    "\n",
    "<div style=\"text-align: center;\">\n",
    "\n",
    "![gif](https://github.com/BYUCamachoLab/Photonics-Bootcamp/blob/main/book/images/Notebook_Images/dircplr_ez.gif?raw=true)\n",
    "\n",
    "</div>\n",
    "\n",
    "**Graphs to show the relationship that hopefully they have just observed in code**"
   ]
  },
  {
   "attachments": {},
   "cell_type": "markdown",
   "metadata": {},
   "source": [
    "### Coupler-gap Dependence\n",
    "\n",
    "There is an exponential relationship between the gap and the coupling.\n",
    "\n",
    "$$C = B\\cdot e^{-A \\cdot g}$$\n",
    "\n",
    "$A$ and $B$ are dependent on various parameters of the directional coupler, such as the geometry and the wavelength at which it is being operated."
   ]
  },
  {
   "attachments": {},
   "cell_type": "markdown",
   "metadata": {},
   "source": [
    "### Design Considerations\n",
    "\n",
    "So, when designing a directional coupler, you must select a length and gap distance that will give you your desired fraction of the input power at each output port. Also, given the important role that geometry has in determining the characteristics of a directional coupler (such as the coupling coefficient), they are very susceptible to manufacturing variations. This is something to keep in mind as you build circuits that may have strict specifications.\n",
    "\n",
    "Another element to consider is that the principles that make a directional coupler work can also mess with the layout of your chip. Parasitic coupling occurs when two waveguides (that are not part of a directional coupler) are placed too close to each other, leading to power \"leaking\" from one to the other. Waveguides and components should be placed far enough away so that this does not happen."
   ]
  },
  {
   "attachments": {},
   "cell_type": "markdown",
   "metadata": {},
   "source": [
    "### Sources\n",
    "\n",
    "\"Silicon Photonics Design\" by Lukas Chrostowski\n",
    "\n",
    "\"Photonic Components: Directional Coupler\" by Stefan Preble (slides)"
   ]
  }
 ],
 "metadata": {
  "kernelspec": {
   "display_name": "Python 3",
   "language": "python",
   "name": "python3"
  },
  "language_info": {
   "codemirror_mode": {
    "name": "ipython",
    "version": 3
   },
   "file_extension": ".py",
   "mimetype": "text/x-python",
   "name": "python",
   "nbconvert_exporter": "python",
   "pygments_lexer": "ipython3",
   "version": "3.11.0"
  },
  "orig_nbformat": 4
 },
 "nbformat": 4,
 "nbformat_minor": 2
}
