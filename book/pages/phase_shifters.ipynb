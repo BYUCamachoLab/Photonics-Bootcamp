{
 "cells": [
  {
   "attachments": {},
   "cell_type": "markdown",
   "metadata": {},
   "source": [
    "# Phase Shifters"
   ]
  },
  {
   "attachments": {},
   "cell_type": "markdown",
   "metadata": {},
   "source": [
    "### What is a Phase Shifter?\n",
    "\n",
    "Light signals travelling through photonic circuits propagate at the speed of light and oscillate with a certain amplitude at a certain frequency. In some photonic circuit applications, it may be desirable to adjust the relative phase of a light signal. This kind of optical tuning can be achieved using a *phase shifter*.\n",
    "\n",
    "Phase shifters may be used to compensate for the natural phase dispersion of light as it travels through waveguides over long distances, however, phase shifters are also essential active elements of photonic circuits that are used to manipulate signals. \n",
    "\n",
    "For example, let's say we have two equally polarized light signals travelling through a photonic circuit that are going to be combined using a y-bridge. Depending on the phase difference between the two signals, they may interfere with one another constructively or destructively. The phase of one light signal may be manipulated using a phase shifter, so that the two light signals combine in a desired way.\n",
    "\n",
    "TODO: Insert illustration of example.\n",
    "\n",
    "\n",
    "\n"
   ]
  },
  {
   "attachments": {},
   "cell_type": "markdown",
   "metadata": {},
   "source": [
    "### How does a Phase Shifter Work?\n",
    "\n",
    "Phase shifters are regions with indices of refraction that can be changed. When a light signals passes through a materials with a different index of refraction than the material it's propagating through, the frequency of the light signal \"expands\" or \"compresses\" according to the difference between the two refractive indices. The frequency of a light signal travelling from a first material to a second material with a higher index of refraction will compress (i.e. the signal will oscillate more times per unit length within the new material). The frequency of a light signal travelling from a first material to a second material with a lower index of refraction will expand (i.e. the signal will oscillate fewer times per unit length within the new material). For illustrative purposes, see the figure below.\n",
    "\n",
    "TODO: Insert figure\n",
    "\n",
    "Notice how the relative phase of the signal changes as it passes through the material. \n"
   ]
  }
 ],
 "metadata": {
  "kernelspec": {
   "display_name": "Python 3",
   "language": "python",
   "name": "python3"
  },
  "language_info": {
   "name": "python",
   "version": "3.9.6 (default, Mar 10 2023, 20:16:38) \n[Clang 14.0.3 (clang-1403.0.22.14.1)]"
  },
  "orig_nbformat": 4,
  "vscode": {
   "interpreter": {
    "hash": "31f2aee4e71d21fbe5cf8b01ff0e069b9275f58929596ceb00d14d90e3e16cd6"
   }
  }
 },
 "nbformat": 4,
 "nbformat_minor": 2
}
