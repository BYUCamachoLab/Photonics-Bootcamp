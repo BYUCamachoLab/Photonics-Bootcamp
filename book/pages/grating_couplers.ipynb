{
 "cells": [
  {
   "attachments": {},
   "cell_type": "markdown",
   "metadata": {},
   "source": [
    "# Grating Couplers"
   ]
  },
  {
   "attachments": {},
   "cell_type": "markdown",
   "metadata": {},
   "source": [
    "Grating couplers are simply components of a photonic circuit that use refraction to couple light into a waveguide. By utilizing refraction, we can avoid have to use expensive specialized equipment to send light directly through the edge of the chip and we get the added versatility of being able input light to any location on the chip."
   ]
  },
  {
   "attachments": {},
   "cell_type": "markdown",
   "metadata": {},
   "source": [
    "![Image of an electromagnetic wave](https://raw.githubusercontent.com/BYUCamachoLab/Photonics-Bootcamp/main/book/images/Notebook_Images/grating_coupler_3d.png)\n",
    "{cite}`Cheng_Mao_Li_Han_Fu_2020`"
   ]
  },
  {
   "attachments": {},
   "cell_type": "markdown",
   "metadata": {},
   "source": [
    "Grating couplers have a periodic structure. The rows in the image above are alternating mediums of two different refractive indexes. By alternating the refractive index, the grating coupler creates interference patterns in the light which result in a forward propogating wave. The specifics of how this refraction works can be described by Hyugen's Fresnel principle and Bragg's law."
   ]
  },
  {
   "attachments": {},
   "cell_type": "markdown",
   "metadata": {},
   "source": [
    "# How does it work?"
   ]
  },
  {
   "cell_type": "code",
   "execution_count": 3,
   "metadata": {},
   "outputs": [
    {
     "data": {
      "application/vnd.jupyter.widget-view+json": {
       "model_id": "45ac0404b3b3419ab61d0c4a6f1138cf",
       "version_major": 2,
       "version_minor": 0
      },
      "text/plain": [
       "Image(value=b\"\\x89PNG\\r\\n\\x1a\\n\\x00\\x00\\x00\\rIHDR\\x00\\x00\\x03 \\x00\\x00\\x02X\\x08\\x02\\x00\\x00\\x00\\x15\\x14\\x15'\\x…"
      ]
     },
     "metadata": {},
     "output_type": "display_data"
    },
    {
     "name": "stdout",
     "output_type": "stream",
     "text": [
      "simple_grating_coupler__173251f5: uid 6c3201a3, ports [], references ['grating teeth_1', 'taper_1'], 0 polygons\n"
     ]
    }
   ],
   "source": [
    "import gdsfactory as gf\n",
    "\n",
    "@gf.cell\n",
    "def simple_grating_coupler(num_teeth = 24, period = 0.2, tooth_width = 0.1, tooth_height = 2, taper_length = 5):\n",
    "    c1 = gf.Component(\"grating tooth\")\n",
    "    tooth = c1 << gf.components.straight(length=tooth_width, width = tooth_height)\n",
    "    \n",
    "    c2 = gf.Component(\"grating teeth\")\n",
    "    a_ref = c2.add_array(\n",
    "        c1, columns=num_teeth, rows=1, spacing=[period, 1]\n",
    "    )\n",
    "    \n",
    "    c3 = gf.Component(\"taper\")\n",
    "    taper_ref = c3 << gf.components.straight(length=taper_length, width = tooth_height)\n",
    "\n",
    "    taper_ref.movex(num_teeth * period)\n",
    "\n",
    "    c4 = gf.Component(\"final\")\n",
    "    c4.add_ref(c2)\n",
    "\n",
    "    c4.add_ref(c3)\n",
    "\n",
    "    return c4\n",
    "\n",
    "simple_grating_coupler(num_teeth=15)"
   ]
  },
  {
   "attachments": {},
   "cell_type": "markdown",
   "metadata": {},
   "source": [
    "# Designing a Grating Coupler in GDS Factory"
   ]
  },
  {
   "attachments": {},
   "cell_type": "markdown",
   "metadata": {},
   "source": [
    "Let's begin our design by creating a gdsfactory cell this is done by creating a function with a unique name and the @cell decorator. Next we'll create a gds component and return it from the function. (Since we are not specifiying a PDK in this tutorial, GDS Factory will supply a default one for us)"
   ]
  },
  {
   "cell_type": "code",
   "execution_count": 2,
   "metadata": {},
   "outputs": [],
   "source": [
    "import gdsfactory as gf\n",
    "\n",
    "@gf.cell\n",
    "def grating_coupler():\n",
    "    component = gf.Component(\"my_grating_coupler\")\n",
    "    return component"
   ]
  },
  {
   "attachments": {},
   "cell_type": "markdown",
   "metadata": {},
   "source": [
    "Since we are designing a focused grating coupler, we should think about how we can easily generate the curved teeth. One method is by generating concentric circles and later cropping out a triangular portion to be the grating teeth. Let's start by writing a helper function to generate concentric circles. These circles should repeat until we get to a solid inner circle, which will become the final taper that leads into a waveguide.\n",
    "\n",
    "**Note: gf.components.ring() generates a ring whose radius is halfway between the outer and inner radii of the ring. We can fix this manually by adding a buffer distance."
   ]
  },
  {
   "cell_type": "code",
   "execution_count": 1,
   "metadata": {},
   "outputs": [
    {
     "name": "stderr",
     "output_type": "stream",
     "text": [
      "\u001b[32m2023-06-13 08:46:04.753\u001b[0m | \u001b[33m\u001b[1mWARNING \u001b[0m | \u001b[36mgdsfactory.pdk\u001b[0m:\u001b[36mget_active_pdk\u001b[0m:\u001b[36m603\u001b[0m - \u001b[33m\u001b[1mNo active PDK. Activating generic PDK.\n",
      "\u001b[0m\n"
     ]
    },
    {
     "data": {
      "application/vnd.jupyter.widget-view+json": {
       "model_id": "3da041029e634a558b7c2c8be2a12aa3",
       "version_major": 2,
       "version_minor": 0
      },
      "text/plain": [
       "Image(value=b'\\x89PNG\\r\\n\\x1a\\n\\x00\\x00\\x00\\rIHDR\\x00\\x00\\x03 \\x00\\x00\\x02X\\x08\\x02\\x00\\x00\\x00\\x15\\x14\\x15\\'\\…"
      ]
     },
     "metadata": {},
     "output_type": "display_data"
    },
    {
     "name": "stdout",
     "output_type": "stream",
     "text": [
      "grating_coupler: uid 76a05199, ports [], references ['Concentric circles_1', 'circle_1'], 0 polygons\n"
     ]
    }
   ],
   "source": [
    "import gdsfactory as gf\n",
    "\n",
    "@gf.cell\n",
    "def grating_coupler():\n",
    "    radius_inner_circle = 5\n",
    "\n",
    "    def concentric_rings():\n",
    "        c = gf.Component(\"Concentric circles\")\n",
    "        for i in range(10):\n",
    "            initial_ring_radius = radius_inner_circle + 0.5\n",
    "            circle = gf.components.ring(radius = i * 0.7 + initial_ring_radius, width = 0.35)\n",
    "            c.add_ref(circle)\n",
    "        return c\n",
    "    \n",
    "    component = gf.Component(\"my_grating_coupler\")\n",
    "    component.add_ref(concentric_rings())\n",
    "\n",
    "    center_circle = gf.components.circle(radius=radius_inner_circle)\n",
    "    component.add_ref(center_circle)\n",
    "\n",
    "    return component\n",
    "\n",
    "c = grating_coupler()\n",
    "c"
   ]
  },
  {
   "attachments": {},
   "cell_type": "markdown",
   "metadata": {},
   "source": [
    "Now, we can very easily trim the component down to the desired tapered shape by using gf.geometry.trim(). Afterwhich we should add a port to connect our geometry to a waveguide. Now we should have a very simplistic model for a grating coupler."
   ]
  },
  {
   "cell_type": "code",
   "execution_count": 1,
   "metadata": {},
   "outputs": [
    {
     "name": "stderr",
     "output_type": "stream",
     "text": [
      "\u001b[32m2023-06-13 08:55:42.060\u001b[0m | \u001b[33m\u001b[1mWARNING \u001b[0m | \u001b[36mgdsfactory.pdk\u001b[0m:\u001b[36mget_active_pdk\u001b[0m:\u001b[36m603\u001b[0m - \u001b[33m\u001b[1mNo active PDK. Activating generic PDK.\n",
      "\u001b[0m\n"
     ]
    },
    {
     "data": {
      "application/vnd.jupyter.widget-view+json": {
       "model_id": "711c6f8b996c49d9804ec537e0585d67",
       "version_major": 2,
       "version_minor": 0
      },
      "text/plain": [
       "Image(value=b'\\x89PNG\\r\\n\\x1a\\n\\x00\\x00\\x00\\rIHDR\\x00\\x00\\x03 \\x00\\x00\\x02X\\x08\\x02\\x00\\x00\\x00\\x15\\x14\\x15\\'\\…"
      ]
     },
     "metadata": {},
     "output_type": "display_data"
    },
    {
     "name": "stdout",
     "output_type": "stream",
     "text": [
      "grating_coupler: uid ee169edf, ports [], references [], 11 polygons\n"
     ]
    }
   ],
   "source": [
    "import gdsfactory as gf\n",
    "\n",
    "@gf.cell\n",
    "def grating_coupler():\n",
    "    radius_inner_circle = 5\n",
    "\n",
    "    def concentric_rings():\n",
    "        c = gf.Component(\"Concentric circles\")\n",
    "        for i in range(10):\n",
    "            initial_ring_radius = radius_inner_circle + 0.5\n",
    "            circle = gf.components.ring(radius = i * 0.7 + initial_ring_radius, width = 0.35)\n",
    "            c.add_ref(circle)\n",
    "        return c\n",
    "    \n",
    "    component = gf.Component(\"my_grating_coupler\")\n",
    "    component.add_ref(concentric_rings())\n",
    "\n",
    "    center_circle = gf.components.circle(radius=radius_inner_circle)\n",
    "    component.add_ref(center_circle)\n",
    "\n",
    "    triangle_length = radius_inner_circle + 2 * 10\n",
    "    triangle_height = 20\n",
    "    \n",
    "    component = gf.geometry.trim(component=component, domain=[[0, 0.25], [0, -0.25], [-triangle_length, -triangle_height], [-triangle_length, triangle_height]])\n",
    "    \n",
    "    return component\n",
    "\n",
    "c = grating_coupler()\n",
    "c"
   ]
  },
  {
   "attachments": {},
   "cell_type": "markdown",
   "metadata": {},
   "source": [
    "Now, this component represents the basic idea of a focused grating coupler in that it has refraction teeth and a taper that leads to a waveguide, however, before we simulate this component in meep, we should discuss a basic parameters and revise our design."
   ]
  },
  {
   "attachments": {},
   "cell_type": "markdown",
   "metadata": {},
   "source": [
    "# Fill Factor\n"
   ]
  },
  {
   "attachments": {},
   "cell_type": "markdown",
   "metadata": {},
   "source": [
    "The fill factor ..."
   ]
  },
  {
   "attachments": {},
   "cell_type": "markdown",
   "metadata": {},
   "source": [
    "# Grating Period\n",
    "The grating period ..."
   ]
  },
  {
   "cell_type": "code",
   "execution_count": 3,
   "metadata": {},
   "outputs": [
    {
     "data": {
      "application/vnd.jupyter.widget-view+json": {
       "model_id": "502f253312a546578e53f8648caac64a",
       "version_major": 2,
       "version_minor": 0
      },
      "text/plain": [
       "Image(value=b'\\x89PNG\\r\\n\\x1a\\n\\x00\\x00\\x00\\rIHDR\\x00\\x00\\x03 \\x00\\x00\\x02X\\x08\\x02\\x00\\x00\\x00\\x15\\x14\\x15\\'\\…"
      ]
     },
     "metadata": {},
     "output_type": "display_data"
    },
    {
     "name": "stdout",
     "output_type": "stream",
     "text": [
      "focusing_grating_couple_f701ae8b: uid c6ade7ec, ports ['o1'], references [], 25 polygons\n"
     ]
    }
   ],
   "source": [
    "import gdsfactory as gf\n",
    "\n",
    "@gf.cell\n",
    "def focusing_grating_coupler(grating_period = 0.7, width = 0.35, taper_length = 20, num_teeth = 20 , port_width = 1):\n",
    "    \n",
    "    def concentric_rings():\n",
    "        c = gf.Component(\"Concentric circles\")\n",
    "        for i in range(num_teeth):\n",
    "            initial_radius = taper_length + grating_period - 0.5 * width\n",
    "            c.add_ref(gf.components.ring(radius = initial_radius + i * grating_period, width = width))\n",
    "        return c\n",
    "    \n",
    "    component = gf.Component(\"focusing_grating_coupler\")\n",
    "    component.add_ref(concentric_rings())\n",
    "\n",
    "    center_circle = gf.components.circle(radius=taper_length)\n",
    "    component.add_ref(center_circle)\n",
    "\n",
    "    triangle_length = taper_length + 2 * num_teeth\n",
    "    triangle_height = 20\n",
    "    \n",
    "    component = gf.geometry.trim(component=component, domain=[[0, port_width/2], [0, -port_width/2], [-triangle_length, -triangle_height], [-triangle_length, triangle_height]])\n",
    "\n",
    "    component2 = gf.Component(\"waveguide\")\n",
    "    rect_ref = gf.components.straight(width = 10)\n",
    "    component2.add_ref(rect_ref)\n",
    "    component.add_port(name = \"o1\", center = (0,0), width=port_width, orientation = 0, layer=1)\n",
    "\n",
    "    return component\n",
    "\n",
    "c = focusing_grating_coupler(grating_period=0.7, width = 0.35, taper_length = 10, num_teeth = 24, port_width=0.5)\n",
    "c"
   ]
  },
  {
   "cell_type": "code",
   "execution_count": null,
   "metadata": {},
   "outputs": [],
   "source": []
  },
  {
   "cell_type": "code",
   "execution_count": null,
   "metadata": {},
   "outputs": [],
   "source": []
  }
 ],
 "metadata": {
  "kernelspec": {
   "display_name": "mp",
   "language": "python",
   "name": "python3"
  },
  "language_info": {
   "codemirror_mode": {
    "name": "ipython",
    "version": 3
   },
   "file_extension": ".py",
   "mimetype": "text/x-python",
   "name": "python",
   "nbconvert_exporter": "python",
   "pygments_lexer": "ipython3",
   "version": "3.11.3"
  },
  "orig_nbformat": 4
 },
 "nbformat": 4,
 "nbformat_minor": 2
}
