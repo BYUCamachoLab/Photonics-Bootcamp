{
 "cells": [
  {
   "attachments": {},
   "cell_type": "markdown",
   "metadata": {},
   "source": [
    "# Grating Couplers"
   ]
  },
  {
   "attachments": {},
   "cell_type": "markdown",
   "metadata": {},
   "source": [
    "Grating couplers are simply components of a photonic circuit that use refraction to couple light into a waveguide. By utilizing refraction, we can avoid have to use expensive specialized equipment to send light directly through the edge of the chip and we get the added versatility of being able input light to any location on the chip."
   ]
  },
  {
   "attachments": {},
   "cell_type": "markdown",
   "metadata": {},
   "source": [
    "![Image of an electromagnetic wave](https://raw.githubusercontent.com/BYUCamachoLab/Photonics-Bootcamp/main/book/images/Notebook_Images/grating_coupler_3d.png)\n",
    "{cite}`Cheng_Mao_Li_Han_Fu_2020`"
   ]
  },
  {
   "attachments": {},
   "cell_type": "markdown",
   "metadata": {},
   "source": [
    "Grating couplers have a periodic structure. The rows in the image above are alternating mediums of two different refractive indexes. By alternating the refractive index, the grating coupler creates interference patterns in the light which result in a forward propogating wave. The specifics of how this refraction works can be described by Hyugen's Fresnel principle and Bragg's law."
   ]
  },
  {
   "attachments": {},
   "cell_type": "markdown",
   "metadata": {},
   "source": [
    "# How does it work?"
   ]
  },
  {
   "attachments": {},
   "cell_type": "markdown",
   "metadata": {},
   "source": []
  },
  {
   "cell_type": "code",
   "execution_count": 1,
   "metadata": {},
   "outputs": [],
   "source": [
    "import gdsfactory as gf"
   ]
  },
  {
   "cell_type": "code",
   "execution_count": 2,
   "metadata": {},
   "outputs": [
    {
     "name": "stderr",
     "output_type": "stream",
     "text": [
      "\u001b[32m2023-05-22 12:42:15.741\u001b[0m | \u001b[33m\u001b[1mWARNING \u001b[0m | \u001b[36mgdsfactory.pdk\u001b[0m:\u001b[36mget_active_pdk\u001b[0m:\u001b[36m563\u001b[0m - \u001b[33m\u001b[1mNo active PDK. Activating generic PDK.\n",
      "\u001b[0m\n"
     ]
    },
    {
     "data": {
      "application/vnd.jupyter.widget-view+json": {
       "model_id": "5eb46e3631bb42cfa06beee0619526f0",
       "version_major": 2,
       "version_minor": 0
      },
      "text/plain": [
       "Image(value=b'\\x89PNG\\r\\n\\x1a\\n\\x00\\x00\\x00\\rIHDR\\x00\\x00\\x03 \\x00\\x00\\x02X\\x08\\x02\\x00\\x00\\x00\\x15\\x14\\x15\\'\\…"
      ]
     },
     "metadata": {},
     "output_type": "display_data"
    },
    {
     "name": "stdout",
     "output_type": "stream",
     "text": [
      "simple_grating_coupler__173251f5: uid 6d0d12ea, ports [], references ['grating teeth_1', 'taper_1'], 0 polygons\n"
     ]
    }
   ],
   "source": [
    "@gf.cell\n",
    "def simple_grating_coupler(num_teeth = 24, period = 0.2, tooth_width = 0.1, tooth_height = 2, taper_length = 5):\n",
    "    c1 = gf.Component(\"grating tooth\")\n",
    "    tooth = c1 << gf.components.straight(length=tooth_width, width = tooth_height)\n",
    "    \n",
    "    c2 = gf.Component(\"grating teeth\")\n",
    "    a_ref = c2.add_array(\n",
    "        c1, columns=num_teeth, rows=1, spacing=[period, 1]\n",
    "    )\n",
    "    \n",
    "    c3 = gf.Component(\"taper\")\n",
    "    taper_ref = c3 << gf.components.straight(length=taper_length, width = tooth_height)\n",
    "\n",
    "    taper_ref.movex(num_teeth * period)\n",
    "\n",
    "    c4 = gf.Component(\"final\")\n",
    "    c4.add_ref(c2)\n",
    "\n",
    "    c4.add_ref(c3)\n",
    "\n",
    "    return c4\n",
    "\n",
    "simple_grating_coupler(num_teeth=15)"
   ]
  },
  {
   "attachments": {},
   "cell_type": "markdown",
   "metadata": {},
   "source": [
    "# GDS"
   ]
  },
  {
   "cell_type": "code",
   "execution_count": 1,
   "metadata": {},
   "outputs": [
    {
     "name": "stderr",
     "output_type": "stream",
     "text": [
      "\u001b[32m2023-05-22 13:49:16.385\u001b[0m | \u001b[33m\u001b[1mWARNING \u001b[0m | \u001b[36mgdsfactory.pdk\u001b[0m:\u001b[36mget_active_pdk\u001b[0m:\u001b[36m563\u001b[0m - \u001b[33m\u001b[1mNo active PDK. Activating generic PDK.\n",
      "\u001b[0m\n"
     ]
    },
    {
     "data": {
      "application/vnd.jupyter.widget-view+json": {
       "model_id": "6ca0531601444ccf8b0f36cf4ccd5951",
       "version_major": 2,
       "version_minor": 0
      },
      "text/plain": [
       "Image(value=b'\\x89PNG\\r\\n\\x1a\\n\\x00\\x00\\x00\\rIHDR\\x00\\x00\\x03 \\x00\\x00\\x02X\\x08\\x02\\x00\\x00\\x00\\x15\\x14\\x15\\'\\…"
      ]
     },
     "metadata": {},
     "output_type": "display_data"
    },
    {
     "name": "stdout",
     "output_type": "stream",
     "text": [
      "focusing_grating_couple_f701ae8b: uid 1834fdec, ports ['o1'], references [], 25 polygons\n"
     ]
    }
   ],
   "source": [
    "import gdsfactory as gf\n",
    "from shapely.geometry.polygon import Polygon\n",
    "\n",
    "@gf.cell\n",
    "def focusing_grating_coupler(grating_period = 0.7, width = 0.35, taper_length = 20, num_teeth = 20 , port_width = 1):\n",
    "    \n",
    "    def concentric_rings(num_circles = num_teeth):\n",
    "        c = gf.Component(\"Concentric circles\")\n",
    "        for i in range(num_circles):\n",
    "            initial_radius = taper_length + grating_period - 0.5 * width\n",
    "            c.add_ref(gf.components.ring(radius = initial_radius + i * grating_period, width = width))\n",
    "        return c\n",
    "    \n",
    "    component = gf.Component(\"focusing_grating_coupler\")\n",
    "    component.add_ref(concentric_rings())\n",
    "\n",
    "    center_circle = gf.components.circle(radius=taper_length)\n",
    "    component.add_ref(center_circle)\n",
    "\n",
    "    triangle_length = taper_length + 2 * num_teeth\n",
    "    triangle_height = 20\n",
    "    \n",
    "    component = gf.geometry.trim(component=component, domain=[[0, port_width/2], [0, -port_width/2], [-triangle_length, -triangle_height], [-triangle_length, triangle_height]])\n",
    "\n",
    "    component2 = gf.Component(\"waveguide\")\n",
    "    rect_ref = gf.components.straight(width = 10)\n",
    "    component2.add_ref(rect_ref)\n",
    "    component.add_port(name = \"o1\", center = (0,0), width=port_width, orientation = 0, layer=1)\n",
    "\n",
    "    return component\n",
    "\n",
    "c = focusing_grating_coupler(grating_period=0.7, width = 0.35, taper_length = 10, num_teeth = 24, port_width=0.5)\n",
    "c"
   ]
  },
  {
   "cell_type": "code",
   "execution_count": null,
   "metadata": {},
   "outputs": [],
   "source": []
  },
  {
   "cell_type": "code",
   "execution_count": null,
   "metadata": {},
   "outputs": [],
   "source": []
  },
  {
   "cell_type": "code",
   "execution_count": null,
   "metadata": {},
   "outputs": [],
   "source": []
  },
  {
   "cell_type": "code",
   "execution_count": null,
   "metadata": {},
   "outputs": [],
   "source": []
  }
 ],
 "metadata": {
  "kernelspec": {
   "display_name": "mp",
   "language": "python",
   "name": "python3"
  },
  "language_info": {
   "codemirror_mode": {
    "name": "ipython",
    "version": 3
   },
   "file_extension": ".py",
   "mimetype": "text/x-python",
   "name": "python",
   "nbconvert_exporter": "python",
   "pygments_lexer": "ipython3",
   "version": "3.11.3"
  },
  "orig_nbformat": 4
 },
 "nbformat": 4,
 "nbformat_minor": 2
}
