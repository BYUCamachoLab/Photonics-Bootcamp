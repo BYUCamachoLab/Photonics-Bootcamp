{
 "cells": [
  {
   "attachments": {},
   "cell_type": "markdown",
   "metadata": {},
   "source": [
    "# Grating Couplers"
   ]
  },
  {
   "attachments": {},
   "cell_type": "markdown",
   "metadata": {},
   "source": [
    "Grating couplers are simply components of a photonic circuit that use refraction to couple light into a waveguide. By utilizing refraction, we can avoid have to use expensive specialized equipment to send light directly through the edge of the chip and we get the added versatility of being able input light to any location on the chip."
   ]
  },
  {
   "attachments": {},
   "cell_type": "markdown",
   "metadata": {},
   "source": [
    "![Image of an electromagnetic wave](https://raw.githubusercontent.com/BYUCamachoLab/Photonics-Bootcamp/main/book/images/Notebook_Images/grating_coupler_3d.png)\n",
    "{cite}`Cheng_Mao_Li_Han_Fu_2020`"
   ]
  },
  {
   "attachments": {},
   "cell_type": "markdown",
   "metadata": {},
   "source": []
  }
 ],
 "metadata": {
  "language_info": {
   "name": "python"
  },
  "orig_nbformat": 4
 },
 "nbformat": 4,
 "nbformat_minor": 2
}
