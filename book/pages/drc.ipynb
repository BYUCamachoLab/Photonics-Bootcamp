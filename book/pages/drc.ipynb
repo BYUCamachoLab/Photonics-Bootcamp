{
 "cells": [
  {
   "cell_type": "markdown",
   "metadata": {},
   "source": [
    "# Design rule checking\n",
    "\n",
    "This section appears here because it's related to the idea of a {term}`PDK`, but you should return to it after learning about device design. Once you've actually created and simulated a design, it will help you validate the manufacturability of your design."
   ]
  },
  {
   "cell_type": "code",
   "execution_count": null,
   "metadata": {},
   "outputs": [],
   "source": []
  }
 ],
 "metadata": {
  "language_info": {
   "name": "python"
  },
  "orig_nbformat": 4
 },
 "nbformat": 4,
 "nbformat_minor": 2
}
