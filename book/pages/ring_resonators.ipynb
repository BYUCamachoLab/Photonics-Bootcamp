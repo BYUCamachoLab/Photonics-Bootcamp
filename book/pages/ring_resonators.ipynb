{
 "cells": [
  {
   "attachments": {},
   "cell_type": "markdown",
   "metadata": {},
   "source": [
    "# Ring Resonators\n",
    "\n",
    "* What does it look like\n",
    "* Coupling in and out- connect back to directional couplers\n",
    "* Round trip loss\n",
    "* Simulation- only have a ring to avoid lengthy simulation time\n",
    "* Designing/interpreting results\n",
    "\n",
    "Ok hear me out: a meep simulation showing the electric fields in resonance would be pretty sick. Although have to be careful to make the simulation short so that you don't get anything weird with it all."
   ]
  }
 ],
 "metadata": {
  "language_info": {
   "name": "python"
  },
  "orig_nbformat": 4
 },
 "nbformat": 4,
 "nbformat_minor": 2
}
