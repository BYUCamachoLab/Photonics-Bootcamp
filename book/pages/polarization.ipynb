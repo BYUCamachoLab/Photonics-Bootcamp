{
 "cells": [
  {
   "cell_type": "markdown",
   "id": "2ab72c81",
   "metadata": {},
   "source": [
    "# Polarization"
   ]
  },
  {
   "cell_type": "markdown",
   "id": "0ba28ddf",
   "metadata": {},
   "source": [
    "To understand how an optical waveguide works, it is important to understand what it means for light to be polarized. This is because the polarization of light will affect how it behaves in a waveguide.\n"
   ]
  },
  {
   "cell_type": "markdown",
   "id": "615a3e88",
   "metadata": {},
   "source": [
    "The diagram below describes the motion of a wave of light, which is an electromagnetic wave:"
   ]
  },
  {
   "cell_type": "markdown",
   "id": "2a04cf31",
   "metadata": {},
   "source": [
    "![Image of splitter file](https://i.stack.imgur.com/27cRJ.png)"
   ]
  },
  {
   "cell_type": "markdown",
   "id": "914da73a",
   "metadata": {},
   "source": [
    "Both the electric and the magnetic components of the wave are moving in the Z-direction. You and think of this as where the light is heading in a waveguide. \n",
    "\n",
    "In addition to moving down the waveguide, the electric and magentic components of the wave are oscillating perpendicular to each other. The direction in which this oscillation occurs is where the idea of polarization of light comes from. The polarization of light simply refers to the direction in which the electric componet oscillates. In this case, the electric component of the wave moves vertically in the Y-direction, so we say that the wave is vertically polarized."
   ]
  },
  {
   "cell_type": "markdown",
   "id": "5a731994",
   "metadata": {},
   "source": [
    "The reason that this is important is because polarized light behaves differently in an optical circuit depending on the direction in which it is polarized. A beam of light polarized in the X direction will behave differently than a beam polarized in the Y-direction."
   ]
  },
  {
   "cell_type": "markdown",
   "id": "6e3b2f74",
   "metadata": {},
   "source": [
    "This presents a challenged when considering that light typically is not polarized. Unpolarized light is composed of waves of light whose magnetic field components are arranged in random directions. And since the components of light polarized in the X and Y directions is not predictable, the behavior of the unpolarized light is not completely consistent in a waveguide."
   ]
  }
 ],
 "metadata": {
  "kernelspec": {
   "display_name": "Python 3 (ipykernel)",
   "language": "python",
   "name": "python3"
  },
  "language_info": {
   "codemirror_mode": {
    "name": "ipython",
    "version": 3
   },
   "file_extension": ".py",
   "mimetype": "text/x-python",
   "name": "python",
   "nbconvert_exporter": "python",
   "pygments_lexer": "ipython3",
   "version": "3.10.9"
  }
 },
 "nbformat": 4,
 "nbformat_minor": 5
}
