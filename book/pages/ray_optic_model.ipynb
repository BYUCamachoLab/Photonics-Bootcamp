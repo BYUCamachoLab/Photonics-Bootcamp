{
 "cells": [
  {
   "cell_type": "markdown",
   "metadata": {},
   "source": [
    "# Improving the Ray-optic Model\n",
    "So far we have used a simplified model to describe the behavior of light in photonic components called the ray-optic model. This model is a great starting point for building an intuition of key concepts such as why a high index of refraction material surround by lower index of refraction materials would be necessary to achieve total internal reflection. However, this model is an abstraction built on the flawed assumption that the wavelength of light is much smaller than the size of the photonic components. \n",
    "\n",
    "This simplified model could lead to misconceptions about the behavior of light in optical compenents. Consider two challenges our simplified model presents in the context of a slab waveguide:\n",
    "\n",
    "One implicit assumption from our model is that light is fully contained within the core of the waveguide waveguide. While the electronic and magnetic fields are mostly contained within the core of the waveguide, portions of the field are partially contained within the cladding. These evanescent fields are crucial to the operation of certain optical components such as directional couplers or tapered fibers and will be discussed in later sections.\n",
    "\n",
    "Additionally, our current model implies that any angle greater than the critical angle would support the propagation of light within a waveguide, however, light does not propagate through a waveguide well except at discrete angles. These angles correspond to certain modes supported by the geometry of the waveguide and the frequency of the light being used."
   ]
  },
  {
   "cell_type": "markdown",
   "metadata": {},
   "source": [
    "# Supported Modes\n",
    "The following animation depicts how light interacts with the waveguide at some angle. The white beam represents the light which has been sent into the waveguide. The orthoganal blue and red lines represent the wavefronts of the light at intervals of 1/2 a wavelength. The blue represents peaks in the amplitude and the red represents troughs in the amplitude. Pay special attention to how these values are swapped upon reflections. Let the electric field be orthogonal to the white line and the wavefronts, such that we have TE polarized light, or in other words, the electric field is coming straight out of the page. It is also important to clarify that the entire animation represents only a point in time and that the reason the white beam is drawn incrementall is to help visualize the angle of the light and how it relates to the wavefronts.  \n",
    "\n",
    "With all this a backdrop, it is clear that there will be considerable destructive interference between the wavefronts and the reflected wavefronts. This is why light does not propagate well through a waveguide at most angles: most of the light will be lost due to destructive interferrence. \n",
    "<div style=\"text-align: center;width: 400px;margin: auto\">\n",
    "  <img src=\"https://github.com/BYUCamachoLab/Photonics-Bootcamp/blob/main/book/images/destructive_wg_angle.gif?raw=true\">\n",
    "</div>\n",
    "\n",
    "Ideally, we would send the light through the waveguide in such a way that there is minimal destructive interference. Without changing the wavelength, we can simply choose a more appropriate angle and achieve this. The following animation depicts this. Notice how the wavefronts and the reflected wavefronts are more or less in phase. The \"mode\" represented in the waveguide emerges from the interference patterns of the wavefronts. The mode below is the \"fundamental mode.\" Higher order modes will still constructively interfere, but they are more complicated.\n",
    "\n",
    "<div style=\"text-align: center;width: 400px;margin: auto\">\n",
    "\n",
    "  <img src=\"https://github.com/BYUCamachoLab/Photonics-Bootcamp/blob/main/book/images/constructive_wg_angle.gif?raw=true\">\n",
    "\n",
    "</div>"
   ]
  },
  {
   "cell_type": "markdown",
   "metadata": {},
   "source": [
    "Now these animations were created in 2D, but obviously the waveguide is a 3D object. MIT has put together some 3D animations to help further visualize waveguide modes.\n",
    "\n",
    "https://s3.amazonaws.com/fip-1/Polarization/index.html\n",
    "\n",
    "https://s3.amazonaws.com/fip-0/Full-Explorer/index.html"
   ]
  }
 ],
 "metadata": {
  "celltoolbar": "Edit Metadata",
  "kernelspec": {
   "display_name": "pyrolab",
   "language": "python",
   "name": "pyrolab"
  },
  "language_info": {
   "codemirror_mode": {
    "name": "ipython",
    "version": 3
   },
   "file_extension": ".py",
   "mimetype": "text/x-python",
   "name": "python",
   "nbconvert_exporter": "python",
   "pygments_lexer": "ipython3",
   "version": "3.11.4"
  }
 },
 "nbformat": 4,
 "nbformat_minor": 2
}
