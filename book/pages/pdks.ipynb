{
 "cells": [
  {
   "cell_type": "markdown",
   "metadata": {},
   "source": [
    "# Process design kits\n",
    "\n",
    "A {term}`process design kit` (PDK) is a system of software, models, and tools for modeling a fabrication process for use in designing integrated circuits (electronic or photonic). A PDK typically includes process flow information, a layer stack, process design rules, geometric device models, circuit models, and digital compact models for simulation.\n",
    "\n",
    "One such PDK is the [SiEPIC Ebeam PDK](https://github.com/SiEPIC/SiEPIC_EBeam_PDK) library. This library will be used for this class as it is required for the [OpenEBL](https://siepic.ca/openebl/) fabrication run. Conveniently, many of the tools we have learned to use have the SiEPIC PDK buit in, so it will be relatively easy to design and simulate our devices. GDS factory and Simphony have the PDK built in and ready to go, but KLayout requires the installation of a package. Go through parts 1, 2, and 3 of the [SiEPIC installation instructions](https://github.com/siepic/SiEPIC_EBeam_PDK/wiki/Installation-instructions). If you have already installed KLayout, skip to step 2.\n",
    "\n",
    "Installing the package will help you make sure your designs meet the design rules. For example, if you run the verification by clicking the \"Functional Verification\" button, you should see a text box saying there are no errors. However, if you open the \"Double-bus ring resonator sweep\" example, you will see a window open that shows all the errors. Before submitting to the OpenEBL run, make sure the verification runs without finding any errors. "
   ]
  },
  {
   "cell_type": "markdown",
   "metadata": {},
   "source": []
  },
  {
   "cell_type": "code",
   "execution_count": null,
   "metadata": {},
   "outputs": [],
   "source": []
  }
 ],
 "metadata": {
  "language_info": {
   "name": "python"
  },
  "orig_nbformat": 4
 },
 "nbformat": 4,
 "nbformat_minor": 2
}
