{
 "cells": [
  {
   "attachments": {},
   "cell_type": "markdown",
   "metadata": {},
   "source": [
    "# Modelling Wavegudies"
   ]
  },
  {
   "attachments": {},
   "cell_type": "markdown",
   "metadata": {},
   "source": [
    "## Waveguide Parameters\n",
    "\n",
    "Waveguides can be modelled as parameterized circuit elements. When we model simple circuit elements, we typically only care about one of their parameters (e.g. resistors are modelled with respect to their resistance, capacitors with respect to their capacitance, etc). It's true that all circuit elements in the physical world are defined by *many* parameters, but for modelling purposes, all but a few parameters are ignored. For example, when we include a resistor in a circuit model, we only specify the resistor's resistance. We don't care about it's other characteristics like mass, volume, temperature, color parameters, or even its capacitance or inductance.\n",
    "\n",
    "There are several parameters to consider when modelling a waveguide in a photonic circuit. Here's a non-exhaustive list:\n",
    "1. Width\n",
    "2. Height\n",
    "3. Cross-Sectional Shape\n",
    "4. Effective Index\n",
    "5. Group Index\n",
    "\n",
    "\n",
    "\n",
    "\n"
   ]
  },
  {
   "attachments": {},
   "cell_type": "markdown",
   "metadata": {},
   "source": [
    "Let's talk about each of these parameters one at a time.\n",
    "\n",
    "## Spatial Dimensions\n",
    "The spatial dimensions of a waveguide affect the how photonic signals travel through the waveguide. The width of a waveguide is commonly between 400nm and 950nm, and the height of a waveguide is commonly 220nm. The width and height of a waveguide determine the guided modes that the waveguide can support.</br>\n",
    "\n",
    "The cross-sectional shape of a waveguide refers to geometry of the waveguide's opening. Waveguides come in many shapes, but the most common are slab waveguides and rib waveguides.\n",
    "\n",
    "TODO: Add illustration of slab and rib waveguides\n",
    "\n",
    "Slab waveguides feature a rectangular core etched on cladding material. Rib waveguides feature a core that resembles a slab waveguide with an extra ridge of core material on one side. Rib waveguides are more difficult to manufacture, but offer better confinement of photonic signals.\n",
    "\n"
   ]
  },
  {
   "attachments": {},
   "cell_type": "markdown",
   "metadata": {},
   "source": [
    "## Effective Index\n",
    "The effective index of a waveguide refers to the index of refraction experienced by a photonic signal within the waveguide. It represents the velocity of the signal within the waveguide compared to its velocity in free space.\n",
    " \n",
    "The effective index of a waveguide for a given mode can be found by solving the wave equation for the guided mode travelling through the waveguide. This calculation is somewhat complicated and tedious because it depends on not only the geometry of the waveguide, but the properties of the photonic signal itself. Instead of calculating the effective index manually, we can use functions in the tidy3D library to streamline the process. "
   ]
  },
  {
   "attachments": {},
   "cell_type": "markdown",
   "metadata": {},
   "source": [
    ":::{note}\n",
    "Calculating effective index with the tidy3D mode solver\n",
    "1. \n",
    ":::\n",
    "<br />"
   ]
  },
  {
   "attachments": {},
   "cell_type": "markdown",
   "metadata": {},
   "source": [
    "Notice how that, as the wavelength of the signal travelling through the waveguide increases, the effective index of the waveguide decreases. This is because different wavelegnths of light interact with the atoms of a waveguide in slightly different ways, leading to changes in the refractive index of the material. Shorter wavelengths correspond to higher refractive indices, longer wavelengths correspond to lower refractive indices. "
   ]
  },
  {
   "attachments": {},
   "cell_type": "markdown",
   "metadata": {},
   "source": [
    "## Group Index\n",
    "\n",
    "Because different wavelengths of light have different refractive indices, they travel at different speeds. Photonic signals are often made up of many different wavelengths of light, so if we want to accurately depict the speed of a photonic signal, we'll need a measurement beyond a simple effective index. A group index refers to the average speed of a photonic signal made of several different wavelengths of light. \n",
    "\n",
    "The group index can be calculated with the following equation: \n"
   ]
  },
  {
   "attachments": {},
   "cell_type": "markdown",
   "metadata": {},
   "source": [
    "\\begin{gather*}\n",
    "n_g = n_{eff} - \\frac{dn_{eff}}{d\\lambda}\\lambda_0\n",
    "\\end{gather*}"
   ]
  },
  {
   "attachments": {},
   "cell_type": "markdown",
   "metadata": {},
   "source": [
    "The group index is equal to the effective index minus the derivative of the effective index with respect to wavelength times the reference wavelength. The reference wavelength is chosen with consideration to the band of the chosen photonic signal."
   ]
  }
 ],
 "metadata": {
  "kernelspec": {
   "display_name": "Python 3",
   "language": "python",
   "name": "python3"
  },
  "language_info": {
   "name": "python",
   "version": "3.9.6 (default, Mar 10 2023, 20:16:38) \n[Clang 14.0.3 (clang-1403.0.22.14.1)]"
  },
  "orig_nbformat": 4,
  "vscode": {
   "interpreter": {
    "hash": "31f2aee4e71d21fbe5cf8b01ff0e069b9275f58929596ceb00d14d90e3e16cd6"
   }
  }
 },
 "nbformat": 4,
 "nbformat_minor": 2
}
