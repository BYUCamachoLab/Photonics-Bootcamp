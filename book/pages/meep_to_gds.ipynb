{
  "cells": [
    {
      "attachments": {},
      "cell_type": "markdown",
      "metadata": {},
      "source": [
        "# Meep to GDS\n",
        "\n",
        "After designing and simulating a component using Meep, you can take that component and put it into gdsfactory. From there, you can design a circuit with it and put it into a GDS file. The method to do this is contained in `gdsfactory.simulation.gmeep.meep_adjoint_optimization` and is relatively straightforward. The function name is `get_component_from_sim`. It takes in a Meep simulation object (make sure it is 2D) and returns a GDS component. From there, you can use gdsfactory functions on it, or export it directly to a GDS file.\n",
        "\n",
        "If you choose to continue manipulating the component in gdsfactory, you will most likely want to add ports to your component. This is done using the `add_ports` function for the component.\n",
        "\n",
        "Example code for these functions is shown below."
      ]
    },
    {
      "cell_type": "code",
      "execution_count": 1,
      "metadata": {},
      "outputs": [
        {
          "name": "stderr",
          "output_type": "stream",
          "text": [
            "\u001b[32m2024-02-14 10:20:23.688\u001b[0m | \u001b[1mINFO    \u001b[0m | \u001b[36mgplugins.gmeep\u001b[0m:\u001b[36m<module>\u001b[0m:\u001b[36m39\u001b[0m - \u001b[1mMeep '1.28.0' installed at ['/home/parkeraa/miniconda3/envs/mp/lib/python3.11/site-packages/meep']\u001b[0m\n",
            "\u001b[32m2024-02-14 10:20:23.826\u001b[0m | \u001b[33m\u001b[1mWARNING \u001b[0m | \u001b[36mgdsfactory.pdk\u001b[0m:\u001b[36mget_active_pdk\u001b[0m:\u001b[36m734\u001b[0m - \u001b[33m\u001b[1mNo active PDK. Activating generic PDK.\n",
            "\u001b[0m\n",
            "\u001b[32m2024-02-14 10:20:23.947\u001b[0m | \u001b[1mINFO    \u001b[0m | \u001b[36mgdsfactory.technology.layer_views\u001b[0m:\u001b[36m__init__\u001b[0m:\u001b[36m790\u001b[0m - \u001b[1mImporting LayerViews from YAML file: '/home/parkeraa/miniconda3/envs/mp/lib/python3.11/site-packages/gdsfactory/generic_tech/layer_views.yaml'.\u001b[0m\n",
            "\u001b[32m2024-02-14 10:20:23.949\u001b[0m | \u001b[1mINFO    \u001b[0m | \u001b[36mgdsfactory.pdk\u001b[0m:\u001b[36mactivate\u001b[0m:\u001b[36m307\u001b[0m - \u001b[1m'generic' PDK is now active\u001b[0m\n",
            "\u001b[32m2024-02-14 10:20:24.161\u001b[0m | \u001b[1mINFO    \u001b[0m | \u001b[36mgdsfactory.component\u001b[0m:\u001b[36m_write_library\u001b[0m:\u001b[36m1913\u001b[0m - \u001b[1mWrote to '2x2MMI.gds'\u001b[0m\n"
          ]
        },
        {
          "data": {
            "text/plain": [
              "PosixPath('2x2MMI.gds')"
            ]
          },
          "execution_count": 1,
          "metadata": {},
          "output_type": "execute_result"
        },
        {
          "data": {
            "image/png": "[encoded data removed]",
            "text/plain": [
              "<Figure size 640x480 with 1 Axes>"
            ]
          },
          "metadata": {},
          "output_type": "display_data"
        }
      ],
      "source": [
        "import meep as mp\n",
        "from gplugins.gmeep.meep_adjoint_optimization import get_component_from_sim\n",
        "\n",
        "Si = mp.Medium(index=3.45)\n",
        "SiO2 = mp.Medium(index=1.45)\n",
        "wvl = 1.55\n",
        "resolution = 20\n",
        "\n",
        "# Variables for geometry\n",
        "waveguide_width = 0.5\n",
        "arm_separation = 0.25\n",
        "mmi_length = 5.5\n",
        "mmi_width = 2.5\n",
        "taper_width = 1\n",
        "taper_length = 10\n",
        "pml_size = 1\n",
        "pml_layers = [mp.PML(pml_size)]\n",
        "\n",
        "Sx = 2 * taper_length + mmi_length + 2 * pml_size\n",
        "Sy = mmi_width +  2 * pml_size + 0.5\n",
        "\n",
        "taper_x1 = taper_length + mmi_length\n",
        "taper_x2 = mmi_length / 2\n",
        "taper_y1 = arm_separation / 2\n",
        "taper_y2 = taper_width / 2 - waveguide_width / 2 + arm_separation / 2\n",
        "taper_y3 = taper_width / 2 + waveguide_width / 2 + arm_separation / 2\n",
        "taper_y4 = taper_width + arm_separation / 2\n",
        "\n",
        "# Simulation geometry\n",
        "geometry = [mp.Block(mp.Vector3(mmi_length, mmi_width), center=mp.Vector3(), material=Si),\n",
        "               mp.Prism(vertices=[mp.Vector3(-taper_x2, -taper_y1), mp.Vector3(-taper_x2, -taper_y4), mp.Vector3(-taper_x1, -taper_y3), mp.Vector3(-taper_x1, -taper_y2)], height=mp.inf, material=Si),\n",
        "               mp.Prism(vertices=[mp.Vector3(taper_x2, -taper_y1), mp.Vector3(taper_x2, -taper_y4), mp.Vector3(taper_x1, -taper_y3), mp.Vector3(taper_x1, -taper_y2)], height=mp.inf, material=Si),\n",
        "               mp.Prism(vertices=[mp.Vector3(-taper_x2, taper_y1), mp.Vector3(-taper_x2, taper_y4), mp.Vector3(-taper_x1, taper_y3), mp.Vector3(-taper_x1, taper_y2)], height=mp.inf, material=Si),\n",
        "               mp.Prism(vertices=[mp.Vector3(taper_x2, taper_y1), mp.Vector3(taper_x2, taper_y4), mp.Vector3(taper_x1, taper_y3), mp.Vector3(taper_x1, taper_y2)], height=mp.inf, material=Si),\n",
        "]\n",
        "\n",
        "# Variables for the source\n",
        "fcen = 1 / wvl\n",
        "width = 0.2\n",
        "fwidth = width * fcen\n",
        "source_center_x = -(mmi_length / 2 + taper_length - 0.5)\n",
        "source_size = mp.Vector3(0, waveguide_width + 0.5)\n",
        "kpoint = mp.Vector3(1, 0, 0)\n",
        "src = mp.GaussianSource(frequency=fcen, fwidth=fwidth)\n",
        "\n",
        "sources = [\n",
        "    mp.EigenModeSource(\n",
        "        src,\n",
        "        eig_band=1,\n",
        "        direction=mp.NO_DIRECTION,\n",
        "        eig_kpoint = kpoint,\n",
        "        size=source_size,\n",
        "        center=mp.Vector3(source_center_x, -(taper_y2 + waveguide_width / 2)),\n",
        "    ),\n",
        "]\n",
        "\n",
        "sim = mp.Simulation(\n",
        "    cell_size=mp.Vector3(Sx, Sy),\n",
        "    boundary_layers=pml_layers,\n",
        "    geometry=geometry,\n",
        "    sources=sources,\n",
        "    default_material=SiO2,\n",
        "    resolution=resolution,\n",
        "    geometry_center = mp.Vector3()\n",
        ")\n",
        "\n",
        "# Visualize the simulation\n",
        "sim.plot2D()\n",
        "\n",
        "# Specify simulation and center frequency of source to get component\n",
        "mmi = get_component_from_sim(sim, fcen)\n",
        "# Can specify a different location to save file\n",
        "mmi.write_gds(gdspath=\"2x2MMI.gds\")\n",
        "\n",
        "# Specify a list of ports and use the following function to add ports to your component\n",
        "# mmi.add_ports(ports=[list of ports])"
      ]
    }
  ],
  "metadata": {
    "kernelspec": {
      "display_name": "Python 3",
      "language": "python",
      "name": "python3"
    },
    "language_info": {
      "codemirror_mode": {
        "name": "ipython",
        "version": 3
      },
      "file_extension": ".py",
      "mimetype": "text/x-python",
      "name": "python",
      "nbconvert_exporter": "python",
      "pygments_lexer": "ipython3",
      "version": "3.11.7"
    },
    "orig_nbformat": 4,
    "vscode": {
      "interpreter": {
        "hash": "31f2aee4e71d21fbe5cf8b01ff0e069b9275f58929596ceb00d14d90e3e16cd6"
      }
    }
  },
  "nbformat": 4,
  "nbformat_minor": 2
}
