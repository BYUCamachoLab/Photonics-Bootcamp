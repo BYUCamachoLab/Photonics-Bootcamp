{
 "cells": [
  {
   "attachments": {},
   "cell_type": "markdown",
   "metadata": {},
   "source": [
    "# Laboratory Tools"
   ]
  },
  {
   "attachments": {},
   "cell_type": "markdown",
   "metadata": {},
   "source": [
    "## Pyrolab"
   ]
  },
  {
   "attachments": {},
   "cell_type": "markdown",
   "metadata": {},
   "source": [
    "Pyrolab is an open source framework based on Pyro5 that enables remote access of laboratory equipment. Many lab instruments don't support remote control at all in favor of local-only control via USB. Some lab instruments support remote control via proprietary methods, but these methods are specific for specific tools and brands. Pyrolab unifies access for each of these intruments in an easy-to-use format. \n",
    "\n",
    "Pyrolab methods are accessed using the command line."
   ]
  },
  {
   "attachments": {},
   "cell_type": "markdown",
   "metadata": {},
   "source": [
    "### Installing Pyrolab"
   ]
  },
  {
   "attachments": {},
   "cell_type": "markdown",
   "metadata": {},
   "source": [
    "Pyrolab can be installed using pip. For our purposes, we recommend installing Pyrolab in its own virtual environment with Conda."
   ]
  },
  {
   "cell_type": "code",
   "execution_count": null,
   "metadata": {
    "vscode": {
     "languageId": "plaintext"
    }
   },
   "outputs": [],
   "source": [
    "conda create -n environment_name\n",
    "conda activate environment_name\n",
    "conda install pip\n",
    "pip install pyrolab"
   ]
  },
  {
   "attachments": {},
   "cell_type": "markdown",
   "metadata": {},
   "source": [
    "Pyrolab can be updated using the same syntax as other PyPi packages:"
   ]
  },
  {
   "cell_type": "code",
   "execution_count": null,
   "metadata": {
    "vscode": {
     "languageId": "plaintext"
    }
   },
   "outputs": [],
   "source": [
    "pip install --upgrade pyrolab"
   ]
  },
  {
   "attachments": {},
   "cell_type": "markdown",
   "metadata": {},
   "source": [
    "For more information about Pyrolab, including server installation, supported laboratory equipment, and documentation, visit the [Pyrolab GitHub](https://github.com/BYUCamachoLab/pyrolab). "
   ]
  },
  {
   "attachments": {},
   "cell_type": "markdown",
   "metadata": {},
   "source": [
    "## Autogator"
   ]
  },
  {
   "attachments": {},
   "cell_type": "markdown",
   "metadata": {},
   "source": [
    "Autogator (or AUTOmatic-chip-interroGATOR) is a software package that includes methods for controlling photonic circuit chip testing stations. Autogator interfaces with remote access software tools (like Pyrolab) to enable remote chip testing. "
   ]
  },
  {
   "attachments": {},
   "cell_type": "markdown",
   "metadata": {},
   "source": [
    "### Installing Autogator"
   ]
  },
  {
   "attachments": {},
   "cell_type": "markdown",
   "metadata": {},
   "source": [
    "Just like Pyrolab, Autogator can be installed using pip. For our purposes, we recommend installing Autogator in the same virtual environment as Pyrolab."
   ]
  },
  {
   "cell_type": "code",
   "execution_count": null,
   "metadata": {
    "vscode": {
     "languageId": "plaintext"
    }
   },
   "outputs": [],
   "source": [
    "pip install autogator"
   ]
  },
  {
   "attachments": {},
   "cell_type": "markdown",
   "metadata": {},
   "source": [
    "Fore more information about Autogator, visit the [Autogator GitHub](https://github.com/BYUCamachoLab/autogator)"
   ]
  }
 ],
 "metadata": {
  "language_info": {
   "name": "python"
  },
  "orig_nbformat": 4
 },
 "nbformat": 4,
 "nbformat_minor": 2
}
