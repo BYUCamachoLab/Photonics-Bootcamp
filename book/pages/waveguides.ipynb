{
 "cells": [
  {
   "attachments": {},
   "cell_type": "markdown",
   "metadata": {},
   "source": [
    "(waveguides_overview-target)=\n",
    "# Waveguides \n",
    "\n",
    "Overview:\n",
    "1. [What is a Waveguide?](#wiaw-target)\n",
    "2. [Total Internal Reflection](waveguides_tir.html#tir-target)\n",
    "    - [Key Equations](waveguides_tir.html#ke1-target)\n",
    "    - [Reflection and Refraction Demo](waveguides_tir.html#rar-target)\n",
    "    - [Critical Angles](waveguides_tir.html#ca-target)\n",
    "    - [Propagation of Light Through a Waveguide](waveguides_tir.html#poltw-target)\n",
    "3. Polarization overview\n",
    "    - TE vs TM waves\n",
    "4. Waveguide modelling\n",
    "    - Waveguide code demo?\n",
    "    - geometric and frequency dependencies\n",
    "4. Waveguide Modes\n",
    "    - Effective indices of modes\n",
    "    - monomodes, assymetries\n",
    "    - Mode profiles?\n",
    "    - Slab Waveguides\n",
    "\n"
   ]
  },
  {
   "attachments": {},
   "cell_type": "markdown",
   "metadata": {},
   "source": [
    "(wiaw-target)=\n",
    "## What is a Waveguide?\n",
    "\n",
    "Traditional circuits transmit electrical signals via traces, which are typically made of a conductive material like copper. Photonic circuits transmit light signals via waveguides. Waveguides are used to guide light signals to different parts of photonic circuits. Waveguides can also be used to transmit light signals over very long distances.\n",
    "\n",
    "TODO: Insert picture of waveguide on chip and fiber optic cable\n",
    "\n",
    "A simple waveguide consists of two parts: a core with a high index of refraction, and a material with a low index of refraction that surrounds the core (known as a \"cladding\"). One of the most popular waveguides for photonic circuits is the Silicon on Insulator (SOI) waveguide.  A silicon core, with a refractive index of ~3.47, is clad with silicon dioxide, which has a refractive index of ~1.44. SOI waveguides are favored for their ease of manufacture - the silicon dioxide layer can be deposited onto a silicon wafer, and then traces of silicon can be etched onto the wafer substrate.\n",
    "\n",
    "TODO: Insert picture of SOI waveguide\n",
    "\n",
    "\n"
   ]
  }
 ],
 "metadata": {
  "kernelspec": {
   "display_name": "bootcamp",
   "language": "python",
   "name": "python3"
  },
  "language_info": {
   "codemirror_mode": {
    "name": "ipython",
    "version": 3
   },
   "file_extension": ".py",
   "mimetype": "text/x-python",
   "name": "python",
   "nbconvert_exporter": "python",
   "pygments_lexer": "ipython3",
   "version": "3.10.10 (main, Mar 21 2023, 13:41:39) [Clang 14.0.6 ]"
  },
  "orig_nbformat": 4,
  "vscode": {
   "interpreter": {
    "hash": "b5e5e80fe62fe82ea8f09b36580e233933c38ab38996e3fd51c223b65a03fc4b"
   }
  }
 },
 "nbformat": 4,
 "nbformat_minor": 2
}
