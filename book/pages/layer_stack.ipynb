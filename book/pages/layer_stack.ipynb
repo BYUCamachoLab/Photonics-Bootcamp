{
 "cells": [
  {
   "cell_type": "markdown",
   "metadata": {},
   "source": [
    "# Defining the layer stack\n",
    "\n",
    "As mentioned previously, a layer stack defines the layers available to use as a designer. These layers correspond to process steps, whether that be etching of existing material, deposition of new layers, or doping. Materials may include layers for the substrate, the waveguides, cladding, metallization layers, etc., while process steps may include p- or n- doping regions, etch steps, and so on. \n",
    "\n",
    "The layer stack is usually defined in a GDS file. GDS files get translated into masks that are used to fabricate the chip.\n",
    "\n",
    "A GDS file contains \"layers\" that are defined by a tuple of two numbers: the layer number and the datatype. Formally, the GDS specification states that the layer number and datatype can each be an integer in the range from 0 to 255, although some modern software may support higher values. \n",
    "\n",
    "While there is no formal or universal system, it's common for the layer number to define a material. It's almost universal to see one layer number dedicated to waveguides, another to a specific metal layer, and so on. \n",
    "\n",
    "Some fabs will use the datatype to define the process step. For example, the layer number 1 may be used to define the waveguide layer, while the datatype 1 may be used to define the etch step for the waveguide. In other cases, the datatype may be used to group together related objects; for example, all waveguides have the same layer number, but if you have multiple waveguide layers (e.g. silicon, silicon nitride, lithium niobate, etc.), each layer would get its own datatype.\n",
    "\n",
    "Whichever system you decide to use is up to you (or your fab). The important thing is to be consistent."
   ]
  },
  {
   "cell_type": "markdown",
   "metadata": {},
   "source": [
    "## Silicon-on-insulator\n",
    "\n",
    "<div style=\"text-align: center\">\n",
    "<img src=\"https://github.com/BYUCamachoLab/Photonics-Bootcamp/blob/main/book/images/soi_wg_xsection.png?raw=true\" alt=\"Silicon-on-insulator waveguide cross-section\" width=\"240\">\n",
    "</div>\n",
    "\n",
    "The most common material system for integrated photonics is silicon-on-insulator (SOI). In this system, a thin layer of silicon is deposited on top of a layer of silicon dioxide (SiO2). The silicon dioxide layer is usually 2 microns thick, while the silicon layer is usually 220 nm thick. The silicon dioxide layer is called the \"buried oxide\" (BOX) layer, while the silicon layer is called the \"device\" layer.\n",
    "\n",
    "Because the main principle of operation of a photonic waveguide is total internal reflection, the refractive index of the waveguide core must be higher than the refractive index of the cladding. In SOI, the silicon layer is the waveguide core, while the silicon dioxide layer is the cladding. The refractive index of silicon is approximately 3.48 (and is wavelength dependent), while the refractive index of silicon dioxide is usually taken to be 1.45, depending on the model.\n",
    "\n",
    "```{tip}\n",
    "\n",
    "An excellent source for refractive index data is [refractiveindex.info](https://refractiveindex.info/). For example, here's the pages for silicon and silicon dioxide:\n",
    "\n",
    "* [silicon](https://refractiveindex.info/?shelf=main&book=Si&page=Pierce)\n",
    "* [silicon dioxide](https://refractiveindex.info/?shelf=main&book=SiO2&page=Malitson)\n",
    "```"
   ]
  },
  {
   "cell_type": "markdown",
   "metadata": {},
   "source": [
    "## Defining a layer stack in gdsfactory"
   ]
  },
  {
   "cell_type": "markdown",
   "metadata": {},
   "source": [
    "There are three tools to help you define a layer stack in gdsfactory:\n",
    "\n",
    "* [``LayerMap``](layer-map): pairs layer names to GDS layer numbers and datatypes \n",
    "* [``LayerViews``](layer-views): defines visualization of design, like layer colors and fill patterns\n",
    "* [``LayerStack``](layer-stack): information on thickness and position of each layer, for simulations or 3D models and cross-sections"
   ]
  },
  {
   "cell_type": "markdown",
   "metadata": {},
   "source": [
    "(layer-map)=\n",
    "## LayerMap\n",
    "\n",
    "Layers define process steps or materials. A layer map is a dictionary that maps human-readable layer names to GDS layer numbers and datatypes. \n",
    "\n",
    ":::{note}\n",
    "\n",
    "You can define a layer mapping from Python code or by reading an existing KLayout properties file (.lyp), if you're migrating an existing PDK to gdsfactory.\n",
    ":::\n",
    "\n",
    "There are a few utility layers that gdsfactory likes to have present if you're using any of the generic components or cross sections, as they automatically add geometries to these layers:\n",
    "\n",
    "* ``DEVREC``: device recognition layer for connectivity checks\n",
    "* ``PORT``: optical ports\n",
    "* ``PORTE``: electrical ports\n",
    "* ``SHOW_PORTS``: port markers\n",
    "* ``LABEL``: add labels to grating couplers for automatic testing\n",
    "* ``LABEL_INSTANCE``: for instance labels when reading from netlists\n",
    "* ``TE``: TE polarization fiber marker\n",
    "* ``TM``: TM polarization fiber marker\n",
    "\n",
    "gdsfactory uses [Pydantic](https://docs.pydantic.dev/latest/) to define these configuration classes.\n",
    "\n",
    "Below is a simple example layer map. It has a waveguide layer (including a partial etch layer), the utility layers, and a metal layer. Layers that you could add to your own PDK might include germanium layers (for photodiodes), silicon nitride waveguide layers, doping layers of varying concentrations (for pn junctions), more metal layers, capacitor layers, and vias of varying depths to access all of these. You may add other utility layers too, including {term}`DRC` exclude regions, dicing lanes, or layers reserved for showing errors and DRC violations. We won't do any of that here; it is left as an exercise to the reader."
   ]
  },
  {
   "cell_type": "markdown",
   "metadata": {},
   "source": [
    "*(This script is complete, it should run \"as is\")*"
   ]
  },
  {
   "cell_type": "code",
   "execution_count": 1,
   "metadata": {},
   "outputs": [
    {
     "name": "stdout",
     "output_type": "stream",
     "text": [
      "\u001b[32m2023-06-19 16:18:25.227\u001b[0m | \u001b[1mINFO    \u001b[0m | \u001b[36mgdsfactory.config\u001b[0m:\u001b[36m__init__\u001b[0m:\u001b[36m204\u001b[0m - \u001b[1mLogLevel: INFO\u001b[0m\n"
     ]
    }
   ],
   "source": [
    "from pydantic import BaseModel\n",
    "from gdsfactory.typings import Layer\n",
    "\n",
    "\n",
    "class LayerMap(BaseModel):\n",
    "    # waveguide layers\n",
    "    WG: Layer = (1, 0)\n",
    "    SLAB150: Layer = (2, 0)\n",
    "    \n",
    "    # utility layers\n",
    "    DEVREC: Layer = (68, 0)\n",
    "    PORT: Layer = (1, 10)\n",
    "    PORTE: Layer = (1, 11)\n",
    "    SHOW_PORTS: Layer = (1, 12)\n",
    "    \n",
    "    # label layers\n",
    "    LABEL: Layer = (201, 0)\n",
    "    LABEL_INSTANCES: Layer = (206, 0)\n",
    "    TE: Layer = (203, 0)\n",
    "    TM: Layer = (204, 0)\n",
    "    TEXT: Layer = (66, 0)\n",
    "    \n",
    "    # electrical layers\n",
    "    M1: Layer = (41, 0)\n",
    "    VIA: Layer = (43, 0)\n",
    "    \n",
    "    class Config:\n",
    "        frozen = True\n",
    "        extra = \"forbid\"\n",
    "\n",
    "\n",
    "LAYER = LayerMap()"
   ]
  },
  {
   "cell_type": "markdown",
   "metadata": {},
   "source": [
    "(layer-views)=\n",
    "## LayerViews\n",
    "\n",
    "Layer views define how your design will be visualized. This includes the color of each layer, the fill pattern, and whether the layer is visible or not. These settings are applied to the matplotlib plots, 3D views, cross-sections, and the settings can be exported to file for use in KLayout, too."
   ]
  },
  {
   "cell_type": "markdown",
   "metadata": {},
   "source": [
    "```yaml\n",
    "LayerViews:\n",
    "  Waveguide:\n",
    "    layer: [1, 0]\n",
    "    hatch_pattern: dotted\n",
    "    width: 1\n",
    "    color: \"#ff9d9d\"\n",
    "  SLAB150:\n",
    "    layer: [2, 0]\n",
    "    layer_in_name: true\n",
    "    hatch_pattern: coarsely dotted\n",
    "    transparent: true\n",
    "    width: 1\n",
    "    color: \"cyan\"\n",
    "  M1:\n",
    "    layer: [41, 0]\n",
    "    layer_in_name: true\n",
    "    hatch_pattern: dotted\n",
    "    width: 1\n",
    "    color: \"#01ff6b\"\n",
    "    brightness: -16\n",
    "  VIA:\n",
    "    layer: [40, 0]\n",
    "    layer_in_name: true\n",
    "    hatch_pattern: hollow\n",
    "    width: 1\n",
    "    color: \"#cc4c00\"\n",
    "  LABEL_OPTICAL_IO:\n",
    "    layer: [201, 0]\n",
    "    layer_in_name: true\n",
    "    hatch_pattern: hollow\n",
    "    width: 1\n",
    "    color: \"blue\"\n",
    "  LABEL_SETTINGS:\n",
    "    layer: [202, 0]\n",
    "    layer_in_name: true\n",
    "    hatch_pattern: hollow\n",
    "    visible: false\n",
    "    width: 1\n",
    "    color: \"magenta\"\n",
    "  TE:\n",
    "    layer: [203, 0]\n",
    "    layer_in_name: true\n",
    "    transparent: true\n",
    "    width: 1\n",
    "    color: \"blue\"\n",
    "  TM:\n",
    "    layer: [204, 0]\n",
    "    layer_in_name: true\n",
    "    width: 1\n",
    "    color: \"red\"\n",
    "  LABEL_INSTANCES:\n",
    "    layer: [206, 0]\n",
    "    layer_in_name: true\n",
    "    hatch_pattern: lightly left-hatched\n",
    "    color: \"blue\"\n",
    "  DevRec:\n",
    "    layer: [68, 0]\n",
    "    hatch_pattern: hollow\n",
    "    visible: false\n",
    "    transparent: true\n",
    "    width: 1\n",
    "    color: \"#004080\"\n",
    "  PinRec:\n",
    "    layer: [1, 10]\n",
    "    hatch_pattern: hollow\n",
    "    color: \"#404040\"\n",
    "  Text:\n",
    "    layer: [66, 0]\n",
    "    hatch_pattern: hollow\n",
    "    width: 1\n",
    "    color: \"blue\"\n",
    "  XSECTION:\n",
    "    group_members:\n",
    "      XS_BOX:\n",
    "        layer: [300, 0]\n",
    "        layer_in_name: true\n",
    "        width: 1\n",
    "        color: \"#f3ff80\"\n",
    "        hatch_pattern: solid\n",
    "      XS_SI:\n",
    "        layer: [301, 0]\n",
    "        layer_in_name: true\n",
    "        width: 1\n",
    "        color: \"black\"\n",
    "        hatch_pattern: solid\n",
    "      XS_SI_SLAB:\n",
    "        layer: [313, 0]\n",
    "        layer_in_name: true\n",
    "        width: 1\n",
    "        color: \"#80a8ff\"\n",
    "        hatch_pattern: solid\n",
    "      XS_OVERLAY:\n",
    "        layer: [311, 0]\n",
    "        layer_in_name: true\n",
    "        width: 1\n",
    "        color: \"blue\"\n",
    "        hatch_pattern: solid\n",
    "      XS_OX_SI:\n",
    "        layer: [302, 0]\n",
    "        layer_in_name: true\n",
    "        width: 1\n",
    "        color: \"#f3ff80\"\n",
    "        hatch_pattern: solid\n",
    "      XS_VIA:\n",
    "        layer: [303, 0]\n",
    "        layer_in_name: true\n",
    "        width: 1\n",
    "        color: \"grey\"\n",
    "        hatch_pattern: solid\n",
    "      XS_M1:\n",
    "        layer: [304, 0]\n",
    "        layer_in_name: true\n",
    "        width: 1\n",
    "        color: \"green\"\n",
    "        hatch_pattern: solid\n",
    "      XS_OXIDE_M1:\n",
    "        layer: [305, 0]\n",
    "        layer_in_name: true\n",
    "        width: 1\n",
    "        color: \"#f3ff80\"\n",
    "        hatch_pattern: solid\n",
    "      XS_VIA:\n",
    "        layer: [308, 0]\n",
    "        layer_in_name: true\n",
    "        width: 1\n",
    "        color: \"grey\"\n",
    "        hatch_pattern: solid\n",
    "  SHOW_PORTS:\n",
    "    layer: [1, 12]\n",
    "    layer_in_name: true\n",
    "    hatch_pattern: lightly left-hatched\n",
    "    color: \"#ff80a8\"\n",
    "  WG_PIN:\n",
    "    layer: [1, 10]\n",
    "    layer_in_name: true\n",
    "    hatch_pattern: lightly left-hatched\n",
    "    color: \"#ff80a8\"\n",
    "```"
   ]
  },
  {
   "cell_type": "code",
   "execution_count": 3,
   "metadata": {},
   "outputs": [],
   "source": [
    "from gdsfactory.config import PATH"
   ]
  },
  {
   "cell_type": "code",
   "execution_count": 9,
   "metadata": {},
   "outputs": [
    {
     "data": {
      "text/plain": [
       "PosixPath('/home/sequoia/git/Photonics-Bootcamp/env/lib/python3.11/site-packages/gdsfactory/generic_tech/klayout/tech/generic_tech.lyp')"
      ]
     },
     "execution_count": 9,
     "metadata": {},
     "output_type": "execute_result"
    }
   ],
   "source": [
    "PATH.klayout_lyp"
   ]
  },
  {
   "cell_type": "markdown",
   "metadata": {},
   "source": [
    "(layer-stack)=\n",
    "## LayerStack"
   ]
  },
  {
   "cell_type": "code",
   "execution_count": null,
   "metadata": {},
   "outputs": [],
   "source": []
  },
  {
   "cell_type": "markdown",
   "metadata": {},
   "source": [
    "## Exercises\n",
    "\n",
    "1. Create a layer stack that includes a silicon waveguide layer, a silicon nitride waveguide layer, doping layers of three concentrations for each of n-type and p-type (n, np, npp, p, pp, ppp), and two metal layers. Add a germanium layer directly above the silicon waveguides for photodiodes. Be sure to include the [utility layers](https://gdsfactory.github.io/gdsfactory/notebooks/08_pdk.html#layers) required by gdsfactory in your stack. Select your own layer numbers."
   ]
  }
 ],
 "metadata": {
  "kernelspec": {
   "display_name": "env",
   "language": "python",
   "name": "python3"
  },
  "language_info": {
   "codemirror_mode": {
    "name": "ipython",
    "version": 3
   },
   "file_extension": ".py",
   "mimetype": "text/x-python",
   "name": "python",
   "nbconvert_exporter": "python",
   "pygments_lexer": "ipython3",
   "version": "3.11.3"
  },
  "orig_nbformat": 4
 },
 "nbformat": 4,
 "nbformat_minor": 2
}
