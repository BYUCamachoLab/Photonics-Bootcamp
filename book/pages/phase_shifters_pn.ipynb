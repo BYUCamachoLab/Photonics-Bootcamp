{
 "cells": [
  {
   "attachments": {},
   "cell_type": "markdown",
   "metadata": {},
   "source": [
    "# Phase Shifters: PN Junctions and PIN Junctions"
   ]
  },
  {
   "attachments": {},
   "cell_type": "markdown",
   "metadata": {},
   "source": [
    "## PN Junction phase shifters"
   ]
  },
  {
   "attachments": {},
   "cell_type": "markdown",
   "metadata": {},
   "source": [
    "PN junction phase shifters are phase shifters that operate based on the plasma dispersion effect. The plasma dispersion effect describes a relationship between charge carriers in silicon material. By injecting or removing charge carriers into silicon, the refracive index of the silicon can be changed. It is more common for charge carriers to be *removed* from silicon, because this results in a higher change in the silicon's index of refraction.\n",
    "\n",
    "TODO: Insert diagram of PN Junction\n",
    "\n",
    "A PN junction phase shifter includes a P-doped region on one side, an N-doped region on another side, and a region between the two sides that is partially P-doped and N-doped. The center region is the width of the waveguide that a photonic signal travels through. A voltage is applied to the phase shifter (which is typically reverse biased) which causes the index of refraction of the device to change as carriers within the doped regions of the device respond to the induced electrical charges. The physics which explain the mechanics of PN junction phase shifters is quite complex and beyond our scope. For more information, see the following resources: (TODO: link resources). \n",
    "\n",
    "TODO: Insert equation??"
   ]
  },
  {
   "attachments": {},
   "cell_type": "markdown",
   "metadata": {},
   "source": [
    "### Advantages of PN Junction Phase Shifters\n",
    "\n",
    "PN junction phase shifters have several advantages:\n",
    "1. Low resistance and capacitance. PN junction phase shifters have very low intrinsic resistance and capacitance, especially when compared to other phase shifters.\n",
    "2. Small time constant. Because the capacitance and resistance of a PN junction phase shifter is so low, it's time constant is very short.\n",
    "3. High cutoff frequency. Again, because the capacitance and resistance of PN junction phase shifters is so low, these phase shifters support frequencies in the tens of GHz. \n",
    "\n",
    "The speed of PN junction phase shifters makes these devices well suited for phase modulation. \n",
    "\n"
   ]
  },
  {
   "attachments": {},
   "cell_type": "markdown",
   "metadata": {},
   "source": [
    "### Disadvantages of PN Junction Phase Shifters\n",
    "\n",
    "While PN junction phase shifters offer high operation speed, that speed comes with a tradeoff of variable insertion loss. As a byproduct of the plasma dispersion effect, the amplitude of a photonic signal changes as a result of the phase change. The amplitude change constitutes some signal loss. In some applications, this signal loss may be considered negligible. In other applications that require higher signal clarity, thermal phase shifters may be used instead of PN junction phase shifters."
   ]
  },
  {
   "attachments": {},
   "cell_type": "markdown",
   "metadata": {},
   "source": [
    "## PIN Phase Shifters"
   ]
  },
  {
   "attachments": {},
   "cell_type": "markdown",
   "metadata": {},
   "source": [
    "PIN phase shifters, like PN junction phase shifters, also operate based on the plasma dispersion effect. Like the PN junction phase shifter, a PIN phase shifter includes a P-doped region and an N-doped region, but the material between the two doped regions is undoped. This undoped region, also called the \"intrinsic\" region, copmrises the width of the waveguide that the photonic signal travels through. The added material of the intrinsic region helps to offset some of the optical loss experienced by PN junction phase shifters, at the cost of slightly increasing the time constant of the device. \n",
    "\n",
    "Unlike PN junction phase shifters, which are reverse biased, PIN phase shifters are forward biased. This is because of the carrier qualities of both devices. When a reverse biased voltage is applied to a PN junction phase shifter, carrier depletion changes the index of refraction. When a forward biased voltage is applied to a *PIN phase shifter*, carrier injection changes the index of refraction.\n",
    "\n"
   ]
  },
  {
   "attachments": {},
   "cell_type": "markdown",
   "metadata": {},
   "source": [
    "### Advantages of PIN Phase Shifters\n",
    "\n",
    "The following are advantages of PIN phase shifters:\n",
    "1. Moderately High Speed. While not quite as fast PN junction phase shifters, PIN phase shifters are still faster than other types of phase shifters, such as thermal phase shifters.\n",
    "2. Conventional Operation. When no bias voltage is applied to a PIN phase shifter, signals may travel through the intrinsic region without any phase change.\n",
    "\n",
    "The properties of PIN phase shifters make them excellent for use as tuners.\n",
    "\n",
    "### Disadvantages of PIN Phase Shifters\n",
    "\n",
    "PIN phase shifters experience the same tradeoffs of PN junction phase shifters, namely variable insertion loss that comes from the amplitude modulation of the plasma dispersion effect."
   ]
  }
 ],
 "metadata": {
  "kernelspec": {
   "display_name": "Python 3",
   "language": "python",
   "name": "python3"
  },
  "language_info": {
   "name": "python",
   "version": "3.9.6 (default, Mar 10 2023, 20:16:38) \n[Clang 14.0.3 (clang-1403.0.22.14.1)]"
  },
  "orig_nbformat": 4,
  "vscode": {
   "interpreter": {
    "hash": "31f2aee4e71d21fbe5cf8b01ff0e069b9275f58929596ceb00d14d90e3e16cd6"
   }
  }
 },
 "nbformat": 4,
 "nbformat_minor": 2
}
