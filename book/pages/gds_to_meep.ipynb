{
 "cells": [
  {
   "attachments": {},
   "cell_type": "markdown",
   "metadata": {},
   "source": [
    "# GDS to Meep\n",
    "\n",
    "[Gmeep Github](https://github.com/gdsfactory/gdsfactory/tree/main/gdsfactory/simulation/gmeep)\n",
    "\n",
    "It is often useful to simulate photonic devices before manufacturing them so that you have some idea of their performance. GDSFactory has a Meep plugin, Gmeep, that can be used to simulate devices using the finite-difference time-domain algorithm (FDTD).\n",
    "\n",
    "There are several functions within Gmeep that can be used to take a component and turn it into a Meep geometry or simulation. This means that you can take any component, either from GDSFactory or from a GDS file (see the component_from_gds notebook), and easily turn it into a Meep geometry. The two most general functions are `get_simulation` and `get_meep_geometry_from_component` (contained within gmeep.get_simulation.py). There are other more specific functions to get simulations for a grating coupler with a fiber connected to it, as well as for a far-field simulation for a grating coupler. However, the first two will suffice in this tutorial. Below is some example code showing the use of the functions.\n",
    "\n",
    "* Description of what the functions do (more about how gds works and maybe give a little bit of detail about how the functions are coded)\n",
    "* what kwargs they accept\n",
    "* pitfalls to avoid\n",
    "\n"
   ]
  },
  {
   "cell_type": "code",
   "execution_count": 3,
   "metadata": {},
   "outputs": [
    {
     "data": {
      "image/png": "[encoded data removed]",
      "text/plain": [
       "<Figure size 640x480 with 1 Axes>"
      ]
     },
     "metadata": {},
     "output_type": "display_data"
    },
    {
     "ename": "TypeError",
     "evalue": "Vector3.__init__() takes from 1 to 4 positional arguments but 8 were given",
     "output_type": "error",
     "traceback": [
      "\u001b[0;31m---------------------------------------------------------------------------\u001b[0m",
      "\u001b[0;31mTypeError\u001b[0m                                 Traceback (most recent call last)",
      "Cell \u001b[0;32mIn[3], line 22\u001b[0m\n\u001b[1;32m     20\u001b[0m sim[\u001b[39m'\u001b[39m\u001b[39msim\u001b[39m\u001b[39m'\u001b[39m]\u001b[39m.\u001b[39mcell_size\u001b[39m.\u001b[39my \u001b[39m=\u001b[39m \u001b[39m8\u001b[39m\n\u001b[1;32m     21\u001b[0m sim[\u001b[39m'\u001b[39m\u001b[39msim\u001b[39m\u001b[39m'\u001b[39m]\u001b[39m.\u001b[39mcell_size\u001b[39m.\u001b[39mx \u001b[39m=\u001b[39m \u001b[39m32\u001b[39m\n\u001b[0;32m---> 22\u001b[0m sim \u001b[39m=\u001b[39m mp\u001b[39m.\u001b[39;49mSimulation(sim)\n\u001b[1;32m     24\u001b[0m \u001b[39mfrom\u001b[39;00m \u001b[39mgdsfactory\u001b[39;00m\u001b[39m.\u001b[39;00m\u001b[39msimulation\u001b[39;00m\u001b[39m.\u001b[39;00m\u001b[39mgmeep\u001b[39;00m \u001b[39mimport\u001b[39;00m write_sparameters_meep\n",
      "File \u001b[0;32m~/miniconda3/envs/pmp/lib/python3.11/site-packages/meep/simulation.py:1299\u001b[0m, in \u001b[0;36mSimulation.__init__\u001b[0;34m(self, cell_size, resolution, geometry, sources, eps_averaging, dimensions, boundary_layers, symmetries, force_complex_fields, default_material, m, k_point, kz_2d, extra_materials, material_function, epsilon_func, epsilon_input_file, progress_interval, subpixel_tol, subpixel_maxeval, loop_tile_base_db, loop_tile_base_eh, ensure_periodicity, num_chunks, Courant, accurate_fields_near_cylorigin, filename_prefix, output_volume, output_single_precision, geometry_center, force_all_components, split_chunks_evenly, chunk_layout, collect_stats)\u001b[0m\n\u001b[1;32m   1032\u001b[0m \u001b[39mdef\u001b[39;00m \u001b[39m__init__\u001b[39m(\n\u001b[1;32m   1033\u001b[0m     \u001b[39mself\u001b[39m,\n\u001b[1;32m   1034\u001b[0m     cell_size: Optional[Vector3Type] \u001b[39m=\u001b[39m \u001b[39mNone\u001b[39;00m,\n\u001b[0;32m   (...)\u001b[0m\n\u001b[1;32m   1067\u001b[0m     collect_stats: \u001b[39mbool\u001b[39m \u001b[39m=\u001b[39m \u001b[39mFalse\u001b[39;00m,\n\u001b[1;32m   1068\u001b[0m ):\n\u001b[1;32m   1069\u001b[0m \u001b[39m    \u001b[39m\u001b[39m\"\"\"\u001b[39;00m\n\u001b[1;32m   1070\u001b[0m \u001b[39m    All `Simulation` attributes are described in further detail below. In brackets\u001b[39;00m\n\u001b[1;32m   1071\u001b[0m \u001b[39m    after each variable is the type of value that it should hold. The classes, complex\u001b[39;00m\n\u001b[0;32m   (...)\u001b[0m\n\u001b[1;32m   1296\u001b[0m \u001b[39m      increase the performance of [parallel simulations](Parallel_Meep.md).\u001b[39;00m\n\u001b[1;32m   1297\u001b[0m \u001b[39m    \"\"\"\u001b[39;00m\n\u001b[0;32m-> 1299\u001b[0m     \u001b[39mself\u001b[39m\u001b[39m.\u001b[39mcell_size \u001b[39m=\u001b[39m Vector3(\u001b[39m*\u001b[39;49mcell_size)\n\u001b[1;32m   1300\u001b[0m     \u001b[39mself\u001b[39m\u001b[39m.\u001b[39mgeometry \u001b[39m=\u001b[39m geometry \u001b[39mif\u001b[39;00m geometry \u001b[39melse\u001b[39;00m []\n\u001b[1;32m   1301\u001b[0m     \u001b[39mself\u001b[39m\u001b[39m.\u001b[39msources \u001b[39m=\u001b[39m sources \u001b[39mif\u001b[39;00m sources \u001b[39melse\u001b[39;00m []\n",
      "\u001b[0;31mTypeError\u001b[0m: Vector3.__init__() takes from 1 to 4 positional arguments but 8 were given"
     ]
    }
   ],
   "source": [
    "# Code showing examples for the functions in get_simulation\n",
    "\n",
    "\n",
    "import gdsfactory as gf\n",
    "import meep as mp\n",
    "import tidy3d\n",
    "# Import the functions\n",
    "# They are both in gmeep.get_simulation.py\n",
    "from gdsfactory.simulation.gmeep.get_simulation import get_simulation, get_meep_geometry_from_component\n",
    "\n",
    "c = gf.components.mmi2x2()\n",
    "c.plot()\n",
    "get_meep_geometry_from_component(c)\n",
    "\n",
    "# get_simulation implementation example\n",
    "sim = get_simulation(component=c,\n",
    "    resolution=20,\n",
    "    )\n",
    "sim['sim'].sources[0].size.y = 5\n",
    "sim['sim'].cell_size.y = 8\n",
    "sim['sim'].cell_size.x = 32\n",
    "sim = mp.Simulation(sim)\n",
    "\n",
    "from gdsfactory.simulation.gmeep import write_sparameters_meep"
   ]
  },
  {
   "attachments": {},
   "cell_type": "markdown",
   "metadata": {},
   "source": [
    "### Finding S-parameters through gmeep\n",
    "\n",
    "There are several functions in GDSFactory that allow you to find the S-parameters (scattering parameters) of a given component. S-parameters are useful as they tell you how much light is coming in and out of each of the component's port. The most general function for this purpose in Gmeep is `write_sparameters_meep`. To use this function, you specify a GDSFactory component, the frequencies you want to test it at, if you would like the simulation to be in 3D, and the margins the simulation needs to take into account. This is not a comprehensive list and is only intended to give a general idea of how the function is used.\n",
    "\n",
    "Another useful kwarg is \"run\". By setting this to `False`, the function plots the simulation geometry instead of running it. This allows you to make sure the geometry is correct before you waste time simulating it. This is especially important when running the simulation in 3D, as sometimes you may accidentally only have a 2D region, so trying to simulate in 3D with lead to errors.\n",
    "\n",
    "The function returns a dictionary of s-parameters. The keys take the form of `\"o1@0,o2@0\"`, where the first part of the key refers to what port the light is coming from and the second refers to where it is going. For however many ports you have in your component, there will be a key corresponding to the s-parameter from that port to every other port.\n",
    "\n",
    "Since the relationship between some ports can be the same (i.e. the component may be symmetric), port symmetries can be specified as a keyword argument (kwarg) (`port_symmetries`). This argument takes a dictionary where you specify one s-parameter as the key, and assign as its values the other s-parameters that correspond to it. For example, if you had a 1x2 splitter, where the 2 output ports were symmetric and labeled ports 2 and 3, then you could assign:\n",
    "\n",
    "```port_symmetries = {\"o2@0,o1@0\": [\"o3@0,o1@0\"]}```\n",
    "\n",
    " so that the s-parameter for port 2 to 1 will be computed, but the one for port 3 to 1 will not be and will be written with the s-parameter for port 2 to 1. Thus, you save on computation time.\n",
    "\n",
    "In addition to this general function, Gmeep also has two functions that can be used to write the s-parameters using parallel processing. These are `write_sparamters_meep_mpi` and `write_sparameters_meep_batch`. `write_sparamters_meep_mpi` has you specify how many cores you want to use as a kwarg. `write_sparameters_meep_batch` takes it a step further and runs multiple simulations in parallel, instead of just one. So, you must specify the number of cores per run in addition to the total number of cores to use.\n",
    "\n",
    "`write_sparameters_grating` is a more specific instance that can be used to find the s-parameters for a grating coupler with an attached fiber. To plot the set up of this, you can pass in the argument `plot=True`. There is also the option of writing the s-parameters for a grating coupler in parallel or in batches, with `write_sparameters_grating_mpi` and `write_sparameters_grating_batch`. Like the general s-parameter functions above, more kwargs are necessary to define them."
   ]
  },
  {
   "attachments": {},
   "cell_type": "markdown",
   "metadata": {},
   "source": [
    "### Adjoint solver in GDSFactory\n",
    "\n",
    "The documentation on this in gdsfactory is slightly better and they have some example code that looks like it functions\n",
    "\n",
    "However, it is still rather confined in GDSFactory, the functions there take a bit of finessing in order to have the same flexibility. Two functions in meep_adjoint_optimization.py in the GMeep library are used to create an `OptimizationProblem` object and then used to run the optimization. They are `get_meep_adjoint_optimizer` and `run_meep_adjoint_optimizer`, respectively.\n",
    "\n",
    "`get_meep_adjoint_optimizer` takes in a gdsfactory component along with a host of other parameters necessary to set up the optimization. This includes the design region (which usually will overlay some part of the given component), the objective function specifying what you are actually optimizing for, and the design variables that you are initializing the design region to.\n",
    "\n",
    "After calling this function, `run_meep_adjoint_optimizer` can be called to run the adjoint optimization with Meep. This function is where you specify, among other things, the bounds of optimization and what algorithm you are using for optimization.\n",
    "\n",
    "* **EXAMPLE**"
   ]
  }
 ],
 "metadata": {
  "kernelspec": {
   "display_name": "pmp",
   "language": "python",
   "name": "python3"
  },
  "language_info": {
   "codemirror_mode": {
    "name": "ipython",
    "version": 3
   },
   "file_extension": ".py",
   "mimetype": "text/x-python",
   "name": "python",
   "nbconvert_exporter": "python",
   "pygments_lexer": "ipython3",
   "version": "3.11.0"
  },
  "orig_nbformat": 4
 },
 "nbformat": 4,
 "nbformat_minor": 2
}
