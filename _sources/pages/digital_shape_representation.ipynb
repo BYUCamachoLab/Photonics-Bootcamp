{
 "cells": [
  {
   "attachments": {},
   "cell_type": "markdown",
   "metadata": {},
   "source": [
    "# Representing Physical Shapes Digitally"
   ]
  },
  {
   "attachments": {},
   "cell_type": "markdown",
   "metadata": {},
   "source": []
  },
  {
   "attachments": {},
   "cell_type": "markdown",
   "metadata": {},
   "source": [
    "## GDS Factory\n",
    "\n",
    "[GDS Factory](https://gdsfactory.github.io/gdsfactory/index.html) is a open source platform that allows you to create photonic chips in python or YAML. It uses a end-to-end design flow that helps you design, verify, and validate your photonic chip.\n",
    "\n",
    "## MMI (multi-mode interferometer)\n",
    "\n",
    "A [multi-mode interferometer](https://en.wikipedia.org/wiki/Multi_mode_interferometer) is used to split or combine light waves. There are different shapes of MMIs. A 1x2 MMI for example takes one wave as an input and splits it into two outputs. Ideally the power between the outputs would be a 50-50 split but this is nearly impossible."
   ]
  }
 ],
 "metadata": {
  "language_info": {
   "name": "python"
  },
  "orig_nbformat": 4
 },
 "nbformat": 4,
 "nbformat_minor": 2
}
