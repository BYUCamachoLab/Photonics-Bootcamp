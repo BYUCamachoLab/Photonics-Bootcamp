{
 "cells": [
  {
   "attachments": {},
   "cell_type": "markdown",
   "metadata": {},
   "source": [
    "# Grating Couplers"
   ]
  },
  {
   "attachments": {},
   "cell_type": "markdown",
   "metadata": {},
   "source": [
    "Grating couplers are simply components of a photonic circuit that use diffraction to couple light into a waveguide. By utilizing grating couplers, we can much more efficiently use the space available on a chip, as the input/output no longer is no longer required to be at an edge. This allows us to pack more components into a smaller area, and also allows us to use the same chip for multiple purposes, as we can have multiple input/output ports."
   ]
  },
  {
   "cell_type": "markdown",
   "metadata": {},
   "source": [
    "<p align=\"center\">\n",
    "<img src=\"https://github.com/BYUCamachoLab/Photonics-Bootcamp/blob/main/book/images/grating_coupler.png?raw=true\" alt=\"fishy\" width=\"450px\">\n",
    "</p>"
   ]
  },
  {
   "attachments": {},
   "cell_type": "markdown",
   "metadata": {},
   "source": [
    "Grating couplers have a periodic structure. The rows in the image above are alternating mediums of two different refractive indexes. By having a diffraction grating with a period similar to the wavelength, the grating coupler creates interference patterns in the light which result in a diffracted mode. The specifics of how this refraction works can be described by the Huygens-Fresnel principle and Bragg's law."
   ]
  },
  {
   "attachments": {},
   "cell_type": "markdown",
   "metadata": {},
   "source": [
    "# How does it work?"
   ]
  },
  {
   "cell_type": "code",
   "execution_count": 3,
   "metadata": {},
   "outputs": [
    {
     "data": {
      "application/vnd.jupyter.widget-view+json": {
       "model_id": "45ac0404b3b3419ab61d0c4a6f1138cf",
       "version_major": 2,
       "version_minor": 0
      },
      "text/plain": [
       "Image(value=b\"\\x89PNG\\r\\n\\x1a\\n\\x00\\x00\\x00\\rIHDR\\x00\\x00\\x03 \\x00\\x00\\x02X\\x08\\x02\\x00\\x00\\x00\\x15\\x14\\x15'\\x…"
      ]
     },
     "metadata": {},
     "output_type": "display_data"
    },
    {
     "name": "stdout",
     "output_type": "stream",
     "text": [
      "simple_grating_coupler__173251f5: uid 6c3201a3, ports [], references ['grating teeth_1', 'taper_1'], 0 polygons\n"
     ]
    }
   ],
   "source": [
    "import gdsfactory as gf\n",
    "\n",
    "@gf.cell\n",
    "def simple_grating_coupler(num_teeth = 24, period = 0.2, tooth_width = 0.1, tooth_height = 2, taper_length = 5):\n",
    "    c1 = gf.Component(\"grating tooth\")\n",
    "    tooth = c1 << gf.components.straight(length=tooth_width, width = tooth_height)\n",
    "    \n",
    "    c2 = gf.Component(\"grating teeth\")\n",
    "    a_ref = c2.add_array(\n",
    "        c1, columns=num_teeth, rows=1, spacing=[period, 1]\n",
    "    )\n",
    "    \n",
    "    c3 = gf.Component(\"taper\")\n",
    "    taper_ref = c3 << gf.components.straight(length=taper_length, width = tooth_height)\n",
    "\n",
    "    taper_ref.movex(num_teeth * period)\n",
    "\n",
    "    c4 = gf.Component(\"final\")\n",
    "    c4.add_ref(c2)\n",
    "\n",
    "    c4.add_ref(c3)\n",
    "\n",
    "    return c4\n",
    "\n",
    "simple_grating_coupler(num_teeth=15)"
   ]
  },
  {
   "attachments": {},
   "cell_type": "markdown",
   "metadata": {},
   "source": [
    "# Designing a Grating Coupler in GDS Factory"
   ]
  },
  {
   "attachments": {},
   "cell_type": "markdown",
   "metadata": {},
   "source": [
    "Let's begin our design by creating a gdsfactory cell this is done by creating a function with a unique name and the @cell decorator. Next we'll create a gds component and return it from the function. (Since we are not specifiying a PDK in this tutorial, GDS Factory will supply a default one for us)"
   ]
  },
  {
   "cell_type": "code",
   "execution_count": 2,
   "metadata": {},
   "outputs": [],
   "source": [
    "import gdsfactory as gf\n",
    "\n",
    "@gf.cell\n",
    "def grating_coupler():\n",
    "    component = gf.Component(\"my_grating_coupler\")\n",
    "    return component"
   ]
  },
  {
   "attachments": {},
   "cell_type": "markdown",
   "metadata": {},
   "source": [
    "Since we are designing a focused grating coupler, we should think about how we can easily generate the curved teeth. One method is by generating concentric circles and later cropping out a triangular portion to be the grating teeth. Let's start by writing a helper function to generate concentric circles. These circles should repeat until we get to a solid inner circle, which will become the final taper that leads into a waveguide.\n",
    "\n",
    "**Note: gf.components.ring() generates a ring whose radius is halfway between the outer and inner radii of the ring. We can fix this manually by adding a buffer distance."
   ]
  },
  {
   "cell_type": "code",
   "execution_count": 1,
   "metadata": {},
   "outputs": [
    {
     "name": "stderr",
     "output_type": "stream",
     "text": [
      "\u001b[32m2023-06-13 08:46:04.753\u001b[0m | \u001b[33m\u001b[1mWARNING \u001b[0m | \u001b[36mgdsfactory.pdk\u001b[0m:\u001b[36mget_active_pdk\u001b[0m:\u001b[36m603\u001b[0m - \u001b[33m\u001b[1mNo active PDK. Activating generic PDK.\n",
      "\u001b[0m\n"
     ]
    },
    {
     "data": {
      "application/vnd.jupyter.widget-view+json": {
       "model_id": "3da041029e634a558b7c2c8be2a12aa3",
       "version_major": 2,
       "version_minor": 0
      },
      "text/plain": [
       "Image(value=b'\\x89PNG\\r\\n\\x1a\\n\\x00\\x00\\x00\\rIHDR\\x00\\x00\\x03 \\x00\\x00\\x02X\\x08\\x02\\x00\\x00\\x00\\x15\\x14\\x15\\'\\…"
      ]
     },
     "metadata": {},
     "output_type": "display_data"
    },
    {
     "name": "stdout",
     "output_type": "stream",
     "text": [
      "grating_coupler: uid 76a05199, ports [], references ['Concentric circles_1', 'circle_1'], 0 polygons\n"
     ]
    }
   ],
   "source": [
    "import gdsfactory as gf\n",
    "\n",
    "@gf.cell\n",
    "def grating_coupler():\n",
    "    radius_inner_circle = 5\n",
    "\n",
    "    def concentric_rings():\n",
    "        c = gf.Component(\"Concentric circles\")\n",
    "        for i in range(10):\n",
    "            initial_ring_radius = radius_inner_circle + 0.5\n",
    "            circle = gf.components.ring(radius = i * 0.7 + initial_ring_radius, width = 0.35)\n",
    "            c.add_ref(circle)\n",
    "        return c\n",
    "    \n",
    "    component = gf.Component(\"my_grating_coupler\")\n",
    "    component.add_ref(concentric_rings())\n",
    "\n",
    "    center_circle = gf.components.circle(radius=radius_inner_circle)\n",
    "    component.add_ref(center_circle)\n",
    "\n",
    "    return component\n",
    "\n",
    "c = grating_coupler()\n",
    "c"
   ]
  },
  {
   "attachments": {},
   "cell_type": "markdown",
   "metadata": {},
   "source": [
    "Now, we can very easily trim the component down to the desired tapered shape by using gf.geometry.trim(). Afterwhich we should add a port to connect our geometry to a waveguide. Now we should have a very simplistic model for a grating coupler."
   ]
  },
  {
   "cell_type": "code",
   "execution_count": 1,
   "metadata": {},
   "outputs": [
    {
     "name": "stderr",
     "output_type": "stream",
     "text": [
      "\u001b[32m2023-06-22 09:49:38.788\u001b[0m | \u001b[33m\u001b[1mWARNING \u001b[0m | \u001b[36mgdsfactory.pdk\u001b[0m:\u001b[36mget_active_pdk\u001b[0m:\u001b[36m603\u001b[0m - \u001b[33m\u001b[1mNo active PDK. Activating generic PDK.\n",
      "\u001b[0m\n"
     ]
    },
    {
     "data": {
      "application/vnd.jupyter.widget-view+json": {
       "model_id": "c8a445319d3c4c47ae4694afc5599b99",
       "version_major": 2,
       "version_minor": 0
      },
      "text/plain": [
       "Image(value=b'\\x89PNG\\r\\n\\x1a\\n\\x00\\x00\\x00\\rIHDR\\x00\\x00\\x03 \\x00\\x00\\x02X\\x08\\x02\\x00\\x00\\x00\\x15\\x14\\x15\\'\\…"
      ]
     },
     "metadata": {},
     "output_type": "display_data"
    },
    {
     "name": "stdout",
     "output_type": "stream",
     "text": [
      "grating_coupler: uid fc884557, ports [], references [], 11 polygons\n"
     ]
    }
   ],
   "source": [
    "import gdsfactory as gf\n",
    "\n",
    "@gf.cell\n",
    "def grating_coupler():\n",
    "    radius_inner_circle = 5\n",
    "\n",
    "    def concentric_rings():\n",
    "        c = gf.Component(\"Concentric circles\")\n",
    "        for i in range(10):\n",
    "            initial_ring_radius = radius_inner_circle + 0.5\n",
    "            circle = gf.components.ring(radius = i * 0.7 + initial_ring_radius, width = 0.35)\n",
    "            c.add_ref(circle)\n",
    "        return c\n",
    "    \n",
    "    component = gf.Component(\"my_grating_coupler\")\n",
    "    component.add_ref(concentric_rings())\n",
    "\n",
    "    center_circle = gf.components.circle(radius=radius_inner_circle)\n",
    "    component.add_ref(center_circle)\n",
    "\n",
    "    triangle_length = radius_inner_circle + 2 * 10\n",
    "    triangle_height = 20\n",
    "    \n",
    "    component = gf.geometry.trim(component=component, domain=[[0, 0.25], [0, -0.25], [-triangle_length, -triangle_height], [-triangle_length, triangle_height]])\n",
    "    \n",
    "    return component\n",
    "\n",
    "c = grating_coupler()\n",
    "c"
   ]
  },
  {
   "attachments": {},
   "cell_type": "markdown",
   "metadata": {},
   "source": [
    "Now, this component represents the basic idea of a focused grating coupler in that it has refraction teeth and a taper that leads to a waveguide, however, before we simulate this component in meep, we should discuss a basic parameters and revise our design."
   ]
  },
  {
   "attachments": {},
   "cell_type": "markdown",
   "metadata": {},
   "source": [
    "# Fill Factor\n"
   ]
  },
  {
   "attachments": {},
   "cell_type": "markdown",
   "metadata": {},
   "source": [
    "The fill factor ..."
   ]
  },
  {
   "attachments": {},
   "cell_type": "markdown",
   "metadata": {},
   "source": [
    "# Grating Period\n",
    "The grating period ..."
   ]
  },
  {
   "cell_type": "code",
   "execution_count": 4,
   "metadata": {},
   "outputs": [
    {
     "data": {
      "application/vnd.jupyter.widget-view+json": {
       "model_id": "7f89343804ae46668cb683dd48428368",
       "version_major": 2,
       "version_minor": 0
      },
      "text/plain": [
       "Image(value=b'\\x89PNG\\r\\n\\x1a\\n\\x00\\x00\\x00\\rIHDR\\x00\\x00\\x03 \\x00\\x00\\x02X\\x08\\x02\\x00\\x00\\x00\\x15\\x14\\x15\\'\\…"
      ]
     },
     "metadata": {},
     "output_type": "display_data"
    },
    {
     "name": "stdout",
     "output_type": "stream",
     "text": [
      "straights_not_connected: uid f34dbf40, ports [], references ['focusing_grating_coupler_1', 'straight_1'], 0 polygons\n"
     ]
    }
   ],
   "source": [
    "import gdsfactory as gf\n",
    "\n",
    "@gf.cell\n",
    "def straight(length=1, width=1, layer=(1, 0)):\n",
    "    WG = gf.Component()\n",
    "    WG.add_polygon([(0, 0), (length, 0), (length, width), (0, width)], layer=layer)\n",
    "    WG.add_port(\n",
    "        name=\"o1\", center=[0, width / 2], width=width, orientation=180, layer=layer\n",
    "    )\n",
    "    WG.add_port(\n",
    "        name=\"o2\", center=[length, width / 2], width=width, orientation=0, layer=layer\n",
    "    )\n",
    "    return WG\n",
    "\n",
    "@gf.cell\n",
    "def focusing_grating_coupler(grating_period = 0.7, width = 0.35, taper_length = 20, num_teeth = 20 , port_width = 0.6):\n",
    "    \n",
    "    def concentric_rings():\n",
    "        c = gf.Component(\"Concentric circles\")\n",
    "        for i in range(num_teeth):\n",
    "            initial_radius = taper_length + grating_period - 0.5 * width\n",
    "            c.add_ref(gf.components.ring(radius = initial_radius + i * grating_period, width = width))\n",
    "        return c\n",
    "    \n",
    "    component = gf.Component(\"focusing_grating_coupler\")\n",
    "    component.add_ref(concentric_rings())\n",
    "\n",
    "    center_circle = gf.components.circle(radius=taper_length)\n",
    "    component.add_ref(center_circle)\n",
    "\n",
    "    triangle_length = taper_length + 2 * num_teeth\n",
    "    triangle_height = 20\n",
    "    \n",
    "    component = gf.geometry.trim(component=component, domain=[[0, port_width/2], [0, -port_width/2], [-triangle_length, -triangle_height], [-triangle_length, triangle_height]])\n",
    "    component.add_port(name = \"o1\", center = (0,0), width=port_width, orientation = 0, layer=1)\n",
    "\n",
    "    return component\n",
    "\n",
    "\n",
    "\n",
    "#grating_coupler = focusing_grating_coupler(grating_period=0.7, width = 0.35, taper_length = 10, num_teeth = 24, port_width=0.5)\n",
    "\n",
    "c = gf.Component(\"straights_not_connected\")\n",
    "\n",
    "grating_coupler = c << focusing_grating_coupler(grating_period=0.7, width = 0.35, taper_length = 10, num_teeth = 24, port_width=0.5)\n",
    "waveguide = c << straight(length=2, width=0.5, layer=1)\n",
    "\n",
    "waveguide.connect(\"o1\", grating_coupler.ports[\"o1\"])\n",
    "#waveguide.movex(1)\n",
    "\n",
    "c\n"
   ]
  },
  {
   "cell_type": "code",
   "execution_count": 1,
   "metadata": {},
   "outputs": [
    {
     "name": "stderr",
     "output_type": "stream",
     "text": [
      "\u001b[32m2023-06-23 14:12:07.028\u001b[0m | \u001b[33m\u001b[1mWARNING \u001b[0m | \u001b[36mgdsfactory.pdk\u001b[0m:\u001b[36mget_active_pdk\u001b[0m:\u001b[36m603\u001b[0m - \u001b[33m\u001b[1mNo active PDK. Activating generic PDK.\n",
      "\u001b[0m\n"
     ]
    },
    {
     "data": {
      "image/png": "[encoded data removed]",
      "text/plain": [
       "<Figure size 640x480 with 1 Axes>"
      ]
     },
     "metadata": {},
     "output_type": "display_data"
    },
    {
     "ename": "TypeError",
     "evalue": "get_simulation_grating_fiber() got an unexpected keyword argument 'xmargin_left'",
     "output_type": "error",
     "traceback": [
      "\u001b[0;31m---------------------------------------------------------------------------\u001b[0m",
      "\u001b[0;31mTypeError\u001b[0m                                 Traceback (most recent call last)",
      "Cell \u001b[0;32mIn[1], line 21\u001b[0m\n\u001b[1;32m     11\u001b[0m c\u001b[39m.\u001b[39mplot()\n\u001b[1;32m     12\u001b[0m \u001b[39m#fiber_angle_deg = 5\u001b[39;00m\n\u001b[1;32m     13\u001b[0m \u001b[39m#s = gt.get_simulation_grating_coupler(\u001b[39;00m\n\u001b[1;32m     14\u001b[0m \u001b[39m#    c, is_3d=False, fiber_angle_deg=fiber_angle_deg, fiber_xoffset=0\u001b[39;00m\n\u001b[0;32m   (...)\u001b[0m\n\u001b[1;32m     19\u001b[0m \n\u001b[1;32m     20\u001b[0m \u001b[39m# Plot s-parameters simulation\u001b[39;00m\n\u001b[0;32m---> 21\u001b[0m gm\u001b[39m.\u001b[39;49mwrite_sparameters_grating(c, xmargin_left\u001b[39m=\u001b[39;49m\u001b[39m1\u001b[39;49m, xmargin_right\u001b[39m=\u001b[39;49m\u001b[39m1\u001b[39;49m, port_source_offset\u001b[39m=\u001b[39;49m\u001b[39m-\u001b[39;49m\u001b[39m0.3\u001b[39;49m, port_monitor_offset\u001b[39m=\u001b[39;49m\u001b[39m-\u001b[39;49m\u001b[39m0.5\u001b[39;49m, run\u001b[39m=\u001b[39;49m\u001b[39mFalse\u001b[39;49;00m)\n\u001b[1;32m     23\u001b[0m \u001b[39m# Run simulation and save results\u001b[39;00m\n\u001b[1;32m     24\u001b[0m sp \u001b[39m=\u001b[39m gm\u001b[39m.\u001b[39mwrite_sparameters_grating(c, xmargin_left\u001b[39m=\u001b[39m\u001b[39m1\u001b[39m, xmargin_right\u001b[39m=\u001b[39m\u001b[39m1\u001b[39m, port_source_offset\u001b[39m=\u001b[39m\u001b[39m-\u001b[39m\u001b[39m0.3\u001b[39m, port_monitor_offset\u001b[39m=\u001b[39m\u001b[39m-\u001b[39m\u001b[39m0.5\u001b[39m)\n",
      "File \u001b[0;32m~/mp/envs/meep/lib/python3.11/site-packages/gdsfactory/simulation/gmeep/write_sparameters_grating.py:142\u001b[0m, in \u001b[0;36mwrite_sparameters_grating\u001b[0;34m(plot, plot_contour, animate, overwrite, dirpath, decay_by, verbosity, **settings)\u001b[0m\n\u001b[1;32m    139\u001b[0m     logger\u001b[39m.\u001b[39minfo(\u001b[39mf\u001b[39m\u001b[39m\"\u001b[39m\u001b[39msparameters loaded from \u001b[39m\u001b[39m{\u001b[39;00m\u001b[39mstr\u001b[39m(filepath_npz)\u001b[39m!r}\u001b[39;00m\u001b[39m\"\u001b[39m)\n\u001b[1;32m    140\u001b[0m     \u001b[39mreturn\u001b[39;00m np\u001b[39m.\u001b[39mload(filepath_npz)\n\u001b[0;32m--> 142\u001b[0m sim_dict \u001b[39m=\u001b[39m get_simulation_grating_fiber(\u001b[39m*\u001b[39;49m\u001b[39m*\u001b[39;49msettings)\n\u001b[1;32m    143\u001b[0m sim \u001b[39m=\u001b[39m sim_dict[\u001b[39m\"\u001b[39m\u001b[39msim\u001b[39m\u001b[39m\"\u001b[39m]\n\u001b[1;32m    144\u001b[0m freqs \u001b[39m=\u001b[39m sim_dict[\u001b[39m\"\u001b[39m\u001b[39mfreqs\u001b[39m\u001b[39m\"\u001b[39m]\n",
      "\u001b[0;31mTypeError\u001b[0m: get_simulation_grating_fiber() got an unexpected keyword argument 'xmargin_left'"
     ]
    }
   ],
   "source": [
    "import gdsfactory as gf\n",
    "import meep as mp\n",
    "import gdsfactory.simulation.gmeep as gm\n",
    "import tidy3d\n",
    "import gdsfactory.simulation.gtidy3d as gt\n",
    "\n",
    "\n",
    "c = (\n",
    "    gf.components.grating_coupler_elliptical_lumerical()\n",
    ")  # inverse design grating apodized\n",
    "c.plot()\n",
    "#fiber_angle_deg = 5\n",
    "#s = gt.get_simulation_grating_coupler(\n",
    "#    c, is_3d=False, fiber_angle_deg=fiber_angle_deg, fiber_xoffset=0\n",
    "#)\n",
    "#f = gt.plot_simulation(s)\n",
    "\n",
    "#c = gf.components.mmi2x2()\n",
    "\n",
    "# Plot s-parameters simulation\n",
    "gm.write_sparameters_grating(c, xmargin_left=1, xmargin_right=1, port_source_offset=-0.3, port_monitor_offset=-0.5, run=False)\n",
    "\n",
    "# Run simulation and save results\n",
    "sp = gm.write_sparameters_meep(c, xmargin_left=1, xmargin_right=1, port_source_offset=-0.3, port_monitor_offset=-0.5)"
   ]
  },
  {
   "cell_type": "code",
   "execution_count": null,
   "metadata": {},
   "outputs": [],
   "source": []
  }
 ],
 "metadata": {
  "kernelspec": {
   "display_name": "mp",
   "language": "python",
   "name": "python3"
  },
  "language_info": {
   "codemirror_mode": {
    "name": "ipython",
    "version": 3
   },
   "file_extension": ".py",
   "mimetype": "text/x-python",
   "name": "python",
   "nbconvert_exporter": "python",
   "pygments_lexer": "ipython3",
   "version": "3.11.3"
  },
  "orig_nbformat": 4
 },
 "nbformat": 4,
 "nbformat_minor": 2
}
