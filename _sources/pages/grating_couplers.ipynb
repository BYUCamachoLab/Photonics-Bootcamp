{
 "cells": [
  {
   "attachments": {},
   "cell_type": "markdown",
   "metadata": {},
   "source": [
    "# Grating Couplers\n",
    "Grating couplers are simply components of a photonic circuit that use diffraction to couple light into or out of a waveguide. By utilizing geometry and diffraction, fiber optic cables can be coupled to silicon chips at any location on the chip, instead of just the edges."
   ]
  },
  {
   "attachments": {},
   "cell_type": "markdown",
   "metadata": {},
   "source": [
    "# How does it work?"
   ]
  },
  {
   "attachments": {},
   "cell_type": "markdown",
   "metadata": {},
   "source": [
    "Key to the design of grating couplers are the grating teeth, geometric ellipses drawn onto the chip which creates an alternating periodic structure. The alternating refractive indices create interference patterns in the light which result in a propogating wave. The patterns of diffraction are described by the Hyugen's Fresnel principle and Bragg's law."
   ]
  },
  {
   "attachments": {},
   "cell_type": "markdown",
   "metadata": {},
   "source": [
    "<div style=\"text-align: center;width: 565px;margin: auto\">\n",
    "\n",
    "![set-up](https://raw.githubusercontent.com/BYUCamachoLab/Photonics-Bootcamp/main/book/images/Notebook_Images/grating_coupler_2d.png)\n",
    "\n",
    "</div>"
   ]
  },
  {
   "attachments": {},
   "cell_type": "markdown",
   "metadata": {},
   "source": [
    "Above is a gds depiction of a grating coupler. Consider a beam of light propogating from the short tapered end of the grating coupler at the left into the grating teeth at the right. When the light interacts with the teeth. The diffraction pattern and interference will result in a propogating wave, orthogonal to the array of grating teeth. You might imagine holding a fiber optic cable up to the grating coupler as if to \"catch\" the light.\n",
    "\n",
    "In order to visualize the Bragg diffraction at work here, consider the 2d simulation of a cross-section of the center of the waveguide given below:"
   ]
  },
  {
   "cell_type": "code",
   "execution_count": null,
   "metadata": {},
   "outputs": [],
   "source": [
    "import meep as mp\n",
    "from meep.materials import SiO2\n",
    "import numpy as np\n",
    "import matplotlib.pyplot as plt\n",
    "\n",
    "geometry = []\n",
    "cell_x = 30\n",
    "cell_y = 25\n",
    "cell = mp.Vector3(cell_x, cell_y, 0)\n",
    "x_offset = cell_x / 2\n",
    "\n",
    "# Geometry parameters in nanometers\n",
    "num_teeth = 30\n",
    "waveguide_depth = .220\n",
    "etch_depth = 0.068\n",
    "grating_period = 0.659\n",
    "fill_factor = 0.524\n",
    "\n",
    "# Define materials\n",
    "Si = mp.Medium(index=3.45)\n",
    "SiO2 = mp.Medium(index=1.45)\n",
    "\n",
    "# Define wavelength in um\n",
    "wvl = 1.55\n",
    "\n",
    "# Construct the geometries\n",
    "mp.verbosity(level=0)\n",
    "\n",
    "\n",
    "waveguide = [mp.Block(mp.Vector3(mp.inf,waveguide_depth,mp.inf),\n",
    "                     center=mp.Vector3(),\n",
    "                     material=mp.Medium(epsilon=12),  # instead of epsilon, you can use index for defining the index of refraction\n",
    "                     )]\n",
    "\n",
    "cladding_depth = 0.5\n",
    "cladding = [mp.Block(mp.Vector3(mp.inf, cladding_depth, mp.inf),\n",
    "                 center=mp.Vector3(0, waveguide_depth / 2 + cladding_depth / 2),\n",
    "                 material=mp.Medium(epsilon=SiO2.epsilon(1 / 1.55)[0][0])\n",
    "                 )]\n",
    "\n",
    "box_depth = 2\n",
    "box = [mp.Block(mp.Vector3(mp.inf, box_depth, mp.inf),\n",
    "                 center=mp.Vector3(0, -waveguide_depth / 2 - box_depth / 2),\n",
    "                 material=mp.Medium(epsilon=SiO2.epsilon(1 / 1.55)[0][0])\n",
    "                 )]\n",
    "\n",
    "substrate_depth = 700\n",
    "substrate = [mp.Block(mp.Vector3(mp.inf, substrate_depth, mp.inf),\n",
    "                 center=mp.Vector3(0, -waveguide_depth / 2 - box_depth - substrate_depth / 2),\n",
    "                 material=mp.Medium(epsilon=12)\n",
    "                 )]\n",
    "\n",
    "etches = []\n",
    "\n",
    "for i in range(num_teeth):\n",
    "    etches += [mp.Block(mp.Vector3(grating_period-fill_factor, etch_depth,mp.inf),\n",
    "                        center=mp.Vector3(i * grating_period + cell_x / 3 - x_offset, (waveguide_depth / 2) - etch_depth/2),\n",
    "                        material=mp.Medium(epsilon=SiO2.epsilon(1 / 1.55)[0][0]),\n",
    "                        )]\n",
    "    \n",
    "\n",
    "geometry += cladding\n",
    "geometry += waveguide\n",
    "geometry += box\n",
    "geometry += substrate\n",
    "geometry += etches\n",
    "\n",
    "fcen = 1 / 1.55  # pulse center frequency\n",
    "df = 0.2     # pulse width (in frequency)\n",
    "\n",
    "sources = [mp.Source(mp.GaussianSource(fcen,fwidth=df),\n",
    "                     component=mp.Ez,\n",
    "                     center=mp.Vector3(2 - x_offset,0,0),\n",
    "                     size=mp.Vector3(0,waveguide_depth,0))]\n",
    "\n",
    "pml_layers = [mp.PML(1.0)]\n",
    "\n",
    "resolution = 500\n",
    "\n",
    "sim = mp.Simulation(cell_size=cell,\n",
    "                    boundary_layers=pml_layers,\n",
    "                    geometry=geometry,\n",
    "                    sources=sources,\n",
    "                    resolution=resolution)\n",
    "\n",
    "sim.plot2D()\n",
    "plt.savefig('grating_coupler_plot.png')"
   ]
  },
  {
   "cell_type": "code",
   "execution_count": null,
   "metadata": {},
   "outputs": [],
   "source": [
    "from PIL import Image\n",
    "import glob\n",
    "import os\n",
    "\n",
    "# Capture electric field intensity over time and output into a gif\n",
    "sim.run(mp.at_beginning(mp.output_epsilon),\n",
    "        mp.to_appended(\"ez\", mp.at_every(2, mp.output_efield_z)),\n",
    "        until=200)\n",
    "\n",
    "# Generate pngs from the simulation output\n",
    "# This line assumes that colormaps are working, \n",
    "# you are in the same directory as the output files, \n",
    "# and that h5py is installed\n",
    "# If you have a problem with h5utils, see note below\n",
    "os.system(\"h5topng -t 0:99 -R -Zc RdBu -A eps-000000.00.h5 -a gray ez.h5\")\n",
    "\n",
    "# Create a gif from the pngs\n",
    "frames = []\n",
    "imgs = glob.glob(\"ez.t*\")\n",
    "imgs.sort()\n",
    "for i in imgs:\n",
    "    new_frame = Image.open(i)\n",
    "    frames.append(new_frame)\n",
    "\n",
    "# Save into a GIF file that loops forever\n",
    "frames[0].save('ez.gif', format='GIF',\n",
    "               append_images=frames[1:],\n",
    "               save_all=True,\n",
    "               loop=0)\n",
    "\n",
    "# Clean up workspace by deleting all generated images\n",
    "for i in imgs: \n",
    "    os.remove(i)"
   ]
  },
  {
   "attachments": {},
   "cell_type": "markdown",
   "metadata": {},
   "source": [
    "**Note on h5utils:**\n",
    "Sometimes the colormaps in h5utils are invalid when used with Meep. To circumvent this issue, specify the path to your desired colormap using:\n",
    "\n",
    "`(path to h5utils)/h5utils/share/h5utils/colormaps/(desired colormap)`"
   ]
  },
  {
   "attachments": {},
   "cell_type": "markdown",
   "metadata": {},
   "source": [
    "Image of the simulation set-up:\n",
    "\n",
    "<div style=\"text-align: center;width: 565px;margin: auto\">\n",
    "\n",
    "![set-up](https://github.com/BYUCamachoLab/Photonics-Bootcamp/blob/main/book/images/Notebook_Images/gc_sim_setup.png?raw=true)\n",
    "\n",
    "</div>\n",
    "\n",
    "Gif from the meep simulation:\n",
    "\n",
    "<div style=\"text-align: center;width: 400px;margin: auto\">\n",
    "\n",
    "![gif](https://github.com/BYUCamachoLab/Photonics-Bootcamp/blob/main/book/images/Notebook_Images/gc_ez.gif?raw=true)\n",
    "\n",
    "</div>"
   ]
  },
  {
   "attachments": {},
   "cell_type": "markdown",
   "metadata": {},
   "source": [
    "As the light travels, it encounters the periodic grating from the coupler. The diffraction pattern at each of the..."
   ]
  },
  {
   "attachments": {},
   "cell_type": "markdown",
   "metadata": {},
   "source": [
    "# Essential parameters"
   ]
  },
  {
   "attachments": {},
   "cell_type": "markdown",
   "metadata": {},
   "source": [
    "It is important to recognize that grating couplers are sensitive to a variety of parameters, some of which will not be discussed in detail in this page. The above demonstration has been optimized for light at 1550 nm, and a 220 nm silicon waveguide. To determine the appropriate parameters for your specific designs, see the analysis page. The following three parameters are essential to a basic understanding of functioning and design of grating coupler."
   ]
  },
  {
   "attachments": {},
   "cell_type": "markdown",
   "metadata": {},
   "source": [
    "</div>\n",
    "\n",
    "Simplified cross-sectional view of a grating coupler:\n",
    "\n",
    "<div style=\"text-align: center;width: 400px;margin: auto\">\n",
    "\n",
    "![gif](https://github.com/BYUCamachoLab/Photonics-Bootcamp/blob/main/book/images/Notebook_Images/gc_parameters.png?raw=true)\n",
    "\n",
    "</div>"
   ]
  },
  {
   "attachments": {},
   "cell_type": "markdown",
   "metadata": {},
   "source": [
    "### Grating period\n",
    "The grating period (typically denoted by \"ʌ\") is the parameter most likely to effect the efficiency of a grating coupler. It is the length of one period of the grating, and is measured in microns. The grating period is typically chosen to be near half the wavelength of the light being used. This is because the bragg grating period is related to the wavelength of light by the equation:\n",
    "\n",
    "$$\n",
    "\\Lambda = \\frac{\\lambda}{2n_{eff}}\n",
    "$$\n",
    "\n",
    "*** Important note: ***\n",
    "\n",
    "If we were to choose this period to be exactly half the wavelength, the light would be diffracted at 90 degrees, which is problematic since a byproduct of this diffraction would be a large amount of light reflected back into the waveguide. This is known as the \"zeroth order\" diffraction. To avoid this, the grating period is typically chosen to be slightly less than half the wavelength of the light. This results in a diffraction angle slightly less than 90 degrees, which is ideal for coupling light into a fiber optic cable.\n",
    "\n",
    "### Grating etch depth\n",
    "The grating etch depth is the depth of the grating teeth into the silicon waveguide. As the etch depth increases, the effective index of refraction of the etched area also decreases. The overall effective index of refraction of the grating coupler is a weighted average of the effective index of the etched and unetched areas...\n",
    "\n",
    "### Grating fill factor\n",
    "The grating fill factor is the ratio of the width of the grating teeth to the width of the grating period. \n",
    "$$\n",
    "ff = \\frac{w}{\\Lambda}\n",
    "$$\n"
   ]
  },
  {
   "attachments": {},
   "cell_type": "markdown",
   "metadata": {},
   "source": [
    "# Sources\n",
    "\n",
    "\"Silicon Photonics Design\" by Lukas Chrostowski"
   ]
  },
  {
   "attachments": {},
   "cell_type": "markdown",
   "metadata": {},
   "source": []
  }
 ],
 "metadata": {
  "kernelspec": {
   "display_name": "mp",
   "language": "python",
   "name": "python3"
  },
  "language_info": {
   "codemirror_mode": {
    "name": "ipython",
    "version": 3
   },
   "file_extension": ".py",
   "mimetype": "text/x-python",
   "name": "python",
   "nbconvert_exporter": "python",
   "pygments_lexer": "ipython3",
   "version": "3.11.3"
  },
  "orig_nbformat": 4
 },
 "nbformat": 4,
 "nbformat_minor": 2
}
