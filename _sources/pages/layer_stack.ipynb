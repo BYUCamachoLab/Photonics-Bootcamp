{
 "cells": [
  {
   "cell_type": "markdown",
   "metadata": {},
   "source": [
    "# Defining the layer stack\n",
    "\n",
    "As mentioned previously, a layer stack defines the layers available to use as a designer. These layers correspond to process steps, whether that be etching of existing material, deposition of new layers, or doping. Materials may include layers for the substrate, the waveguides, cladding, metallization layers, etc., while process steps may include p- or n- doping regions, etch steps, and so on. \n",
    "\n",
    "The layer stack is usually defined in a GDS file. GDS files get translated into masks that are used to fabricate the chip.\n",
    "\n",
    "A GDS file contains \"layers\" that are defined by a tuple of two numbers: the layer number and the datatype. Formally, the GDS specification states that the layer number and datatype can each be an integer in the range from 0 to 255, although some modern software may support higher values. \n",
    "\n",
    "While there is no formal or universal system, it's common for the layer number to define a material. It's almost universal to see one layer number dedicated to waveguides, another to a specific metal layer, and so on. \n",
    "\n",
    "Some fabs will use the datatype to define the process step. For example, the layer number 1 may be used to define the waveguide layer, while the datatype 1 may be used to define the etch step for the waveguide. In other cases, the datatype may be used to group together related objects; for example, all waveguides have the same layer number, but if you have multiple waveguide layers (e.g. silicon, silicon nitride, lithium niobate, etc.), each layer would get its own datatype.\n",
    "\n",
    "Whichever system you decide to use is up to you (or your fab). The important thing is to be consistent."
   ]
  },
  {
   "cell_type": "markdown",
   "metadata": {},
   "source": [
    "## Silicon-on-insulator\n",
    "\n",
    "<div style=\"text-align: center\">\n",
    "<img src=\"https://github.com/BYUCamachoLab/Photonics-Bootcamp/blob/main/book/images/soi_wg_xsection.png?raw=true\" alt=\"Silicon-on-insulator waveguide cross-section\" width=\"240\">\n",
    "</div>\n",
    "\n",
    "The most common material system for integrated photonics is silicon-on-insulator (SOI). In this system, a thin layer of silicon is deposited on top of a layer of silicon dioxide (SiO2). The silicon dioxide layer is usually 2 microns thick, while the silicon layer is usually 220 nm thick. The silicon dioxide layer is called the \"buried oxide\" (BOX) layer, while the silicon layer is called the \"device\" layer.\n",
    "\n",
    "Because the main principle of operation of a photonic waveguide is total internal reflection, the refractive index of the waveguide core must be higher than the refractive index of the cladding. In SOI, the silicon layer is the waveguide core, while the silicon dioxide layer is the cladding. The refractive index of silicon is approximately 3.48 (and is wavelength dependent), while the refractive index of silicon dioxide is usually taken to be 1.45, depending on the model.\n",
    "\n",
    "```{tip}\n",
    "\n",
    "An excellent source for refractive index data is [refractiveindex.info](https://refractiveindex.info/). For example, here's the pages for silicon and silicon dioxide:\n",
    "\n",
    "* [silicon](https://refractiveindex.info/?shelf=main&book=Si&page=Pierce)\n",
    "* [silicon dioxide](https://refractiveindex.info/?shelf=main&book=SiO2&page=Malitson)\n",
    "```"
   ]
  },
  {
   "cell_type": "markdown",
   "metadata": {},
   "source": [
    "## Defining a layer stack in gdsfactory"
   ]
  },
  {
   "cell_type": "code",
   "execution_count": null,
   "metadata": {},
   "outputs": [],
   "source": []
  }
 ],
 "metadata": {
  "language_info": {
   "name": "python"
  },
  "orig_nbformat": 4
 },
 "nbformat": 4,
 "nbformat_minor": 2
}
