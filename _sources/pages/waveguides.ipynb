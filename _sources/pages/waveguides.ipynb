{
 "cells": [
  {
   "attachments": {},
   "cell_type": "markdown",
   "metadata": {},
   "source": [
    "# Waveguides \n"
   ]
  },
  {
   "attachments": {},
   "cell_type": "markdown",
   "metadata": {},
   "source": [
    "(wiaw-target)=\n",
    "## What is a Waveguide?\n",
    "\n",
    "Traditional circuits transmit electrical signals via traces, which are typically made of a conductive material like copper. Photonic circuits transmit light signals via waveguides. Waveguides are used to guide light signals to different parts of photonic circuits. Waveguides can also be used to transmit light signals over very long distances.\n",
    "\n",
    "A simple waveguide consists of two parts: a core with a high index of refraction, and a material with a low index of refraction that surrounds the core (known as a \"cladding\"). One of the most popular waveguides for photonic circuits is the Silicon on Insulator (SOI) waveguide.  A silicon core, with a refractive index of ~3.47, is clad with silicon dioxide, which has a refractive index of ~1.44. SOI waveguides are favored for their ease of manufacture - the silicon dioxide layer can be deposited onto a silicon wafer, and then traces of silicon can be etched onto the wafer substrate."
   ]
  },
  {
   "attachments": {},
   "cell_type": "markdown",
   "metadata": {},
   "source": [
    "<div align=\"center\">\n",
    "    <figure>\n",
    "        <img src=\"https://github.com/BYUCamachoLab/Photonics-Bootcamp/blob/main/book/images/soi_wg_xsection.png?raw=true\" alt=\"Image of an SOI Waveguide\" width=\"300\">\n",
    "        <figcaption><em>Figure: A Silicon on Insulator Waveguide</em></figcaption>\n",
    "    </figure>\n",
    "</div>\n"
   ]
  },
  {
   "cell_type": "markdown",
   "metadata": {},
   "source": [
    "## Total Internal Reflection"
   ]
  },
  {
   "cell_type": "markdown",
   "metadata": {},
   "source": [
    "When light encounters an interface between two media of differing refractive indices, the light can be described mathematically as being partially transmitted into the second material and partially reflected back into the first material."
   ]
  },
  {
   "cell_type": "markdown",
   "metadata": {},
   "source": [
    "<div style=\"text-align: center;\">\n",
    "<img src=\"https://raw.githubusercontent.com/BYUCamachoLab/Photonics-Bootcamp/main/book/images/snells-law-diagram.png\" width=\"500\"></img>\n",
    "</div>"
   ]
  },
  {
   "cell_type": "markdown",
   "metadata": {},
   "source": [
    "$n_1$ and $n_2$ represent the refractive indices of two media and $E_i$, $E_t$, and $E_r$ represent the electric fields of the incident, transmitted, and reflected waves, respectively. $\\theta_1$ is the angle of incidence and $\\theta_2$ is the angle of refraction. The angle of incidence and the angle of refraction are related by Snell's law:\n",
    "\n",
    "$$n_1 \\sin \\theta_1 = n_2 \\sin \\theta_2$$\n",
    "\n",
    "We might imagine that there is some critical angle at which the transmitted wave is aligned with the interface between the two media, at which angle, the wave is no longer partially transmitted into the second medium, but is instead totally reflected back into the first medium. At such an angle, $\\theta_2$ would be 90 degrees:\n",
    "\n",
    "$$n_1 \\sin \\theta_c = n_2 \\sin 90°$$\n",
    "Solving for the critical angle, we get:\n",
    "$$\\theta_c = \\sin^{-1} \\left( \\frac{n_2}{n_1} \\right)$$"
   ]
  },
  {
   "cell_type": "markdown",
   "metadata": {},
   "source": [
    "\n",
    "To further investigate this point, let us arrive at the same conclusion from a different perspective. Since the angle of refraction is dependent on the refractive indices of the two media and the angle of incidence, we can solve for the angle of refraction as a function of the angle of incidence and the refractive indices of the two media. The angle of refraction is given by:\n",
    "\n",
    "\n",
    "$$\\theta_2 = \\sin^{-1} \\left( \\frac{n_1}{n_2} \\sin \\theta_1 \\right)$$\n",
    "\n",
    "What would happen if we supposed the angle of refraction to be greater than 90°? In this case, the sine of the angle of refraction would be greater than 1, which is impossible. \n",
    "\n",
    "$$\\theta_2 \\neq \\sin^{-1} \\left( \\frac{n_1}{n_2}\\sin{\\theta_1} \\right),{\\;} for {\\;} \\theta_2 > 90°$$\n",
    "\n",
    "This should make intuitive sense, since the angle of refraction, describes the angle of the transitted wave into the material, but there is no sense at which the wave can be transmitted into the second material at an angle of 90° or greater.\n",
    "\n",
    "Thus, we can conclude that for $\\theta_1$ > $\\theta_c$, there is no solution for $\\theta_2$ and the wave is totally reflected. This is known as **total internal reflection**.\n"
   ]
  }
 ],
 "metadata": {
  "kernelspec": {
   "display_name": "bootcamp",
   "language": "python",
   "name": "python3"
  },
  "language_info": {
   "codemirror_mode": {
    "name": "ipython",
    "version": 3
   },
   "file_extension": ".py",
   "mimetype": "text/x-python",
   "name": "python",
   "nbconvert_exporter": "python",
   "pygments_lexer": "ipython3",
   "version": "3.10.10 (main, Mar 21 2023, 13:41:39) [Clang 14.0.6 ]"
  },
  "orig_nbformat": 4,
  "vscode": {
   "interpreter": {
    "hash": "b5e5e80fe62fe82ea8f09b36580e233933c38ab38996e3fd51c223b65a03fc4b"
   }
  }
 },
 "nbformat": 4,
 "nbformat_minor": 2
}
