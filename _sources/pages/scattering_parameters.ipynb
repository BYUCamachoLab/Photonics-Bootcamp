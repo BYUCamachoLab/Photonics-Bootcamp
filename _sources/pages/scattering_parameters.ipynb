{
 "cells": [
  {
   "attachments": {},
   "cell_type": "markdown",
   "metadata": {},
   "source": [
    "# Scattering Parameters (S-Parameters) \n"
   ]
  },
  {
   "attachments": {},
   "cell_type": "markdown",
   "metadata": {},
   "source": [
    "## How to find S-Parameters for an arbitrary device using a meep simulation\n",
    "\n",
    "In this section we'll demonstrate how to find the s-params for any device using a meep simulation. We'll show both 2D and 3D simulations, but keep in mind that 2D s-params are not very accurate. We'll run through the steps using gdsfactory's default 2x2 mmi, and explain on the way how the principles can be applied to any component. "
   ]
  },
  {
   "attachments": {},
   "cell_type": "markdown",
   "metadata": {},
   "source": [
    "### Step 1 - Import Geometry\n",
    "\n",
    "For our simulation, it makes life easy if we add all of our sources and detectors into our gds before we import it into meep. For this tutorial I have already done this. For your simulations, you can modify your gds file directly in Klayout if you like a GUI, or you can use gdsfactory itself. If you like, you can also use meep to do the same thing, but I won't be showing how to do that here. \n",
    "\n",
    "Here is a picture of the gds we will be using. \n",
    "\n",
    "![Image of splitter file](https://raw.githubusercontent.com/BYUCamachoLab/Photonics-Bootcamp/main/book/images/Notebook_Images/mmi2x2_gds_with_ports.png)\n",
    "\n",
    "I've added a box around the entire component (in purple) which will become the simulation region, and 8 lines, 2 on each end that will become the sources and detectors. I also added straight waveguides on the ports of the gdsfactory mmi so that my ports could be exactly where the light would enter and exit the component in an actual circuit. My sources are then slightly outside the mmi, in the waveguides.\n",
    "\n",
    "So, now that we have a gds, lets import it into meep!"
   ]
  },
  {
   "cell_type": "code",
   "execution_count": 22,
   "metadata": {},
   "outputs": [],
   "source": [
    "# Imports\n",
    "import meep as mp \n",
    "import numpy\n",
    "import matplotlib as plt "
   ]
  },
  {
   "attachments": {},
   "cell_type": "markdown",
   "metadata": {},
   "source": [
    "Next we'll define a whole bunch of variables so our code is more readable down the line. "
   ]
  },
  {
   "cell_type": "code",
   "execution_count": 30,
   "metadata": {},
   "outputs": [],
   "source": [
    "res = 50 # the resolution of the simulation in pixels/um\n",
    "three_d = False # Turn this to false for a 2D simulation\n",
    "\n",
    "gds_file = \"mmi2x2.gds\" # The name of our gds file\n",
    "\n",
    "# Here we define the layer numbers for each part of our gds\n",
    "geometry_L = 1\n",
    "cell_L = 2\n",
    "port1_L = 4\n",
    "port2_L = 3\n",
    "port3_L = 5\n",
    "port4_L = 6\n",
    "source1_L = 8\n",
    "source2_L = 7\n",
    "source3_L = 9\n",
    "source4_L = 10\n",
    "\n",
    "# The Parameters for the frequencies we'll be using\n",
    "lcen = 1.55 # Center wavelength\n",
    "fcen = 1 / lcen # Center frequency\n",
    "df = 0.2*fcen # Frequency Diameter\n",
    "\n",
    "# The thickness of each material in our simulation (only used in 3D simulations)\n",
    "t_oxide = 1.0\n",
    "t_Si = 0.22\n",
    "t_air = 0.78\n",
    "\n",
    "dpml = 1 # Diameter of perfectly matched layers\n",
    "cell_thickness = dpml + t_oxide + t_Si + t_air + dpml # Cell thickness\n",
    "\n",
    "# The materials we will have in our simulation, silicon and SiO2\n",
    "oxide = mp.Medium(epsilon=2.25)\n",
    "silicon = mp.Medium(epsilon=12)\n",
    "\n",
    "# Sets the min and max values for the cell and the silicon. Our simulation will be centered at y=0\n",
    "cell_zmax = 0.5*cell_thickness if three_d else 0\n",
    "cell_zmin = -0.5 * cell_thickness if three_d else 0\n",
    "si_zmax = 0.5 * t_Si if three_d else 10 # In a 2D simulation, the geometry still has to have a thickness or it won't show up\n",
    "si_zmin = -0.5 * t_Si if three_d else -10"
   ]
  },
  {
   "attachments": {},
   "cell_type": "markdown",
   "metadata": {},
   "source": [
    "Now, we'll import our geometries from the gds file"
   ]
  },
  {
   "cell_type": "code",
   "execution_count": 31,
   "metadata": {},
   "outputs": [
    {
     "name": "stdout",
     "output_type": "stream",
     "text": [
      "Vector3<35.5, 10.0, 0.0>\n",
      "Vector3<2.75, 0.0, 0.0>\n"
     ]
    }
   ],
   "source": [
    "###################################################\n",
    "# Now we actually import the geometry\n",
    "geometry = mp.GDSII_prisms(silicon, gds_file, geometry_L, zmax=si_zmax, zmin=si_zmin) # Gets the geometry of the mmi\n",
    "cell = mp.GDSII_vol(fname = gds_file, layer = cell_L, zmax=cell_zmax, zmin=cell_zmin) # cell geometry. We use mp.GDSII_vol() instead of mp.GDSII_prims() because they return different types\n",
    "port1 = mp.GDSII_vol(fname = gds_file, layer = port1_L, zmax=cell_zmax, zmin=cell_zmin) # Port geometry\n",
    "port2 = mp.GDSII_vol(fname = gds_file, layer = port2_L, zmax=cell_zmax, zmin=cell_zmin)\n",
    "port3 = mp.GDSII_vol(fname = gds_file, layer = port3_L, zmax=cell_zmax, zmin=cell_zmin)\n",
    "port4 = mp.GDSII_vol(fname = gds_file, layer = port4_L, zmax=cell_zmax, zmin=cell_zmin)\n",
    "source1 = mp.GDSII_vol(fname = gds_file, layer = source1_L, zmax=cell_zmax, zmin=cell_zmin) # Source Geometry\n",
    "source2 = mp.GDSII_vol(fname = gds_file, layer = source2_L, zmax=cell_zmax, zmin=cell_zmin)\n",
    "source3 = mp.GDSII_vol(fname = gds_file, layer = source3_L, zmax=cell_zmax, zmin=cell_zmin)\n",
    "source4 = mp.GDSII_vol(fname = gds_file, layer = source4_L, zmax=cell_zmax, zmin=cell_zmin)\n",
    "\n",
    "if three_d: # Sets up the oxide cladding for a three d simulation (Not used in a 2D simulation)\n",
    "    oxide_center = mp.Vector3(z=-0.5 * t_oxide)\n",
    "    oxide_size = mp.Vector3(cell.size.x, cell.size.y, t_oxide)\n",
    "    oxide_layer = [mp.Block(material=oxide, center=oxide_center, size=oxide_size)]\n",
    "    geometry = geometry + oxide_layer\n",
    "\n",
    "print(cell.size)\n",
    "print(cell.center)"
   ]
  },
  {
   "cell_type": "code",
   "execution_count": 25,
   "metadata": {},
   "outputs": [],
   "source": [
    "# Set up the sources for the simulation.\n",
    "sources = [\n",
    "    mp.EigenModeSource(\n",
    "            src = mp.GaussianSource(fcen, fwidth=df),\n",
    "            size=source1.size,\n",
    "            center=source1.center,\n",
    "            eig_band=1,\n",
    "            eig_parity = mp.NO_PARITY if three_d else mp.EVEN_Y + mp.ODD_Z,\n",
    "            eig_match_freq = True,\n",
    "\n",
    "    ), \n",
    "    mp.EigenModeSource(\n",
    "            src = mp.GaussianSource(fcen, fwidth=df),\n",
    "            size=source2.size,\n",
    "            center=source2.center,\n",
    "            eig_band=1,\n",
    "            eig_parity = mp.NO_PARITY if three_d else mp.EVEN_Y + mp.ODD_Z,\n",
    "            eig_match_freq = True,\n",
    "\n",
    "    ), \n",
    "    mp.EigenModeSource(\n",
    "            src = mp.GaussianSource(fcen, fwidth=df),\n",
    "            size=source3.size,\n",
    "            center=source3.center,\n",
    "            eig_band=1,\n",
    "            eig_parity = mp.NO_PARITY if three_d else mp.EVEN_Y + mp.ODD_Z,\n",
    "            eig_match_freq = True,\n",
    "\n",
    "    ), \n",
    "    mp.EigenModeSource(\n",
    "            src = mp.GaussianSource(fcen, fwidth=df),\n",
    "            size=source4.size,\n",
    "            center=source4.center,\n",
    "            eig_band=1,\n",
    "            eig_parity = mp.NO_PARITY if three_d else mp.EVEN_Y + mp.ODD_Z,\n",
    "            eig_match_freq = True,\n",
    "\n",
    "    )\n",
    "]"
   ]
  },
  {
   "cell_type": "code",
   "execution_count": 26,
   "metadata": {},
   "outputs": [
    {
     "name": "stdout",
     "output_type": "stream",
     "text": [
      "     prism, center = (-5,-0.625,0)\n",
      "          height 20, axis (0,0,1), sidewall angle: 0 radians, 4 vertices:\n",
      "          (0,-1.125,-10)\n",
      "          (-10,-0.875,-10)\n",
      "          (-10,-0.375,-10)\n",
      "          (0,-0.125,-10)\n",
      "          dielectric constant epsilon diagonal = (12,12,12)\n",
      "     prism, center = (-5,0.625,0)\n",
      "          height 20, axis (0,0,1), sidewall angle: 0 radians, 4 vertices:\n",
      "          (0,0.125,-10)\n",
      "          (-10,0.375,-10)\n",
      "          (-10,0.875,-10)\n",
      "          (0,1.125,-10)\n",
      "          dielectric constant epsilon diagonal = (12,12,12)\n",
      "     prism, center = (10.5,0.625,0)\n",
      "          height 20, axis (0,0,1), sidewall angle: 0 radians, 4 vertices:\n",
      "          (5.5,0.125,-10)\n",
      "          (5.5,1.125,-10)\n",
      "          (15.5,0.875,-10)\n",
      "          (15.5,0.375,-10)\n",
      "          dielectric constant epsilon diagonal = (12,12,12)\n",
      "     prism, center = (10.5,-0.625,0)\n",
      "          height 20, axis (0,0,1), sidewall angle: 0 radians, 4 vertices:\n",
      "          (5.5,-1.125,-10)\n",
      "          (5.5,-0.125,-10)\n",
      "          (15.5,-0.375,-10)\n",
      "          (15.5,-0.875,-10)\n",
      "          dielectric constant epsilon diagonal = (12,12,12)\n",
      "     prism, center = (2.75,0,0)\n",
      "          height 20, axis (0,0,1), sidewall angle: 0 radians, 4 vertices:\n",
      "          (0,-1.25,-10)\n",
      "          (0,1.25,-10)\n",
      "          (5.5,1.25,-10)\n",
      "          (5.5,-1.25,-10)\n",
      "          dielectric constant epsilon diagonal = (12,12,12)\n",
      "     prism, center = (-12.5,-0.625,0)\n",
      "          height 20, axis (0,0,1), sidewall angle: 0 radians, 4 vertices:\n",
      "          (-10,-0.375,-10)\n",
      "          (-10,-0.875,-10)\n",
      "          (-15,-0.875,-10)\n",
      "          (-15,-0.375,-10)\n",
      "          dielectric constant epsilon diagonal = (12,12,12)\n",
      "     prism, center = (-12.5,0.625,0)\n",
      "          height 20, axis (0,0,1), sidewall angle: 0 radians, 4 vertices:\n",
      "          (-10,0.875,-10)\n",
      "          (-10,0.375,-10)\n",
      "          (-15,0.375,-10)\n",
      "          (-15,0.875,-10)\n",
      "          dielectric constant epsilon diagonal = (12,12,12)\n",
      "     prism, center = (18,0.625,0)\n",
      "          height 20, axis (0,0,1), sidewall angle: 0 radians, 4 vertices:\n",
      "          (15.5,0.375,-10)\n",
      "          (15.5,0.875,-10)\n",
      "          (20.5,0.875,-10)\n",
      "          (20.5,0.375,-10)\n",
      "          dielectric constant epsilon diagonal = (12,12,12)\n",
      "     prism, center = (18,-0.625,0)\n",
      "          height 20, axis (0,0,1), sidewall angle: 0 radians, 4 vertices:\n",
      "          (15.5,-0.875,-10)\n",
      "          (15.5,-0.375,-10)\n",
      "          (20.5,-0.375,-10)\n",
      "          (20.5,-0.875,-10)\n",
      "          dielectric constant epsilon diagonal = (12,12,12)\n"
     ]
    },
    {
     "data": {
      "text/plain": [
       "<Axes: xlabel='X', ylabel='Y'>"
      ]
     },
     "execution_count": 26,
     "metadata": {},
     "output_type": "execute_result"
    },
    {
     "data": {
      "image/png": "[encoded data removed]",
      "text/plain": [
       "<Figure size 640x480 with 1 Axes>"
      ]
     },
     "metadata": {},
     "output_type": "display_data"
    }
   ],
   "source": [
    "# Create Simulation\n",
    "sim = mp.Simulation(\n",
    "    resolution=res,\n",
    "    cell_size=cell.size,\n",
    "    boundary_layers=[mp.PML(dpml)],\n",
    "    sources = sources,\n",
    "    geometry = geometry\n",
    ")\n",
    "\n",
    "sim.plot2D()"
   ]
  }
 ],
 "metadata": {
  "kernelspec": {
   "display_name": "mp",
   "language": "python",
   "name": "python3"
  },
  "language_info": {
   "codemirror_mode": {
    "name": "ipython",
    "version": 3
   },
   "file_extension": ".py",
   "mimetype": "text/x-python",
   "name": "python",
   "nbconvert_exporter": "python",
   "pygments_lexer": "ipython3",
   "version": "3.11.0"
  },
  "orig_nbformat": 4
 },
 "nbformat": 4,
 "nbformat_minor": 2
}
