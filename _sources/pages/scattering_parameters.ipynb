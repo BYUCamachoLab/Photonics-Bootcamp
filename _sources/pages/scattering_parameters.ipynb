{
 "cells": [
  {
   "attachments": {},
   "cell_type": "markdown",
   "metadata": {},
   "source": [
    "# Scattering parameters\n"
   ]
  },
  {
   "attachments": {},
   "cell_type": "markdown",
   "metadata": {},
   "source": [
    "## What are scattering parameters?\n",
    "\n",
    "For a given photonic device, while knowing the actual shape of the device is useful, what we really care about is how light propagates through it. Scattering parameters (S-parameters) are complex numbers that represent the magnitude and phase multiplier acting on the light between every port in a device. S-parameters are collected into an s-matrix which then represents the complete 1st order (linear) input-output response of the device.\n",
    "\n",
    "For a device with N ports, there will be N<sup>2</sup> parameters. The notation for S-Matrices is S<sub>(output port)(input port)</sub>, so S<sub>13</sub> will be for the light entering port 3 and exiting port 1. Parameters with the input and output port represent reflections from the device back into the same port, while different output and input ports represent the transmission from the input port into the output ports.\n",
    "\n",
    "It is easiest to represent s-parameters in polar coordinate form.\n",
    "\n",
    "#### Example\n",
    "\n",
    "A device has the s-parameter $S_{21} = 0.98 e^{j\\frac{\\pi}{2}}$. This means the light accumulates $90^\\circ$ of phase, and its intensity/power will be 96% ($0.98^2 = 0.9604$) of the input when we measure the output on port 2 and put input light in port 1.\n",
    "\n",
    "\n"
   ]
  },
  {
   "attachments": {},
   "cell_type": "markdown",
   "metadata": {},
   "source": [
    "## Why are S-Parameters useful?\n",
    "\n",
    "* S-parameters allow us to represent a potentially complex photonic component as a matrix, which is much simpler to store and use in computation than other options (e.g. nonlinear functions, FDTD simulations, etc.).\n",
    "* It allows us to connect the device arbitrarily to other components and simulate its behavior in any photonic circuit.\n",
    "* Wavelength dependence (dispersion) can be represented simply by adding an extra dimension to the s-matrix.\n",
    "\n",
    "S-Parameters are used in circuit-level simulation software, e.g. simphony, sax, Lumerical Interconnect, etc."
   ]
  },
  {
   "attachments": {},
   "cell_type": "markdown",
   "metadata": {},
   "source": [
    "## How to find S-Parameters for an arbitrary device using a meep simulation\n",
    "\n",
    "In this section we'll demonstrate how to find the s-params for any device using a meep simulation. We'll show both 2D and 3D simulations, but keep in mind that 2D s-params are not very accurate, but the simulations run much faster. It is often recommended to set up the simulation in 2D to ensure everything works, then extend the simulation into 3D to run the final simulations. This can save us a lot of debugging time since the 2D simulations run faster.\n",
    "\n",
    "We'll run through the steps using gdsfactory's default 2x2 mmi, and explain on the way how the principles can be applied to any component. There are other ways to find s-parameters, one such method is shown on the [Gds To Meep](/pages/gds_to_meep) page."
   ]
  },
  {
   "attachments": {},
   "cell_type": "markdown",
   "metadata": {},
   "source": [
    "### Step 1 - Import Geometry\n",
    "\n",
    "This tutorial is adapted from the [GDSII Import](https://meep.readthedocs.io/en/latest/Python_Tutorials/GDSII_Import/) tutorial.\n",
    "\n",
    "If we have a gds of the device whose parameters we want to simulate, we can add all of our sources and detectors into our gds before we import it into meep. This will create the sources and monitors in meep that we need for the simulation.\n",
    "\n",
    "Here is a picture of the gds we will be using. \n",
    "\n",
    "![Image of splitter file](https://raw.githubusercontent.com/BYUCamachoLab/Photonics-Bootcamp/main/book/images/Notebook_Images/mmi2x2_gds_with_ports.png)\n",
    "\n",
    "We add a box around the entire component (purple) which will become the simulation region, and 8 lines, 2 on each end that will become the sources and detectors. We also add straight waveguides on the ports of the gdsfactory mmi so that the ports will be exactly where the light would enter and exit the component in an actual circuit.\n",
    "\n",
    "So, now that we have a gds, lets import it into meep!"
   ]
  },
  {
   "cell_type": "code",
   "execution_count": 1,
   "metadata": {},
   "outputs": [
    {
     "name": "stdout",
     "output_type": "stream",
     "text": [
      "\u001b[32m2024-02-14 10:23:37.620\u001b[0m | \u001b[1mINFO    \u001b[0m | \u001b[36mgplugins.gmeep\u001b[0m:\u001b[36m<module>\u001b[0m:\u001b[36m39\u001b[0m - \u001b[1mMeep '1.28.0' installed at ['/home/andeloth/miniconda3/envs/photonics/lib/python3.11/site-packages/meep']\u001b[0m\n"
     ]
    }
   ],
   "source": [
    "# Imports\n",
    "import meep as mp \n",
    "import numpy as np\n",
    "import matplotlib.pyplot as plt \n",
    "import os\n",
    "from pathlib import Path\n",
    "from gplugins.gmeep.get_meep_geometry import get_meep_geometry_from_component\n",
    "from gdsfactory.read import import_gds\n",
    "import gdsfactory as gf"
   ]
  },
  {
   "attachments": {},
   "cell_type": "markdown",
   "metadata": {},
   "source": [
    "Next we'll define a whole bunch of variables so our code is more readable down the line. "
   ]
  },
  {
   "cell_type": "code",
   "execution_count": 53,
   "metadata": {},
   "outputs": [],
   "source": [
    "res = 20 # the resolution of the simulation in pixels/um\n",
    "sim_is_3D = False # Turn this to false for a 2D simulation\n",
    "\n",
    "pwd = Path(os.path.abspath(''))\n",
    "gds_file = pwd.parent / \"files/mmi2x2.gds\" # The name of our gds file\n",
    "\n",
    "# The Parameters for the frequencies we'll be using\n",
    "lcen = 1.55 # Center wavelength\n",
    "fcen = 1 / lcen # Center frequency\n",
    "df = 0.2*fcen # Frequency Diameter\n",
    "\n",
    "# The thickness of each material in our simulation (only used in 3D simulations)\n",
    "t_oxide = 1.0\n",
    "t_Si = 0.22\n",
    "t_air = 0.78\n",
    "\n",
    "dpml = 1 # Diameter of perfectly matched layers\n",
    "cell_thickness = dpml + t_oxide + t_Si + t_air + dpml # Cell thickness\n",
    "\n",
    "# The materials we will have in our simulation, silicon and SiO2\n",
    "oxide = mp.Medium(epsilon=2.25)\n",
    "silicon = mp.Medium(epsilon=12)\n",
    "\n",
    "# Sets the min and max values for the cell and the silicon. Our simulation will be centered at y=0\n",
    "cell_zmax = 0.5*cell_thickness if sim_is_3D else 0\n",
    "cell_zmin = -0.5 * cell_thickness if sim_is_3D else 0\n",
    "\n",
    "# Create a 2D array to hold the S-Parameters for the device\n",
    "n_ports = 4 # The number of ports, also the size of our array\n",
    "s_params = np.zeros((n_ports, n_ports))\n"
   ]
  },
  {
   "attachments": {},
   "cell_type": "markdown",
   "metadata": {},
   "source": [
    "Now, we'll import our geometries from the gds file"
   ]
  },
  {
   "cell_type": "code",
   "execution_count": 54,
   "metadata": {},
   "outputs": [],
   "source": [
    "from gdsfactory.technology import LayerLevel, LayerStack\n",
    "layers = dict(core=LayerLevel(\n",
    "            layer=(1,0),\n",
    "            thickness=t_Si,\n",
    "            zmin=0.0,\n",
    "            material=\"si\",\n",
    "            mesh_order=2,\n",
    "            sidewall_angle=0,\n",
    "            width_to_z=0.5,\n",
    "            orientation=\"100\",)\n",
    "              )\n",
    "layer_stack = LayerStack(layers=layers)\n",
    "\n",
    "mmi_comp = import_gds(gds_file)\n",
    "geometry = get_meep_geometry_from_component(mmi_comp, is_3d=sim_is_3D, wavelength=lcen, layer_stack=layer_stack)\n",
    "# Use this to modify the material of the loaded geometry if needed.\n",
    "# geometry = [mp.Prism(geom.vertices, geom.height, geom.axis, geom.center, material=mp.Medium(index=3.45)) for geom in geometry]"
   ]
  },
  {
   "cell_type": "code",
   "execution_count": 73,
   "metadata": {},
   "outputs": [],
   "source": [
    "# ###################################################\n",
    "# Now we actually import the geometry\n",
    "cell_x = 32\n",
    "cell_y = 6\n",
    "cell_z = 3\n",
    "\n",
    "port_xsize = 0\n",
    "port_ysize = 1.2\n",
    "port_zsize = 0.8\n",
    "\n",
    "port_size = mp.Vector3(port_xsize, port_ysize, port_zsize) if sim_is_3D else mp.Vector3(port_xsize, port_ysize, 0)\n",
    "cell = mp.Vector3(cell_x, cell_y, cell_z) if sim_is_3D else mp.Vector3(cell_x, cell_y, 0)\n",
    "\n",
    "port1 = mp.Volume(center=mp.Vector3(-14,-0.75,0), size=port_size)\n",
    "port2 = mp.Volume(center=mp.Vector3(-14,0.75,0), size=port_size)\n",
    "port3 = mp.Volume(center=mp.Vector3(14,0.75,0), size=port_size)\n",
    "port4 = mp.Volume(center=mp.Vector3(14,-0.75,0), size=port_size)\n",
    "source1 = mp.Volume(center=port1.center+mp.Vector3(x=0.5),size=port_size)\n",
    "source2 = mp.Volume(center=port4.center-mp.Vector3(x=0.5), size=port_size)\n",
    "\n",
    "if sim_is_3D: # Sets up the oxide cladding for a three d simulation (Not used in a 2D simulation)\n",
    "    oxide_center = mp.Vector3(z=-0.5 * t_oxide)\n",
    "    oxide_size = mp.Vector3(cell.x, cell.y, t_oxide)\n",
    "    oxide_layer = [mp.Block(material=oxide, center=oxide_center, size=oxide_size)]\n",
    "    geometry = geometry + oxide_layer\n"
   ]
  },
  {
   "attachments": {},
   "cell_type": "markdown",
   "metadata": {},
   "source": [
    "### Step 2: Run simulation for a single source\n",
    "\n",
    "In order to find all the S-Parameters for a device, we have to run a simulation for each port. Each time we switch where the source is, and then get the S-parameters from that port. So, for this component, I'll run 4 simulations, each time injecting the light into a different port. Then I'll calculate the S-parameters between the port that has the light, and every other port. \n",
    "\n",
    "Because I added geometry for the sources in the gds, we just have to input that geometry into the source instead of constructing it in meep. \n",
    "TODO: Explain briefly why we use the eig_parity we do, and what the eig_band and eig_match_freq\n",
    "\n",
    "Once we define the source in meep, we can create a simulation object by simply passing all of the necessary parts into the contructor. "
   ]
  },
  {
   "cell_type": "code",
   "execution_count": 74,
   "metadata": {},
   "outputs": [],
   "source": [
    "# Set up the first source for the simulation. I'll start with port1 (the lower left)\n",
    "sources = [\n",
    "    mp.EigenModeSource(\n",
    "            src = mp.GaussianSource(fcen, fwidth=df),\n",
    "            volume=source1,\n",
    "            eig_band=1,\n",
    "            eig_parity = mp.NO_PARITY if sim_is_3D else mp.EVEN_Y + mp.ODD_Z,\n",
    "            eig_match_freq = True,\n",
    "    )\n",
    "]\n",
    "\n",
    "# Create Simulation\n",
    "sim = mp.Simulation(\n",
    "    resolution=res, # The resolution, defined further up\n",
    "    cell_size=cell, # The cell size, taken from the gds\n",
    "    boundary_layers=[mp.PML(dpml)], # the perfectly matched layers, with a diameter as defined above\n",
    "    sources = sources, # The source(s) we just defined\n",
    "    geometry = geometry, # The geometry, from above\n",
    "    default_material=mp.Medium(index=1.444)\n",
    ")\n"
   ]
  },
  {
   "attachments": {},
   "cell_type": "markdown",
   "metadata": {},
   "source": [
    "After creating the simulation object, we can add mode monitors at each of the ports. These will read how much light comes in/out of each port. \n",
    "\n",
    "Now that our simulation is completely set up for the first source, I can plot it to make sure everything looks right before running the simulation. We do that using the plot2D() method of the simulation object."
   ]
  },
  {
   "cell_type": "code",
   "execution_count": 75,
   "metadata": {
    "tags": [
     "hide-output"
    ]
   },
   "outputs": [
    {
     "data": {
      "text/plain": [
       "<Axes: xlabel='X', ylabel='Y'>"
      ]
     },
     "execution_count": 75,
     "metadata": {},
     "output_type": "execute_result"
    },
    {
     "data": {
      "image/png": "[encoded data removed]",
      "text/plain": [
       "<Figure size 640x480 with 1 Axes>"
      ]
     },
     "metadata": {},
     "output_type": "display_data"
    }
   ],
   "source": [
    "# Adds mode monitors at each of the ports to track the energy that goes in or out\n",
    "modeMonitors = [\n",
    "    sim.add_mode_monitor(fcen, 0,1, mp.ModeRegion(volume=port1)),\n",
    "    sim.add_mode_monitor(fcen, 0,1, mp.ModeRegion(volume=port2)),\n",
    "    sim.add_mode_monitor(fcen, 0,1, mp.ModeRegion(volume=port3)),\n",
    "    sim.add_mode_monitor(fcen, 0,1, mp.ModeRegion(volume=port4))\n",
    "]\n",
    "\n",
    "# Plot the simulation\n",
    "plot_plane = mp.Volume(center=mp.Vector3(z=0.2), size=mp.Vector3(cell.x, cell.y, 0))\n",
    "sim.plot2D(output_plane=plot_plane if sim_is_3D else None) # No parameters are needed for a 2D simulation. \n"
   ]
  },
  {
   "attachments": {},
   "cell_type": "markdown",
   "metadata": {},
   "source": [
    "As we see from the output of sim.plot2D, our simulation is set up correctly. The red is our source, the blue are our 4 mode monitors, an the black is the geometry. We are ready to run the simulation! Actually running the simulation is the most computationally intense part of this, so it may take some time. The until_after_sources parameter for sim.run() means the run the simulation until 100 meep time units after the sources have turned off. This makes sure the all of the light has time to propagate through the mmi."
   ]
  },
  {
   "cell_type": "code",
   "execution_count": 76,
   "metadata": {
    "tags": [
     "hide-output"
    ]
   },
   "outputs": [
    {
     "name": "stderr",
     "output_type": "stream",
     "text": [
      "Warning: grid volume is not an integer number of pixels; cell size will be rounded to nearest pixel.\n"
     ]
    },
    {
     "data": {
      "application/vnd.jupyter.widget-view+json": {
       "model_id": "21ddcdfd95394b24a1e5c6ef151b8dbe",
       "version_major": 2,
       "version_minor": 0
      },
      "text/plain": [
       "FloatProgress(value=0.0, description='0% done ', max=177.5)"
      ]
     },
     "metadata": {},
     "output_type": "display_data"
    }
   ],
   "source": [
    "# Runs the simulation\n",
    "sim.run(until_after_sources=100)"
   ]
  },
  {
   "attachments": {},
   "cell_type": "markdown",
   "metadata": {},
   "source": [
    "Now that our simulation has been run, we'll quickly compute the s-parameters, store them in our array, and print them out. The function sim.get_eigenmode_coefficients() returns an array that holds the parameters for every mode, every frequency, and in the forward and backward direction. In our simulation we only simulated the fundamental TE mode and at only our center frequency. For most applications, only the fundamental TE mode matters, but often we do want to see how the S-parameters change with frequency. To do that, simply change the df and nfreq parameters for the mode monitors. However, in our simulation we do care about the direction. In our simulation, light will go in port 1 going forward (towards positive X) and exit ports 3 and 4 in the same direction, but any light exiting port 1 and 2 will be going backwards (towards negative X). So, we change the alpha to be (0,0,1) for port 1 and 2. The 1 in the third spot indicates the backward propagating light. We'll also see how much light is inserted at port 1 going forward."
   ]
  },
  {
   "cell_type": "code",
   "execution_count": 79,
   "metadata": {},
   "outputs": [
    {
     "name": "stderr",
     "output_type": "stream",
     "text": [
      "Warning: grid volume is not an integer number of pixels; cell size will be rounded to nearest pixel.\n",
      "Warning: grid volume is not an integer number of pixels; cell size will be rounded to nearest pixel.\n",
      "Warning: grid volume is not an integer number of pixels; cell size will be rounded to nearest pixel.\n",
      "Warning: grid volume is not an integer number of pixels; cell size will be rounded to nearest pixel.\n",
      "Warning: grid volume is not an integer number of pixels; cell size will be rounded to nearest pixel.\n"
     ]
    },
    {
     "name": "stdout",
     "output_type": "stream",
     "text": [
      "\u001b[32m2024-02-14 10:56:43.082\u001b[0m | \u001b[33m\u001b[1mWARNING \u001b[0m | \u001b[36mgdsfactory.config\u001b[0m:\u001b[36mshowwarning\u001b[0m:\u001b[36m281\u001b[0m - \u001b[33m\u001b[1mCasting complex values to real discards the imaginary part\u001b[0m\n",
      "\n",
      "-----------------------------------------------------------------\n",
      "\n",
      "S params:\n",
      "Port1(Lower Left, S11): 0.256003+0.044099j  \n",
      "Port2(Upper Left, S12): -0.162642-0.176894j  \n",
      "Port3(Upper Right, S13): -2.190592-1.832865j  \n",
      "Port4(Lower Right, S14): 1.329497-2.040702j\n",
      "\n",
      "-----------------------------------------------------------------\n",
      "\n",
      "0.008247651255583325\n"
     ]
    },
    {
     "name": "stderr",
     "output_type": "stream",
     "text": [
      "/tmp/ipykernel_21496/664415321.py:10: ComplexWarning: Casting complex values to real discards the imaginary part\n",
      "  s_params[0] = [port1_coeff, port2_coeff, port3_coeff, port4_coeff]\n"
     ]
    }
   ],
   "source": [
    "#############################################################\n",
    "alphas = [[1,1,0,0,0], [1,1,0,0,0],[1,1,0,0,1],[1,1,0,0,1]] # This array holds the values for forwards and backward propagation for each soure. The 5th number is for the total input\n",
    "# Finds the S parameters\n",
    "input_coeff = sim.get_eigenmode_coefficients(modeMonitors[0], [1], eig_parity=mp.NO_PARITY if sim_is_3D else mp.EVEN_Y + mp.ODD_Z).alpha[0, 0, alphas[0][4]] # This is the amount of light from the source that enters the device\n",
    "port1_coeff = sim.get_eigenmode_coefficients(modeMonitors[0], [1], eig_parity=mp.NO_PARITY if sim_is_3D else mp.EVEN_Y + mp.ODD_Z).alpha[0, 0, alphas[0][0]]\n",
    "port2_coeff = sim.get_eigenmode_coefficients(modeMonitors[1], [1], eig_parity=mp.NO_PARITY if sim_is_3D else mp.EVEN_Y + mp.ODD_Z).alpha[0, 0, alphas[0][1]]\n",
    "port3_coeff = sim.get_eigenmode_coefficients(modeMonitors[2], [1], eig_parity=mp.NO_PARITY if sim_is_3D else mp.EVEN_Y + mp.ODD_Z).alpha[0, 0, alphas[0][2]]\n",
    "port4_coeff = sim.get_eigenmode_coefficients(modeMonitors[3], [1], eig_parity=mp.NO_PARITY if sim_is_3D else mp.EVEN_Y + mp.ODD_Z).alpha[0, 0, alphas[0][3]]\n",
    "# Store the S parameters in s_params\n",
    "s_params[0] = [port1_coeff, port2_coeff, port3_coeff, port4_coeff]\n",
    "\n",
    "\n",
    "# Prints out the S parameters\n",
    "print(\"\\n-----------------------------------------------------------------\\n\")\n",
    "print(f\"S params:\\nPort1(Lower Left, S11): {port1_coeff:.6f}  \\nPort2(Upper Left, S12): {port2_coeff:.6f}  \\nPort3(Upper Right, S13): {port3_coeff:.6f}  \\nPort4(Lower Right, S14): {port4_coeff:.6f}\")\n",
    "print(\"\\n-----------------------------------------------------------------\\n\")\n",
    "print(np.abs(input_coeff))\n"
   ]
  },
  {
   "attachments": {},
   "cell_type": "markdown",
   "metadata": {},
   "source": [
    "Just for fun, we'll also compute and print the transmittance through each port and the total insertion loss. We won't do this with the other ports, but it's a good exercise here. \n",
    "\n",
    "We find that this component is actually terrible and would never be used in an actual photonic design. Almost a third of the light is lost, and the light that isn't lost is not split in any specific ratio. Fortunately, it was never meant to be used, and just exists as an example of the basic shape of an mmi."
   ]
  },
  {
   "cell_type": "code",
   "execution_count": null,
   "metadata": {},
   "outputs": [],
   "source": [
    "# Calculates the transmittance based off of the S parameters\n",
    "port1_trans = abs(port1_coeff) ** 2 / abs(input_coeff) ** 2\n",
    "port2_trans = abs(port2_coeff) ** 2 / abs(input_coeff) ** 2\n",
    "port3_trans = abs(port3_coeff) ** 2 / abs(input_coeff) ** 2\n",
    "port4_trans = abs(port4_coeff) ** 2 / abs(input_coeff) ** 2\n",
    "\n",
    "# Calculates the Insertion loss as a percent and in dB\n",
    "insertionLoss = 1-(port2_trans + port3_trans + port4_trans)\n",
    "insertionLoss_dB = 10*np.log10(insertionLoss) \n",
    "\n",
    "# Prints the Transmittance\n",
    "print(\"\\n-----------------------------------------------------------------\\n\")\n",
    "print(\"Transmittance/Reflectance: Port1: {:.6f}% Port2: {:.6f}%, Port3: {:.6f}%, Port4: {:.6f}%\".format(port1_trans*100, port2_trans*100, port3_trans*100, port4_trans*100))\n",
    "print(\"Insertion Loss: {:.6f}% -> {:.6f}db\".format(insertionLoss*100, insertionLoss_dB))\n",
    "print(\"\\n-----------------------------------------------------------------\\n\")\n",
    "\n"
   ]
  },
  {
   "attachments": {},
   "cell_type": "markdown",
   "metadata": {},
   "source": [
    "Finally, before we move on to the next step, we'll run the simulation again and create a plot of the steady state of the mmi. "
   ]
  },
  {
   "cell_type": "code",
   "execution_count": null,
   "metadata": {},
   "outputs": [],
   "source": [
    "# Reset the simulation in order to run it again and visulaize the fields\n",
    "sim.reset_meep()\n",
    "\n",
    "# Create a continuous source\n",
    "sources = [\n",
    "    mp.EigenModeSource(\n",
    "        src=mp.ContinuousSource(fcen, fwidth=df),\n",
    "        size=port1.size,\n",
    "        center=port1.center,\n",
    "        eig_band=1,\n",
    "        eig_parity=mp.EVEN_Y + mp.ODD_Z,\n",
    "        eig_match_freq=True,\n",
    "    )\n",
    "]\n",
    "\n",
    "# Sets up the simulation again\n",
    "sim = mp.Simulation(\n",
    "    resolution=res,\n",
    "    cell_size=cell.size,\n",
    "    boundary_layers=[mp.PML(dpml)],\n",
    "    sources=sources,\n",
    "    geometry=geometry,\n",
    ")\n",
    "\n",
    "# Runs the simulation for a long time to ensure that the fields have reached a steady state\n",
    "sim.run(\n",
    "    until=300\n",
    ")\n",
    "\n",
    "# Gets data\n",
    "eps_data = sim.get_epsilon() # Epsilon Data / The Geometry / An array that holds what materials are where\n",
    "ez_data = np.real(sim.get_efield_z()) # Values for the component of the E-field in the z direction (in/out of screen)\n",
    "\n",
    "# Creates the plot\n",
    "plt.figure(dpi=200)\n",
    "plt.imshow(np.transpose(eps_data), interpolation=\"spline36\", cmap=\"binary\")\n",
    "plt.imshow(\n",
    "    np.flipud(np.transpose(ez_data)),\n",
    "    interpolation=\"spline36\",\n",
    "    cmap=\"RdBu\",\n",
    "    alpha=0.9,\n",
    ")\n",
    "plt.axis(\"off\")\n",
    "plt.show()"
   ]
  },
  {
   "attachments": {},
   "cell_type": "markdown",
   "metadata": {},
   "source": [
    "### Step 3: Run the same simulation for each of the other ports\n",
    "\n",
    "Now, all that's left to do is to run the simulation for each source. Here, I'll use a for loop to run the other three simulations. We could have done this for all four, but hopefully this makes the code make more sense. \n",
    "\n",
    "For the sources going into port 3 and 4, we have to specify that the light will be propagating backwards. Below, I've done this by setting the direction to mp.NO_DIRECTION and using the eig_kpoint parameter to specify the direction. You can use this same method to launch sources in any direction. \n",
    "\n",
    "It should be noted, that since the 2x2 mmi we are using is symmetrical across both the x and y axies, the S-parameters should be the same for all of the other ports. But for the sake of demonstration, we'll simulate all of them. Then at then end we can check to see the the S-parameters are actually the same. "
   ]
  },
  {
   "cell_type": "code",
   "execution_count": null,
   "metadata": {},
   "outputs": [],
   "source": [
    "\n",
    "# Set up the rest of the sources for the simulation.\n",
    "sources = [\n",
    "    mp.EigenModeSource(\n",
    "            src = mp.GaussianSource(fcen, fwidth=df),\n",
    "            size=port2.size, # Here we input the geometry for our first source\n",
    "            center=port2.center,\n",
    "            eig_band=1,\n",
    "            eig_parity = mp.NO_PARITY if sim_is_3D else mp.EVEN_Y + mp.ODD_Z,\n",
    "            eig_match_freq = True,\n",
    "\n",
    "    ),\n",
    "    mp.EigenModeSource(\n",
    "            src = mp.GaussianSource(fcen, fwidth=df),\n",
    "            size=port3.size, # Here we input the geometry for our first source\n",
    "            center=port3.center,\n",
    "            eig_band=1,\n",
    "            eig_parity = mp.NO_PARITY if sim_is_3D else mp.EVEN_Y + mp.ODD_Z,\n",
    "            eig_match_freq = True,\n",
    "            eig_kpoint = mp.Vector3(-1,0,0),\n",
    "            direction = mp.NO_DIRECTION\n",
    "\n",
    "    ),\n",
    "    mp.EigenModeSource(\n",
    "            src = mp.GaussianSource(fcen, fwidth=df),\n",
    "            size=port4.size, # Here we input the geometry for our first source\n",
    "            center=port4.center,\n",
    "            eig_band=1,\n",
    "            eig_parity = mp.NO_PARITY if sim_is_3D else mp.EVEN_Y + mp.ODD_Z,\n",
    "            eig_match_freq = True,\n",
    "            eig_kpoint = mp.Vector3(-1,0,0),\n",
    "            direction = mp.NO_DIRECTION\n",
    "\n",
    "    )\n",
    "]"
   ]
  },
  {
   "cell_type": "code",
   "execution_count": null,
   "metadata": {},
   "outputs": [],
   "source": [
    "\n",
    "\n",
    "for i in range(n_ports-1) :\n",
    "\n",
    "    source = sources[i:i+1]\n",
    "\n",
    "    sim.reset_meep() # resets everything\n",
    "\n",
    "    # Create Simulation\n",
    "    sim = mp.Simulation(\n",
    "    resolution=res, # The resolution, defined further up\n",
    "    cell_size=cell.size, # The cell size, taken from the gds\n",
    "    boundary_layers=[mp.PML(dpml)], # the perfectly matched layers, with a diameter as defined above\n",
    "    sources = source, # The source(s) we just defined\n",
    "    geometry = geometry # The geometry, from above\n",
    "    )\n",
    "    \n",
    "    # Adds mode monitors at each of the ports to track the energy that goes in or out\n",
    "    modeMonitors = []\n",
    "    modeMonitors.append(sim.add_mode_monitor(fcen, 0,1, mp.ModeRegion(volume=port1)))\n",
    "    modeMonitors.append(sim.add_mode_monitor(fcen, 0,1, mp.ModeRegion(volume=port2)))\n",
    "    modeMonitors.append(sim.add_mode_monitor(fcen, 0,1, mp.ModeRegion(volume=port3)))\n",
    "    modeMonitors.append(sim.add_mode_monitor(fcen, 0,1, mp.ModeRegion(volume=port4)))\n",
    "\n",
    "    # Runs the simulation\n",
    "    sim.run(until_after_sources=100)\n",
    "\n",
    "    #############################################################\n",
    "    # Finds the S parameters\n",
    "    port1_coeff = sim.get_eigenmode_coefficients(modeMonitors[0], [1], eig_parity=mp.NO_PARITY if sim_is_3D else mp.EVEN_Y + mp.ODD_Z).alpha[0, 0, alphas[i+1][0]]\n",
    "    port2_coeff = sim.get_eigenmode_coefficients(modeMonitors[1], [1], eig_parity=mp.NO_PARITY if sim_is_3D else mp.EVEN_Y + mp.ODD_Z).alpha[0, 0, alphas[i+1][1]]\n",
    "    port3_coeff = sim.get_eigenmode_coefficients(modeMonitors[2], [1], eig_parity=mp.NO_PARITY if sim_is_3D else mp.EVEN_Y + mp.ODD_Z).alpha[0, 0, alphas[i+1][2]]\n",
    "    port4_coeff = sim.get_eigenmode_coefficients(modeMonitors[3], [1], eig_parity=mp.NO_PARITY if sim_is_3D else mp.EVEN_Y + mp.ODD_Z).alpha[0, 0, alphas[i+1][3]]\n",
    "    input_coeff = sim.get_eigenmode_coefficients(modeMonitors[i+1], [1], eig_parity=mp.NO_PARITY if sim_is_3D else mp.EVEN_Y + mp.ODD_Z).alpha[0, 0, alphas[i+1][4]] # This is the total amount of light that entered the devie\n",
    "\n",
    "    # Store the S parameters in s_params\n",
    "    index = 1+i \n",
    "    s_params[index] = [port1_coeff, port2_coeff, port3_coeff, port4_coeff]\n",
    "    input_params[index] = input_coeff"
   ]
  },
  {
   "cell_type": "code",
   "execution_count": null,
   "metadata": {},
   "outputs": [],
   "source": [
    "print(\"S-Params:\")\n",
    "for i in range(n_ports):\n",
    "    print(f\"S{i+1}1: {s_params[i][0]}\\tS{i+1}2: {s_params[i][1]}\\tS{i+1}3: {s_params[i][2]}\\tS{i+1}4: {s_params[i][3]}\")\n",
    "\n",
    "print(\"Input S-Params\")\n",
    "print(f\"S1: {input_params[0]}\\tS2: {input_params[1]}\\tS3: {input_params[2]}\\tS4: {input_params[3]}\")\n",
    "\n",
    "\n",
    "\n",
    "print(\"Transmission:\")\n",
    "for i in range(n_ports):\n",
    "    input_power = abs(input_params[i])**2\n",
    "    trans1 = abs(s_params[i][0])**2 / input_power * 100\n",
    "    trans2 = abs(s_params[i][1])**2 / input_power * 100\n",
    "    trans3 = abs(s_params[i][2])**2 / input_power * 100\n",
    "    trans4 = abs(s_params[i][3])**2 / input_power * 100\n",
    "    print(\"{:.6f}\\t{:.6f}\\t{:.6f}\\t{:.6f}\".format(trans1, trans2, trans3, trans4))\n",
    "\n",
    "\n"
   ]
  },
  {
   "attachments": {},
   "cell_type": "markdown",
   "metadata": {},
   "source": [
    "Above, we can see all of the S-parameters from the simulations, and we can verify that the S-parameters are in fact the same for every port, which is what we expected. We also calculated the transmission which is also the same no matter what port we use. "
   ]
  },
  {
   "attachments": {},
   "cell_type": "markdown",
   "metadata": {},
   "source": [
    "### S-Parameters across different Frequencies\n",
    "\n",
    "For most applications, you'll want to know the S-parameters across a range of frequencies. This can be done using the simulations created here. When we get the S-parameters using the sim.get_eigenmode_coefficients().alpha[] we get a matrix. The first entry in the matrix specifies the wavelength. For brevities sake, we won't show that here, but a good exercise would be to find and plot the s-paramters across a range of frequencies for the component shown here. "
   ]
  },
  {
   "cell_type": "markdown",
   "metadata": {},
   "source": [
    "## Import the generated s-matrix to be used in simphony"
   ]
  },
  {
   "attachments": {},
   "cell_type": "markdown",
   "metadata": {},
   "source": [
    "## References\n",
    "\n",
    "[MathWorks: What are S-Parameters](https://www.mathworks.com/discovery/s-parameter.html)\n",
    "\n",
    "[Luceda: Scatter matrix](https://docs.lucedaphotonics.com/guides/caphe_models_frequency/scatter_matrix)\n",
    "\n",
    "[Microwaves101: S-Parameters](https://www.microwaves101.com/encyclopedias/s-parameters)\n",
    "\n",
    "[Youtube: Understanding S-Parameters](https://www.youtube.com/watch?v=-Pi0UbErHTY)\n",
    "\n",
    "\n",
    "\n"
   ]
  }
 ],
 "metadata": {
  "kernelspec": {
   "display_name": "Python 3",
   "language": "python",
   "name": "python3"
  },
  "language_info": {
   "codemirror_mode": {
    "name": "ipython",
    "version": 3
   },
   "file_extension": ".py",
   "mimetype": "text/x-python",
   "name": "python",
   "nbconvert_exporter": "python",
   "pygments_lexer": "ipython3",
   "version": "3.11.7"
  },
  "orig_nbformat": 4,
  "vscode": {
   "interpreter": {
    "hash": "31f2aee4e71d21fbe5cf8b01ff0e069b9275f58929596ceb00d14d90e3e16cd6"
   }
  }
 },
 "nbformat": 4,
 "nbformat_minor": 2
}
