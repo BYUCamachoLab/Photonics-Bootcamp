{
 "cells": [
  {
   "cell_type": "markdown",
   "metadata": {},
   "source": [
    "# What are photonic devices?\n",
    "\n",
    "Photonic devices are analogous to electronic devices but instead of manipulating electricity, a photonic device manipulates light in a useful way. Photonic devices are the building blocks of a photonic circuit. Many optical devices that exist on the macro-scale (think free-space optical setups with lenses, mirrors, and beamsplitters) have their integrated analogues, which exist on the micro- or nano-scale.\n",
    "\n",
    "## Comparing electronics to photonics\n",
    "\n",
    "| Electronics | Photonics |\n",
    "| :--- | :--- |\n",
    "| Manipulates electricity (electrons) | Manipulates light (photons) |\n",
    "| Discrete components include resistors, inductors, capacitors, etc. | Discrete components include fiber optic cables, lenses, etc. |\n",
    "| Electronic integrated circuit (CMOS) | Photonic integrated circuit ({term}`SOI`) |\n",
    "\n",
    "\n",
    "## Passive vs. active devices\n",
    "\n",
    "Photonic devices can be classified as either passive or active. \n",
    "\n",
    "### Passive devices\n",
    "\n",
    "Passive devices are all-optical and are used to manipulate or guide light without a power source. Passive devices include: \n",
    "\n",
    "* splitters\n",
    "* grating couplers\n",
    "* interferometers\n",
    "\n",
    "Passive devices can, for example, modify:\n",
    "\n",
    "* the direction of light, through bends and waveguides;\n",
    "* the relative phase of light, through delay lines or mismatched path lengths;\n",
    "* the polarization of the light, through mode anisotropy.\n",
    "\n",
    "### Active devices\n",
    "\n",
    "Active devices require an electrical source and are often referred to as electro-optical devices. Examples of active photonic devices include:\n",
    "\n",
    "* lasers\n",
    "* photodetectors\n",
    "* some phase shifters\n",
    "* variable optical attenuators (VOAs)\n",
    "\n",
    "These devices are often used to convert between electrical and optical signals. They can be used to:\n",
    "\n",
    "* generate light, using lasers;\n",
    "* detect light, using photodetectors, and convert an optical signal back into an electrical signal;\n",
    "* modulate the amplitude and phase of light over time, using phase shifters, encoding information into an optical signal."
   ]
  },
  {
   "cell_type": "markdown",
   "metadata": {},
   "source": [
    "## The manufacturing process\n",
    "\n",
    "One of the main advantages of silicon photonics for creating integrated photonic devices is that wafers can be fabricated using the same process as conventional electronics; the technology and fabrication facilities already exist, meaning cost is low.\n",
    "\n",
    "In fabrication facilities, chips are manufactured by patterning shapes designed by engineers onto wafers. This is done using a process called photolithography, which is a process that uses light to transfer a geometric pattern from a photomask (also called a mask) to a photosensitive (light-sensitive) chemical photoresist on the substrate. The wavelength of the light defines your minimum feature size; for photolithography, the exposing lamp is usually in the ultraviolet regime.\n",
    "\n",
    "<div style=\"text-align: center;\">\n",
    "<img src=\"https://github.com/BYUCamachoLab/Photonics-Bootcamp/blob/main/book/images/1200px-Semiconductor_photomask.jpg?raw=true\" alt=\"Example of a semiconductor photomask\" width=\"400\">\n",
    "\n",
    "([source](https://commons.wikimedia.org/wiki/File:Semiconductor_photomask.jpg))\n",
    "</div>\n",
    "\n",
    "The mask operates as a sort of binary stencil, allowing light to pass through in some areas but not others. The photoresist is exposed to light through the mask, and the areas exposed to light are chemically altered to make them either more or less susceptible to etching. The photoresist is then developed, which removes the areas that were exposed to light (for a positive photoresist), leaving behind a pattern of photoresist that is the inverse of the mask. The photoresist is then used as a mask for the underlying material, which is etched or doped to create the desired electrical or optical properties of the various components of the circuit.\n",
    "\n",
    "<div style=\"text-align: center;\">\n",
    "<img src=\"https://github.com/BYUCamachoLab/Photonics-Bootcamp/blob/main/book/images/Photoresist_of_Photolithography.png?raw=true\" alt=\"Photolithography steps diagram\" width=\"500\">\n",
    "\n",
    "([source](https://commons.wikimedia.org/wiki/File:Photoresist_of_Photolithography.png))\n",
    "</div>"
   ]
  },
  {
   "cell_type": "markdown",
   "metadata": {},
   "source": [
    "## Defining the layer stack\n",
    "\n",
    "A layer stack defines the layers available to use as a designer. These layers correspond to process steps, whether that be etching of existing material, deposition of new layers, or doping. Materials may include layers for the substrate, the waveguides, cladding, metallization layers, etc., while process steps may include p- or n- doping regions, etch steps, and so on. \n",
    "\n",
    "The layer stack is usually defined in a GDS file. GDS files get translated into masks that are used to fabricate the chip.\n",
    "\n",
    "## Process design rules\n",
    "\n",
    "Process design rules are a set of rules that define the constraints of the fabrication process. They include restrictions such as minimum feature size, minimum spacing between features, minimum line width, feature density requirements, etc. If you've designed electronic PCBs before, you may be familiar with the concept of design rules (you may have even had designs rejected by a fab because they didn't meet the design rules!).\n",
    "\n",
    "Designs typically undergo a round of design rule checking (DRC) before submission for fabrication to ensure that the design is compatible with the process design rules. KLayout includes [tools for performing DRC](https://www.klayout.de/doc/manual/drc.html), although many fabs will also have their own in-house DRC tools. Well-developed and mature PDKs will also have some method of performing automated DRC on a GDS file.\n",
    "\n",
    "## Device models and geometries\n",
    "\n",
    "Device models are geometric models that describe the shape of the device. They can also be used with some tools to simulate the device and predict its behavior based off its geometry. If the PDK is mature enough, they will include simulation models for the device as well.\n",
    "\n",
    "A PDK may store the model as a concrete GDS file (containg a cell within which the polygons are defined), or it may store the model as a Python script that generates the GDS file (storing a list of vertices or being able to parameterize a geometry, e.g. its width or length). The latter is more flexible, as it allows you to change the parameters of the device and regenerate the GDS file without having to manually edit the GDS file. If the device is simple enough, you may also be able to fit a regression to the simulation model that allows you to predict the behavior of the device based on its parameterized geometry. This is useful for speeding up the simulation and optimization of a full circuit that contains instances of such a device model.\n",
    "\n",
    "## Circuit models\n",
    "\n",
    "Circuit models are constructions that compose device models together into larger devices. For example, while you may have a model for a single waveguide, you may also have a model for a waveguide coupler, which is composed of two waveguides. Circuit models can be used to simulate the behavior of a device, and they can also be used to create a layout of the device.\n",
    "\n",
    "A more complex example would be a circuit model for a Mach-Zehnder modulator (MZM). An MZM is composed of two waveguides that are coupled together at the input and output, and a phase shifter in (at least) one of the arms. The circuit model for an MZM would be composed of the circuit models for the waveguides and the phase shifter, as well as potential electrical connections and routing.\n",
    "\n",
    "## Digital compact models\n",
    "\n",
    "We have briefly touched on the concept of compact models in the above two sections, but what are they? Compact models are mathematical models that describe the behavior of a device. They are typically used in circuit simulators to predict the behavior of a circuit. Compact models are often parameterized, meaning that they can be used to predict the behavior of a device based on its geometry and material properties.\n",
    "\n",
    "The propogation of light through a device is typically simulated by solving Maxwell's equations. This is a computationally expensive process that involves creating a volumetric mesh in space, assigning material properties to each voxel, and then stepping through finite differences in time and space while solving for the electric and magnetic field components for each voxel. This is computationally expensive (requires a lot of memory and simulations take on the order of hours), so once simulated a single time, the pertinent results are typically abstracted and stored in a {term}`compact model`. This model can be used to predict the behavior of the device when placed in sequence with other devices. This is therefore useful for simulating a full circuit, as the circuit may contain many instances of the same device, and so compact models speed up the simulation process (it's a simple read operation rather than a volumetric simulation). Compact models are useful for predicting the behavior of a circuit that has not yet been fabricated."
   ]
  },
  {
   "cell_type": "markdown",
   "metadata": {},
   "source": []
  }
 ],
 "metadata": {
  "kernelspec": {
   "display_name": "Python 3",
   "language": "python",
   "name": "python3"
  },
  "language_info": {
   "name": "python",
   "version": "3.9.6 (default, Mar 10 2023, 20:16:38) \n[Clang 14.0.3 (clang-1403.0.22.14.1)]"
  },
  "orig_nbformat": 4,
  "vscode": {
   "interpreter": {
    "hash": "31f2aee4e71d21fbe5cf8b01ff0e069b9275f58929596ceb00d14d90e3e16cd6"
   }
  }
 },
 "nbformat": 4,
 "nbformat_minor": 2
}
