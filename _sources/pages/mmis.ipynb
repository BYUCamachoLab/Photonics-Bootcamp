{
 "cells": [
  {
   "attachments": {},
   "cell_type": "markdown",
   "metadata": {},
   "source": [
    "# Multimode Interferometers (MMIs)\n",
    "\n",
    "MMIs are devices that are used to combine and split light in a predictable way. They are designed not only to output a certain fraction of the input power, but are also designed so that the outputs have a certain phase difference. The basic design of an MMI includes the multimode region (a.k.a the body of the MMI) which is simple a multimode waveguide. This means, generally, that it will support more than three modes. Tapers that gradually widen the input and output waveguides as they go in and out of this multimode region are also common. MMIs are denoted by the number of input and output ports they have, with an NxM MMI having N input ports and M output ports.\n",
    "\n",
    "<div style=\"text-align: center;\">\n",
    "\n",
    "![1x2mmi](https://github.com/BYUCamachoLab/Photonics-Bootcamp/blob/main/book/images/Notebook_Images/mmi1x2.png?raw=true)\n",
    "![2x2mmi](https://github.com/BYUCamachoLab/Photonics-Bootcamp/blob/main/book/images/Notebook_Images/mmi2x2.png?raw=true)\n",
    "\n",
    "</div>\n",
    "\n",
    "\n",
    "<div style=\"text-align: center;\">\n",
    "\n",
    "A 1x2 and 2x2 MMI\n",
    "\n",
    "</div>"
   ]
  },
  {
   "attachments": {},
   "cell_type": "markdown",
   "metadata": {},
   "source": [
    "### Self-Imaging\n",
    "\n",
    "MMIs work on the principle of self-imaging. An \"image\" occurs when the electric fields at some distance in the MMI match the fields at the input. A wave is excited in one of the input ports and as light enters the multimode region, it scatters and interferes with itself as it reflects off of the walls of the MMI. As it either interferes constructively and destructively, a field pattern is created. At a certain length, these images are replicas of the input.\n",
    "\n",
    "Another property of self-imaging is that it can work backwards. In other words, if you wanted to combine light with an MMI instead of split it, you could excite waves going into the output ports, and get a combined image of them at an input port.\n",
    "\n",
    "* Need pictures\n",
    "* How to determine the length of the MMI body"
   ]
  },
  {
   "cell_type": "code",
   "execution_count": 6,
   "metadata": {},
   "outputs": [
    {
     "data": {
      "text/plain": [
       "<Axes: xlabel='X', ylabel='Y'>"
      ]
     },
     "execution_count": 6,
     "metadata": {},
     "output_type": "execute_result"
    },
    {
     "data": {
      "image/png": "[encoded data removed]",
      "text/plain": [
       "<Figure size 640x480 with 1 Axes>"
      ]
     },
     "metadata": {},
     "output_type": "display_data"
    }
   ],
   "source": [
    "# Some sort of MMI simulation so can see self-imaging?\n",
    "import meep as mp\n",
    "import gdsfactory as gf\n",
    "from gdsfactory.simulation.gmeep import get_simulation\n",
    "from gdsfactory.simulation.gmeep.get_simulation import get_meep_geometry_from_component\n",
    "\n",
    "# Define materials\n",
    "Si = mp.Medium(index=3.45)\n",
    "SiO2 = mp.Medium(index=1.45)\n",
    "\n",
    "# Define wavelength in um\n",
    "wvl = 1.55\n",
    "\n",
    "# # Define cell and geometric parameters\n",
    "resolution = 20\n",
    "dpml = 1\n",
    "pad = 1\n",
    "mmi = gf.components.mmi2x2()\n",
    "\n",
    "Sx = dpml + -(mmi.ports[\"o1\"].x) + (mmi.ports[\"o4\"].x) + dpml\n",
    "Sy = dpml + pad + -(mmi.ports[\"o1\"].y) + -(mmi.ports[\"o4\"].y) + pad + dpml\n",
    "cell_size = mp.Vector3(Sx,Sy)\n",
    "\n",
    "# Extend the ports to match the length of the cell\n",
    "mmi = gf.components.extend_ports(mmi, port_names=[\"o1\",\"o2\",\"o3\",\"o4\"], length=1)\n",
    "\n",
    "# Add PML (perfectly matched layers)\n",
    "pml = [mp.PML(dpml)]\n",
    "\n",
    "# Using the gdsfactory function, get the mmi geometry\n",
    "geometry = get_meep_geometry_from_component(mmi)\n",
    "\n",
    "# Put a pulse Eigenmode source at beginning of one waveguide\n",
    "fcen = 1 / wvl\n",
    "width = 0.1\n",
    "fwidth = width * fcen\n",
    "src=mp.GaussianSource(frequency=fcen, fwidth=fwidth)\n",
    "source = [mp.EigenModeSource(src=src, eig_band=1,\n",
    "        eig_kpoint = (1,0),\n",
    "        size=mp.Vector3(0,1),\n",
    "        center=mp.Vector3(-mmi.ports[\"o1\"].x+dpml+1, -mmi.ports[\"o1\"].y/2))\n",
    "        ]\n",
    "\n",
    "# Create simulation dictionary\n",
    "sim = get_simulation(mmi,\n",
    "    resolution= 20,\n",
    "    tpml= 1,\n",
    "    port_source_offset= 0.2,\n",
    "    port_monitor_offset= -0.1,\n",
    "    distance_source_to_monitors= 0.3,)\n",
    "sim['sim'].sources = sim['sources']\n",
    "sim['sim'].cell_size.y = 8\n",
    "sim['sim'].cell_size.x = 32\n",
    "# Show simulation set-up\n",
    "sim['sim'].plot2D()"
   ]
  },
  {
   "cell_type": "code",
   "execution_count": 7,
   "metadata": {},
   "outputs": [],
   "source": [
    "sim['sim'].run(mp.at_beginning(mp.output_epsilon),\n",
    "        mp.to_appended(\"ez\", mp.at_every(2, mp.output_efield_z)),\n",
    "        until=200)"
   ]
  },
  {
   "cell_type": "code",
   "execution_count": 9,
   "metadata": {},
   "outputs": [],
   "source": [
    "from PIL import Image\n",
    "import glob\n",
    "import os\n",
    "\n",
    "# Capture electric field intensity over time and output into a gif\n",
    "\n",
    "# Generate pngs from the simulation output\n",
    "# The line that worked in my workspace\n",
    "os.system(\"h5topng -t 0:99 -R -Zc /home/ebang4/miniconda3/envs/h5utils/share/h5utils/colormaps/RdBu -A /home/ebang4/Github/Photonics-Bootcamp/book/pages/eps-000000.00.h5 -a /home/ebang4/miniconda3/envs/h5utils/share/h5utils/colormaps/gray /home/ebang4/Github/Photonics-Bootcamp/book/pages/ez.h5\")\n",
    "\n",
    "# This line assumes that their colormaps are working and that they are in the same directory as the output files\n",
    "# also that h5py is installed\n",
    "# If you have a problem with h5utils, see note below\n",
    "\n",
    "# os.system(\"h5topng -t 0:299 -R -Zc RdBu -A eps-000000.00.h5 -a gray ez.h5\")\n",
    "\n",
    "# Create a gif from the pngs\n",
    "frames = []\n",
    "imgs = glob.glob(\"ez.t*\")\n",
    "imgs.sort()\n",
    "for i in imgs:\n",
    "    new_frame = Image.open(i)\n",
    "    frames.append(new_frame)\n",
    "\n",
    " \n",
    "# Save into a GIF file that loops forever\n",
    "frames[0].save('ez.gif', format='GIF',\n",
    "               append_images=frames[1:],\n",
    "               save_all=True,\n",
    "               loop=0)\n",
    "\n",
    "# Clean up workspace by deleting all generated images\n",
    "for i in imgs: \n",
    "    os.remove(i)"
   ]
  },
  {
   "attachments": {},
   "cell_type": "markdown",
   "metadata": {},
   "source": [
    "### MMI Applications\n",
    "\n",
    "Mach-Zehnder optical switches"
   ]
  },
  {
   "attachments": {},
   "cell_type": "markdown",
   "metadata": {},
   "source": [
    "### Sources\n",
    "\n",
    "https://ieeexplore.ieee.org/stamp/stamp.jsp?tp=&arnumber=372474\n",
    "\n",
    "https://opg.optica.org/view_article.cfm?pdfKey=21e37623-43e8-4d94-b871476935a89af0_41580\n",
    "\n",
    "https://arxiv.org/pdf/1405.6025.pdf"
   ]
  }
 ],
 "metadata": {
  "kernelspec": {
   "display_name": "pmp",
   "language": "python",
   "name": "python3"
  },
  "language_info": {
   "codemirror_mode": {
    "name": "ipython",
    "version": 3
   },
   "file_extension": ".py",
   "mimetype": "text/x-python",
   "name": "python",
   "nbconvert_exporter": "python",
   "pygments_lexer": "ipython3",
   "version": "3.11.0"
  },
  "orig_nbformat": 4
 },
 "nbformat": 4,
 "nbformat_minor": 2
}
