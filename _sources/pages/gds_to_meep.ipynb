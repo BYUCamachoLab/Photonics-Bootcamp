{
 "cells": [
  {
   "attachments": {},
   "cell_type": "markdown",
   "metadata": {},
   "source": [
    "# GDS to Meep\n",
    "\n",
    "In GDSFactory, there are several functions that can be used to take a GDSFactory component and turn it into a Meep geometry or simulation. When used in conjunction with other GDSFactory functions that allow you to take any gds file and make its contents a GDSFactory component, this means that you can take any component and easily turn it into a Meep geometry.\n",
    "\n",
    "* Description of what the functions do (more about how gds works and maybe give a little bit of detail about how the functions are coded)\n",
    "* what keywords they accept\n",
    "* pitfalls to avoid\n",
    "\n"
   ]
  },
  {
   "cell_type": "code",
   "execution_count": null,
   "metadata": {},
   "outputs": [],
   "source": [
    "# Code showing examples for all the functions\n",
    "\n",
    "# Library where the functions are from\n",
    "from gdsfactory.simulation.gmeep.get_simulation import get_simulation, get_meep_geometry_from_component\n",
    "# get_simulation\n",
    "\n",
    "# get_meep_geometry_from_component\n",
    "\n",
    "from gdsfactory.simulation.gmeep import write_sparameters_meep"
   ]
  },
  {
   "attachments": {},
   "cell_type": "markdown",
   "metadata": {},
   "source": [
    "### Finding S-parameters through gmeep\n",
    "\n",
    "There are several functions in GDSFactory that allow you to find the S-parameters of a given component. "
   ]
  },
  {
   "attachments": {},
   "cell_type": "markdown",
   "metadata": {},
   "source": [
    "### Adjoint solver in GDSFactory\n",
    "\n",
    "The documentation on this in gdsfactory is slightly better and they have some example code that looks like it functions\n",
    "\n",
    "However, it is still rather confined in GDSFactory, the functions there take a bit of finessing in order to have the same flexibility\n",
    "\n",
    "* How the adjoint solver works with the gmeep plugin"
   ]
  }
 ],
 "metadata": {
  "kernelspec": {
   "display_name": "pmp",
   "language": "python",
   "name": "python3"
  },
  "language_info": {
   "name": "python",
   "version": "3.11.0"
  },
  "orig_nbformat": 4
 },
 "nbformat": 4,
 "nbformat_minor": 2
}
