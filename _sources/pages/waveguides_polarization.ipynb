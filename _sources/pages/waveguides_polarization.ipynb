{
 "cells": [
  {
   "cell_type": "markdown",
   "id": "2ab72c81",
   "metadata": {},
   "source": [
    "# Polarization"
   ]
  },
  {
   "attachments": {},
   "cell_type": "markdown",
   "id": "38a4a38d",
   "metadata": {},
   "source": [
    "To understand how an optical waveguide works, it is important to understand what it means for light to be *polarized*. The polarization of light affects how it behaves in a waveguide. \n",
    "\n",
    "The diagram below describes the motion of a wave of light, which is an electromagnetic wave:\n"
   ]
  },
  {
   "attachments": {},
   "cell_type": "markdown",
   "id": "2a04cf31",
   "metadata": {},
   "source": [
    "![Image of an electromagnetic wave](https://raw.githubusercontent.com/BYUCamachoLab/Photonics-Bootcamp/main/book/images/Notebook_Images/electromagnetic_wave_diagram.png)\n",
    "{cite:p}`francois~frwiki_2022`"
   ]
  },
  {
   "attachments": {},
   "cell_type": "markdown",
   "id": "914da73a",
   "metadata": {},
   "source": [
    "As the light wave propagates in the positive z direction, electric and magnetic field components of the light wave propagate in the x direction and y direction. The electric and magnetic field components propagate orthogonally to one another, and orthogonal to the light wave's direction of propagation.\n",
    "\n",
    "The *polarization* of a light wave generally refers to the orientation of its electric field vector. Why do we care about the electric field vector and not the magnetic field vector? This is purely convention. Because the electric and magnetic fields are orthogonal to one another, knowing the orientation of a light wave's electric field and its direction of propagation tells us all we need to know about the orientation of its magnetic field too.\n",
    "\n",
    "If the electric field of a light wave is orthogonal to the interface through which the light wave propagates, the light wave has *perpendicular polarization*. These light waves are also known as *transverse electric (TE) waves*. On the other hand, if the electric field of a light wave is parallel to the interface of propagation, it has *parallel polarization*. These waves are also called *transverse magnetic (TM) waves*. \n",
    "\n",
    "Polarization conventions can be a bit tricky to understand at first. Let's take a look at the diagram above for a better understanding. A light wave propagates in the z direction, while electric and magnetic fields propagate in the x direction and the y direction. The red and blue field lines could represent *either* the electric field or the magnetic field respectively. This is a three dimensional graph, but what if we considered it in only two dimensions? Let's take the y-z plane, the slice of the graph where x=0. If we were to look at this plane straight on, we'd only see the red field lines oscillating along the y axis and the arrow in the positive z direction representing the direction of propagation. The red field lines are parallel to the y-z plane, the blue field lines are orthogonal to (transverse) the y-z plane."
   ]
  },
  {
   "attachments": {},
   "cell_type": "markdown",
   "id": "3df7b757",
   "metadata": {},
   "source": [
    ":::{note}\n",
    "Test your comprehension of TE and TM polarization:\n",
    "1. What is the polarization of the light wave in the diagram if the red field lines represent the electric field and the blue field lines represent the magnetic field?\n",
    "2. What is the polarization of the light wave in the diagram if the red bield lines represent the *magnetic field* and the blue field lines represent the *electric field*?\n",
    "\n",
    ":::"
   ]
  },
  {
   "attachments": {},
   "cell_type": "markdown",
   "id": "6d4c6aa9",
   "metadata": {},
   "source": [
    "### Polarization: Considerations"
   ]
  },
  {
   "attachments": {},
   "cell_type": "markdown",
   "id": "c9cefbbe",
   "metadata": {},
   "source": [
    "Natural light (say, the light from the sun) is *unpolarized*. That's not to say that the light doesn't have electric and magnetic field components, all light does, but the orientation of the electric and magnetic field components is scattered and non-uniform. It's possible to polarize unpolarized light by filtering out light with certain polarizations and permitting light with other polarizations. Once light is polarized, it's a lot more useful for transmitting data. Polarized light behaves predictably, unpolarized light behaves unpredictably.\n",
    "\n",
    "The behavior of light in a waveguide depends in part on its polarization, which we'll explore in the next section. Some waveguides support light of certain polarizations and not others in certain modes, and most waveguides can support multiple photonic signals of different polarizations simultaneously."
   ]
  }
 ],
 "metadata": {
  "kernelspec": {
   "display_name": "Python 3",
   "language": "python",
   "name": "python3"
  },
  "language_info": {
   "codemirror_mode": {
    "name": "ipython",
    "version": 3
   },
   "file_extension": ".py",
   "mimetype": "text/x-python",
   "name": "python",
   "nbconvert_exporter": "python",
   "pygments_lexer": "ipython3",
   "version": "3.9.6 (default, Mar 10 2023, 20:16:38) \n[Clang 14.0.3 (clang-1403.0.22.14.1)]"
  },
  "vscode": {
   "interpreter": {
    "hash": "31f2aee4e71d21fbe5cf8b01ff0e069b9275f58929596ceb00d14d90e3e16cd6"
   }
  }
 },
 "nbformat": 4,
 "nbformat_minor": 5
}
