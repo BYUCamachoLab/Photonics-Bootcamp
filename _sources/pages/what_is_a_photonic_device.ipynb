{
 "cells": [
  {
   "attachments": {},
   "cell_type": "markdown",
   "metadata": {},
   "source": [
    "# What is a Photonic Device?\n",
    "\n",
    "Photonic devices are an analogue to electronic devices but instead of manipulating electricity, a photonic device manipulates light in a specified, useful way. Photonic devices are the building blocks of a photonic circuit. Devices can be created on the macro or micro scale, although it is increasingly common for photonic devices to refer to microscale structures. \n",
    "\n",
    "<div style=\"text-align: center;\">\n",
    "\n",
    "\n",
    "|Electronics|Photonics|\n",
    "|:----:|:----:|\n",
    "|Maniuplates electrons|Manipulates photons|\n",
    "|Discrete components (resistors, inductors, capacitors, etc)| Discrete components (fiber optic cables)|\n",
    "|Electronic integrated circuit (CMOS)|Photonic integrated circuit (SOI)|\n",
    "|||\n",
    "\n",
    "</div>\n",
    "\n",
    "### Active vs Passive Devices\n",
    "\n",
    "Photonic devices can be either active or passive. Active devices require an input of energy and often output power to a circuit, while passive devices only consume power. Examples of active photonic devices include lasers, photodiodes, and LEDs. Passive devices include waveguides or other components that guide the light.\n",
    "\n",
    "**Insert pictures showing the different devices**\n",
    "\n",
    "### Manufacturing of Devices\n",
    "\n",
    "Just like in electronics, photonic devices can be manufactured in a variety of ways. Photolithography can be used for silicon-on-insulator platforms (discussed in the following page)\n",
    "\n"
   ]
  }
 ],
 "metadata": {
  "language_info": {
   "name": "python"
  },
  "orig_nbformat": 4
 },
 "nbformat": 4,
 "nbformat_minor": 2
}
