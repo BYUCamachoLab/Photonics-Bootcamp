{
 "cells": [
  {
   "attachments": {},
   "cell_type": "markdown",
   "metadata": {},
   "source": [
    "# What is a Photonic Device?\n",
    "\n",
    "Photonic devices are analogous to electronic devices but instead of manipulating electricity, a photonic device manipulates light in a specified, useful way. Photonic devices are the building blocks of a photonic circuit. Devices can be created on the macro or micro scale, although it is increasingly common for photonic devices to be built on the microscale or nanoscale. \n",
    "\n",
    "<div style=\"text-align: center;\">\n",
    "\n",
    "**Comparing Electronics to Photonics**\n",
    "\n",
    "|Electronics|Photonics|\n",
    "|:----:|:----:|\n",
    "|Manipulates electricity (electrons)|Manipulates light (photons)|\n",
    "|Discrete components include resistors, inductors, capacitors, etc.| Discrete components include fiber optic cables, lenses, etc.|\n",
    "|Electronic integrated circuit (CMOS)|Photonic integrated circuit (SOI)|\n",
    "\n",
    "</div>\n",
    "\n",
    "### Active vs Passive Devices\n",
    "\n",
    "Photonic devices can be either active or passive. Active devices require an input of energy and are often used to output power to a circuit. Passive devices consume power and are used to change properties of the light without a power source. These properties can include the direction, phase, and polarization of the light. Examples of active photonic devices include lasers, photodetectors, phase shifters, and variable optical attenuators (VOAs). Passive devices include splitters, grating couplers, interferometers, and other waveguide based components.\n",
    "\n",
    "### Manufacturing of Devices\n",
    "\n",
    "Just like in electronics, integrated photonic devices can be manufactured using photolithography. This is one of the most popular methods since it utilizes existing electronic foundry processes. On the next page, we will discuss the silicon-on-insulator platform for manufacturing photonic devices."
   ]
  }
 ],
 "metadata": {
  "language_info": {
   "name": "python"
  },
  "orig_nbformat": 4
 },
 "nbformat": 4,
 "nbformat_minor": 2
}
