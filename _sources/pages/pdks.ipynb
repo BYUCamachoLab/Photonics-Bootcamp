{
 "cells": [
  {
   "cell_type": "markdown",
   "metadata": {},
   "source": [
    "# Process design kits\n",
    "\n",
    "A {term}`process design kit` (PDK) is a system of software, models, and tools for modeling a fabrication process for use in designing integrated circuits (electronic or photonic). A PDK typically includes process flow information, a layer stack, process design rules, geometric device models, circuit models, and digital compact models for simulation."
   ]
  },
  {
   "cell_type": "code",
   "execution_count": null,
   "metadata": {},
   "outputs": [],
   "source": []
  }
 ],
 "metadata": {
  "language_info": {
   "name": "python"
  },
  "orig_nbformat": 4
 },
 "nbformat": 4,
 "nbformat_minor": 2
}
