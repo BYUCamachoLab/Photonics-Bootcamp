{
 "cells": [
  {
   "attachments": {},
   "cell_type": "markdown",
   "metadata": {},
   "source": [
    "# Mach-Zehnder Interferometer\n",
    "\n",
    "An interferometer is just an instrument that utilizes the interference between two beams of light to make precise measurements.\n",
    "\n",
    "The Mach-Zehnder Interferometer (MZI) splits a light beam, sends the light down two different paths and recombines the light. We say that the MZI is balanced if the two paths are the same distance or unblanced if the path lengths differ."
   ]
  },
  {
   "attachments": {},
   "cell_type": "markdown",
   "metadata": {},
   "source": [
    "![Image of a MZI](https://raw.githubusercontent.com/BYUCamachoLab/Photonics-Bootcamp/main/book/images/Notebook_Images/mzi_outline_ports_marked.webp)\n",
    "\n",
    "One implementation of this concept is illustrated above. Notice that the inner path of the MZI is shorter than the outer path, therefore the MZI is unbalanced. This implies that the two light beams will be out of phase with each other when they are recombined and interference occurs.\n",
    "\n",
    "Since the interference that occurs when the light is recombined is dependent on the the wavelength of the intitial beam of light, the amount of light that leaves the interferometer will be dependent on the initial wavelength."
   ]
  },
  {
   "attachments": {},
   "cell_type": "markdown",
   "metadata": {},
   "source": [
    "# Sweeping\n",
    "Imagine we shined a laser into the first grating coupler and then adjusted the wavelength over some range. We then can plot the data from the intensity of the light leaving the MZI against the wavelengths we tested. This is sometimes referred to as \"sweeping.\""
   ]
  },
  {
   "attachments": {},
   "cell_type": "markdown",
   "metadata": {},
   "source": [
    "![Image of an MZI with labels](https://raw.githubusercontent.com/BYUCamachoLab/Photonics-Bootcamp/main/book/images/Notebook_Images/plot_mzi.webp)"
   ]
  },
  {
   "attachments": {},
   "cell_type": "markdown",
   "metadata": {},
   "source": [
    "Click here for more information about implementing sweeps:\n",
    "https://simphonyphotonics.readthedocs.io/en/stable/tutorials/mzi.html"
   ]
  },
  {
   "attachments": {},
   "cell_type": "markdown",
   "metadata": {},
   "source": [
    "# Analysis of a Balanced MZI"
   ]
  },
  {
   "attachments": {},
   "cell_type": "markdown",
   "metadata": {},
   "source": [
    "You can think of a balanced interferometer as having equal path lengths when the light separates. In ideal conditions, this means that amount of power at the output is the same as the input. "
   ]
  },
  {
   "cell_type": "code",
   "execution_count": 1,
   "metadata": {},
   "outputs": [
    {
     "name": "stdout",
     "output_type": "stream",
     "text": [
      "You can install `pip install gdsfactory[full]` for better visualization\n"
     ]
    },
    {
     "data": {
      "image/png": "[encoded data removed]",
      "text/plain": [
       "<Figure size 640x480 with 1 Axes>"
      ]
     },
     "metadata": {},
     "output_type": "display_data"
    },
    {
     "name": "stdout",
     "output_type": "stream",
     "text": [
      "my_component: uid 4dfe1431, ports [], references ['mzi_1'], 0 polygons\n"
     ]
    }
   ],
   "source": [
    "import gdsfactory as gf\n",
    "\n",
    "PDK = gf.get_generic_pdk()\n",
    "PDK.activate()\n",
    "\n",
    "c = gf.Component(\"my_component\")\n",
    "mzi = c << gf.components.mzi(delta_length=0)\n",
    "\n",
    "c\n"
   ]
  },
  {
   "attachments": {},
   "cell_type": "markdown",
   "metadata": {},
   "source": [
    "There are there three different relevant amplitudes:\n",
    "1. The amplitude of the input light:\n",
    "$$\n",
    "    I_{input} = E_{input}^2\n",
    "$$\n",
    "\n",
    "2. The amplitudes of the beams after the split\n",
    "$$\n",
    "    E_{1} = \\frac{E_{input}}{\\sqrt{2}}, \\hspace{2mm} E_{2} = \\frac{E_{input}}{\\sqrt{2}}\n",
    "$$\n",
    "\n",
    "3. The amplitude of the recombined light\n",
    "$$\n",
    "    E_{output} = \\frac{E_{1}+E_{2}}{\\sqrt{2}} = I_{input}\n",
    "$$\n",
    "\n",
    "***Note that these are not generalized equations. Instead, these describe balanced insterferometers whose branches have not undergone a phase shift."
   ]
  },
  {
   "attachments": {},
   "cell_type": "markdown",
   "metadata": {},
   "source": [
    "### Quick Check\n",
    "If intensity of the input wave is .5 mW, what is the intensity at the output?"
   ]
  },
  {
   "attachments": {},
   "cell_type": "markdown",
   "metadata": {},
   "source": [
    "# Basic Definitions"
   ]
  },
  {
   "attachments": {},
   "cell_type": "markdown",
   "metadata": {},
   "source": [
    "It would be helpful to mathematically model the light in our waveguides. We can start to build a model by considering the equation for a plane wave."
   ]
  },
  {
   "attachments": {},
   "cell_type": "markdown",
   "metadata": {},
   "source": [
    "$$    \n",
    "    E = E_0 e^{i(\\omega t - \\beta z)}\n",
    "$$\n",
    "\n",
    "Propogation Constant of Light:\n",
    "$$\n",
    "    \\beta = \\frac{2 \\pi n}{\\lambda} \n",
    "$$"
   ]
  },
  {
   "attachments": {},
   "cell_type": "markdown",
   "metadata": {},
   "source": [
    "If the equations above describe the propogation of the wave before the light gets split by the MZI, we can represent the two resulting beams as follows."
   ]
  },
  {
   "attachments": {},
   "cell_type": "markdown",
   "metadata": {},
   "source": [
    "$$\n",
    "E_{o1} = \\frac{E_{i}}{\\sqrt{2}}e^{-i\\beta_{1}L_{1}-\\frac{\\alpha_{1}}{2}L_{1}}\n",
    "$$"
   ]
  },
  {
   "attachments": {},
   "cell_type": "markdown",
   "metadata": {},
   "source": [
    "$$\n",
    "E_{o2} = \\frac{E_{i}}{\\sqrt{2}}e^{-i\\beta_{2}L_{2}-\\frac{\\alpha_{2}}{2}L_{2}}\n",
    "$$"
   ]
  },
  {
   "attachments": {},
   "cell_type": "markdown",
   "metadata": {},
   "source": [
    "*** As the light travels through the waveguide we can imagine that it will experience some degree of loss. The 'α' term that appeared in the exponents is the loss coefficient. For convenience, the following examples will assume that α = 0, or that there is zero loss in our waveguides."
   ]
  },
  {
   "attachments": {},
   "cell_type": "markdown",
   "metadata": {},
   "source": [
    "And finally the intensity of the the recombined light at the end of the MZI can be described like so:"
   ]
  },
  {
   "attachments": {},
   "cell_type": "markdown",
   "metadata": {},
   "source": [
    "$$\n",
    "I_{output} = \\frac{I_{input}}{4} \\lvert E_{o1} + E_{o2} \\lvert ^2 \n",
    "$$"
   ]
  },
  {
   "attachments": {},
   "cell_type": "markdown",
   "metadata": {},
   "source": [
    "# Analysis of Imblanced MZI's"
   ]
  },
  {
   "attachments": {},
   "cell_type": "markdown",
   "metadata": {},
   "source": [
    "The equation below is the simplified version of the above expressions assuming no difference in the propogation constants of the two different waveguides and no loss."
   ]
  },
  {
   "attachments": {},
   "cell_type": "markdown",
   "metadata": {},
   "source": [
    "$$\n",
    "I_{output} = \\frac{I_{input}}{2}(1 + cos(\\beta \\Delta L))\n",
    "$$"
   ]
  },
  {
   "cell_type": "code",
   "execution_count": 2,
   "metadata": {},
   "outputs": [
    {
     "name": "stdout",
     "output_type": "stream",
     "text": [
      "You can install `pip install gdsfactory[full]` for better visualization\n"
     ]
    },
    {
     "data": {
      "image/png": "[encoded data removed]",
      "text/plain": [
       "<Figure size 640x480 with 1 Axes>"
      ]
     },
     "metadata": {},
     "output_type": "display_data"
    },
    {
     "name": "stdout",
     "output_type": "stream",
     "text": [
      "my_component: uid a71ccce9, ports [], references ['mzi_1'], 0 polygons\n"
     ]
    }
   ],
   "source": [
    "import gdsfactory as gf\n",
    "\n",
    "PDK = gf.get_generic_pdk()\n",
    "PDK.activate()\n",
    "\n",
    "c = gf.Component(\"my_component\")\n",
    "mzi = c << gf.components.mzi(delta_length=15)\n",
    "\n",
    "c\n"
   ]
  },
  {
   "attachments": {},
   "cell_type": "markdown",
   "metadata": {},
   "source": [
    "# Thermo-Optic Effect:"
   ]
  },
  {
   "attachments": {},
   "cell_type": "markdown",
   "metadata": {},
   "source": [
    "While a balanced MZI will not experience a phase shift due to a difference in path length, we can introduce a phasae shift by utilizing other methods. The thermo-optic effect describes the effect of heat on the phase of light. By heating up one of the waveguide in the MZI, we can control the phase shift of that waveguide and therefor the intensity of the output. This is a practical way to turn our otherwise static MZI in to a switch that we can control."
   ]
  },
  {
   "attachments": {},
   "cell_type": "markdown",
   "metadata": {},
   "source": [
    "![Image of a thermo-optic switch](https://raw.githubusercontent.com/BYUCamachoLab/Photonics-Bootcamp/main/book/images/Notebook_Images/thermo_optic_switch.png)"
   ]
  },
  {
   "attachments": {},
   "cell_type": "markdown",
   "metadata": {},
   "source": []
  },
  {
   "attachments": {},
   "cell_type": "markdown",
   "metadata": {},
   "source": [
    "$$\n",
    "I_{output} = \\frac{I_{input}}{2}(1 + cos(\\Delta\\beta L))\n",
    "$$"
   ]
  }
 ],
 "metadata": {
  "kernelspec": {
   "display_name": "Python 3",
   "language": "python",
   "name": "python3"
  },
  "language_info": {
   "codemirror_mode": {
    "name": "ipython",
    "version": 3
   },
   "file_extension": ".py",
   "mimetype": "text/x-python",
   "name": "python",
   "nbconvert_exporter": "python",
   "pygments_lexer": "ipython3",
   "version": "3.11.3"
  },
  "orig_nbformat": 4
 },
 "nbformat": 4,
 "nbformat_minor": 2
}
